{
  "nbformat": 4,
  "nbformat_minor": 0,
  "metadata": {
    "colab": {
      "provenance": [],
      "collapsed_sections": [
        "L-7dHKeyYvmO"
      ],
      "authorship_tag": "ABX9TyNwUFzqpYVm77TIrfP+1V+t",
      "include_colab_link": true
    },
    "kernelspec": {
      "name": "python3",
      "display_name": "Python 3"
    },
    "language_info": {
      "name": "python"
    }
  },
  "cells": [
    {
      "cell_type": "markdown",
      "metadata": {
        "id": "view-in-github",
        "colab_type": "text"
      },
      "source": [
        "<a href=\"https://colab.research.google.com/github/pramit46/LLMTry/blob/main/ANN.ipynb\" target=\"_parent\"><img src=\"https://colab.research.google.com/assets/colab-badge.svg\" alt=\"Open In Colab\"/></a>"
      ]
    },
    {
      "cell_type": "markdown",
      "source": [
        "## Another POC with Boston Housing Dataset"
      ],
      "metadata": {
        "id": "RYoE3YjVoFgG"
      }
    },
    {
      "cell_type": "code",
      "source": [
        "from keras.datasets import boston_housing"
      ],
      "metadata": {
        "id": "MN1E0cLYKOly"
      },
      "execution_count": null,
      "outputs": []
    },
    {
      "cell_type": "code",
      "source": [
        "(X_train,y_train),(X_test,y_test)=boston_housing.load_data()"
      ],
      "metadata": {
        "id": "TVy4UiDoQJ5k",
        "colab": {
          "base_uri": "https://localhost:8080/"
        },
        "outputId": "47a5d57f-7cce-4670-d9c9-1e9bcdf05f93"
      },
      "execution_count": null,
      "outputs": [
        {
          "output_type": "stream",
          "name": "stdout",
          "text": [
            "Downloading data from https://storage.googleapis.com/tensorflow/tf-keras-datasets/boston_housing.npz\n",
            "\u001b[1m57026/57026\u001b[0m \u001b[32m━━━━━━━━━━━━━━━━━━━━\u001b[0m\u001b[37m\u001b[0m \u001b[1m0s\u001b[0m 0us/step\n"
          ]
        }
      ]
    },
    {
      "cell_type": "code",
      "source": [
        "from sklearn.preprocessing import StandardScaler"
      ],
      "metadata": {
        "id": "t4VoEfpjQRrm"
      },
      "execution_count": null,
      "outputs": []
    },
    {
      "cell_type": "code",
      "source": [
        "sd=StandardScaler()"
      ],
      "metadata": {
        "id": "YMAWP3J6QXAP"
      },
      "execution_count": null,
      "outputs": []
    },
    {
      "cell_type": "code",
      "source": [
        "X_train=sd.fit_transform(X_train)"
      ],
      "metadata": {
        "id": "zluRadYjQ1cl"
      },
      "execution_count": null,
      "outputs": []
    },
    {
      "cell_type": "code",
      "source": [
        "X_train.shape"
      ],
      "metadata": {
        "colab": {
          "base_uri": "https://localhost:8080/"
        },
        "id": "a0ONWBd5SNV8",
        "outputId": "3e2deed2-8b1a-497a-8845-5c55a182ef9c"
      },
      "execution_count": null,
      "outputs": [
        {
          "output_type": "execute_result",
          "data": {
            "text/plain": [
              "(404, 13)"
            ]
          },
          "metadata": {},
          "execution_count": 20
        }
      ]
    },
    {
      "cell_type": "code",
      "source": [
        "X_test=sd.transform(X_test)"
      ],
      "metadata": {
        "id": "5pMDvoHeSPv6"
      },
      "execution_count": null,
      "outputs": []
    },
    {
      "cell_type": "code",
      "source": [
        "from keras.layers import Dense\n",
        "from keras.models import Sequential\n",
        "from keras.utils import plot_model"
      ],
      "metadata": {
        "id": "weNDlUdwSbqv"
      },
      "execution_count": null,
      "outputs": []
    },
    {
      "cell_type": "code",
      "source": [
        "model = Sequential([\n",
        "    Dense(64, activation='relu', input_shape=(X_train.shape[1],)),\n",
        "    Dense(32, activation='relu'),\n",
        "    Dense(1)\n",
        "])"
      ],
      "metadata": {
        "id": "KvDF6RkBSoiE",
        "colab": {
          "base_uri": "https://localhost:8080/"
        },
        "outputId": "8067f011-5d68-4b1c-f5bc-37050c479560"
      },
      "execution_count": null,
      "outputs": [
        {
          "output_type": "stream",
          "name": "stderr",
          "text": [
            "/usr/local/lib/python3.10/dist-packages/keras/src/layers/core/dense.py:87: UserWarning: Do not pass an `input_shape`/`input_dim` argument to a layer. When using Sequential models, prefer using an `Input(shape)` object as the first layer in the model instead.\n",
            "  super().__init__(activity_regularizer=activity_regularizer, **kwargs)\n"
          ]
        }
      ]
    },
    {
      "cell_type": "code",
      "source": [
        "model.summary()"
      ],
      "metadata": {
        "colab": {
          "base_uri": "https://localhost:8080/",
          "height": 229
        },
        "id": "DKSutTiPTvjv",
        "outputId": "22fcb7d0-7050-49da-e3b5-1380226906ed"
      },
      "execution_count": null,
      "outputs": [
        {
          "output_type": "display_data",
          "data": {
            "text/plain": [
              "\u001b[1mModel: \"sequential_1\"\u001b[0m\n"
            ],
            "text/html": [
              "<pre style=\"white-space:pre;overflow-x:auto;line-height:normal;font-family:Menlo,'DejaVu Sans Mono',consolas,'Courier New',monospace\"><span style=\"font-weight: bold\">Model: \"sequential_1\"</span>\n",
              "</pre>\n"
            ]
          },
          "metadata": {}
        },
        {
          "output_type": "display_data",
          "data": {
            "text/plain": [
              "┏━━━━━━━━━━━━━━━━━━━━━━━━━━━━━━━━━━━━━━┳━━━━━━━━━━━━━━━━━━━━━━━━━━━━━┳━━━━━━━━━━━━━━━━━┓\n",
              "┃\u001b[1m \u001b[0m\u001b[1mLayer (type)                        \u001b[0m\u001b[1m \u001b[0m┃\u001b[1m \u001b[0m\u001b[1mOutput Shape               \u001b[0m\u001b[1m \u001b[0m┃\u001b[1m \u001b[0m\u001b[1m        Param #\u001b[0m\u001b[1m \u001b[0m┃\n",
              "┡━━━━━━━━━━━━━━━━━━━━━━━━━━━━━━━━━━━━━━╇━━━━━━━━━━━━━━━━━━━━━━━━━━━━━╇━━━━━━━━━━━━━━━━━┩\n",
              "│ dense_3 (\u001b[38;5;33mDense\u001b[0m)                      │ (\u001b[38;5;45mNone\u001b[0m, \u001b[38;5;34m64\u001b[0m)                  │             \u001b[38;5;34m896\u001b[0m │\n",
              "├──────────────────────────────────────┼─────────────────────────────┼─────────────────┤\n",
              "│ dense_4 (\u001b[38;5;33mDense\u001b[0m)                      │ (\u001b[38;5;45mNone\u001b[0m, \u001b[38;5;34m32\u001b[0m)                  │           \u001b[38;5;34m2,080\u001b[0m │\n",
              "├──────────────────────────────────────┼─────────────────────────────┼─────────────────┤\n",
              "│ dense_5 (\u001b[38;5;33mDense\u001b[0m)                      │ (\u001b[38;5;45mNone\u001b[0m, \u001b[38;5;34m1\u001b[0m)                   │              \u001b[38;5;34m33\u001b[0m │\n",
              "└──────────────────────────────────────┴─────────────────────────────┴─────────────────┘\n"
            ],
            "text/html": [
              "<pre style=\"white-space:pre;overflow-x:auto;line-height:normal;font-family:Menlo,'DejaVu Sans Mono',consolas,'Courier New',monospace\">┏━━━━━━━━━━━━━━━━━━━━━━━━━━━━━━━━━━━━━━┳━━━━━━━━━━━━━━━━━━━━━━━━━━━━━┳━━━━━━━━━━━━━━━━━┓\n",
              "┃<span style=\"font-weight: bold\"> Layer (type)                         </span>┃<span style=\"font-weight: bold\"> Output Shape                </span>┃<span style=\"font-weight: bold\">         Param # </span>┃\n",
              "┡━━━━━━━━━━━━━━━━━━━━━━━━━━━━━━━━━━━━━━╇━━━━━━━━━━━━━━━━━━━━━━━━━━━━━╇━━━━━━━━━━━━━━━━━┩\n",
              "│ dense_3 (<span style=\"color: #0087ff; text-decoration-color: #0087ff\">Dense</span>)                      │ (<span style=\"color: #00d7ff; text-decoration-color: #00d7ff\">None</span>, <span style=\"color: #00af00; text-decoration-color: #00af00\">64</span>)                  │             <span style=\"color: #00af00; text-decoration-color: #00af00\">896</span> │\n",
              "├──────────────────────────────────────┼─────────────────────────────┼─────────────────┤\n",
              "│ dense_4 (<span style=\"color: #0087ff; text-decoration-color: #0087ff\">Dense</span>)                      │ (<span style=\"color: #00d7ff; text-decoration-color: #00d7ff\">None</span>, <span style=\"color: #00af00; text-decoration-color: #00af00\">32</span>)                  │           <span style=\"color: #00af00; text-decoration-color: #00af00\">2,080</span> │\n",
              "├──────────────────────────────────────┼─────────────────────────────┼─────────────────┤\n",
              "│ dense_5 (<span style=\"color: #0087ff; text-decoration-color: #0087ff\">Dense</span>)                      │ (<span style=\"color: #00d7ff; text-decoration-color: #00d7ff\">None</span>, <span style=\"color: #00af00; text-decoration-color: #00af00\">1</span>)                   │              <span style=\"color: #00af00; text-decoration-color: #00af00\">33</span> │\n",
              "└──────────────────────────────────────┴─────────────────────────────┴─────────────────┘\n",
              "</pre>\n"
            ]
          },
          "metadata": {}
        },
        {
          "output_type": "display_data",
          "data": {
            "text/plain": [
              "\u001b[1m Total params: \u001b[0m\u001b[38;5;34m3,009\u001b[0m (11.75 KB)\n"
            ],
            "text/html": [
              "<pre style=\"white-space:pre;overflow-x:auto;line-height:normal;font-family:Menlo,'DejaVu Sans Mono',consolas,'Courier New',monospace\"><span style=\"font-weight: bold\"> Total params: </span><span style=\"color: #00af00; text-decoration-color: #00af00\">3,009</span> (11.75 KB)\n",
              "</pre>\n"
            ]
          },
          "metadata": {}
        },
        {
          "output_type": "display_data",
          "data": {
            "text/plain": [
              "\u001b[1m Trainable params: \u001b[0m\u001b[38;5;34m3,009\u001b[0m (11.75 KB)\n"
            ],
            "text/html": [
              "<pre style=\"white-space:pre;overflow-x:auto;line-height:normal;font-family:Menlo,'DejaVu Sans Mono',consolas,'Courier New',monospace\"><span style=\"font-weight: bold\"> Trainable params: </span><span style=\"color: #00af00; text-decoration-color: #00af00\">3,009</span> (11.75 KB)\n",
              "</pre>\n"
            ]
          },
          "metadata": {}
        },
        {
          "output_type": "display_data",
          "data": {
            "text/plain": [
              "\u001b[1m Non-trainable params: \u001b[0m\u001b[38;5;34m0\u001b[0m (0.00 B)\n"
            ],
            "text/html": [
              "<pre style=\"white-space:pre;overflow-x:auto;line-height:normal;font-family:Menlo,'DejaVu Sans Mono',consolas,'Courier New',monospace\"><span style=\"font-weight: bold\"> Non-trainable params: </span><span style=\"color: #00af00; text-decoration-color: #00af00\">0</span> (0.00 B)\n",
              "</pre>\n"
            ]
          },
          "metadata": {}
        }
      ]
    },
    {
      "cell_type": "code",
      "source": [
        "# Plot the ANN model\n",
        "plot_model(model, to_file='model_reg.png', show_shapes=True, show_layer_names=True)\n",
        "plt.figure(figsize=(8, 6))\n",
        "img = plt.imread('model_reg.png')\n",
        "plt.imshow(img)\n",
        "plt.axis('off')\n",
        "plt.show()"
      ],
      "metadata": {
        "colab": {
          "base_uri": "https://localhost:8080/",
          "height": 499
        },
        "id": "tFRgu2rqUS6R",
        "outputId": "339b00bf-83a2-45ef-deb3-1fd73cc8c9d1"
      },
      "execution_count": null,
      "outputs": [
        {
          "output_type": "display_data",
          "data": {
            "text/plain": [
              "<Figure size 800x600 with 1 Axes>"
            ],
            "image/png": "[encoded data removed]"
          },
          "metadata": {}
        }
      ]
    },
    {
      "cell_type": "code",
      "source": [
        "model.compile(optimizer=\"adam\", loss=\"mean_squared_error\" )"
      ],
      "metadata": {
        "id": "QtlAEYxyUT-h"
      },
      "execution_count": null,
      "outputs": []
    },
    {
      "cell_type": "code",
      "source": [
        "#h=model.fit(X_train, y_train, epochs=100, batch_size=10, validation_split=0.2, verbose=\"false\")"
      ],
      "metadata": {
        "id": "e27wlCPU6Tyv"
      },
      "execution_count": null,
      "outputs": []
    },
    {
      "cell_type": "code",
      "source": [
        "h=model.fit(X_train, y_train, epochs=100, batch_size=32, validation_split=0.1)"
      ],
      "metadata": {
        "colab": {
          "base_uri": "https://localhost:8080/"
        },
        "id": "z22xKUjxNKgo",
        "outputId": "fe149ebe-9087-4a40-9406-24db83d88901"
      },
      "execution_count": null,
      "outputs": [
        {
          "output_type": "stream",
          "name": "stdout",
          "text": [
            "Epoch 1/100\n",
            "\u001b[1m12/12\u001b[0m \u001b[32m━━━━━━━━━━━━━━━━━━━━\u001b[0m\u001b[37m\u001b[0m \u001b[1m0s\u001b[0m 10ms/step - loss: 0.7923 - val_loss: 3.3588\n",
            "Epoch 2/100\n",
            "\u001b[1m12/12\u001b[0m \u001b[32m━━━━━━━━━━━━━━━━━━━━\u001b[0m\u001b[37m\u001b[0m \u001b[1m0s\u001b[0m 4ms/step - loss: 0.7408 - val_loss: 3.4988\n",
            "Epoch 3/100\n",
            "\u001b[1m12/12\u001b[0m \u001b[32m━━━━━━━━━━━━━━━━━━━━\u001b[0m\u001b[37m\u001b[0m \u001b[1m0s\u001b[0m 5ms/step - loss: 0.5273 - val_loss: 3.5110\n",
            "Epoch 4/100\n",
            "\u001b[1m12/12\u001b[0m \u001b[32m━━━━━━━━━━━━━━━━━━━━\u001b[0m\u001b[37m\u001b[0m \u001b[1m0s\u001b[0m 4ms/step - loss: 0.5619 - val_loss: 3.6032\n",
            "Epoch 5/100\n",
            "\u001b[1m12/12\u001b[0m \u001b[32m━━━━━━━━━━━━━━━━━━━━\u001b[0m\u001b[37m\u001b[0m \u001b[1m0s\u001b[0m 4ms/step - loss: 0.4971 - val_loss: 3.4900\n",
            "Epoch 6/100\n",
            "\u001b[1m12/12\u001b[0m \u001b[32m━━━━━━━━━━━━━━━━━━━━\u001b[0m\u001b[37m\u001b[0m \u001b[1m0s\u001b[0m 4ms/step - loss: 0.4460 - val_loss: 3.4897\n",
            "Epoch 7/100\n",
            "\u001b[1m12/12\u001b[0m \u001b[32m━━━━━━━━━━━━━━━━━━━━\u001b[0m\u001b[37m\u001b[0m \u001b[1m0s\u001b[0m 4ms/step - loss: 0.5477 - val_loss: 3.5349\n",
            "Epoch 8/100\n",
            "\u001b[1m12/12\u001b[0m \u001b[32m━━━━━━━━━━━━━━━━━━━━\u001b[0m\u001b[37m\u001b[0m \u001b[1m0s\u001b[0m 6ms/step - loss: 0.5798 - val_loss: 3.4520\n",
            "Epoch 9/100\n",
            "\u001b[1m12/12\u001b[0m \u001b[32m━━━━━━━━━━━━━━━━━━━━\u001b[0m\u001b[37m\u001b[0m \u001b[1m0s\u001b[0m 5ms/step - loss: 0.5776 - val_loss: 3.5401\n",
            "Epoch 10/100\n",
            "\u001b[1m12/12\u001b[0m \u001b[32m━━━━━━━━━━━━━━━━━━━━\u001b[0m\u001b[37m\u001b[0m \u001b[1m0s\u001b[0m 4ms/step - loss: 0.4639 - val_loss: 3.3688\n",
            "Epoch 11/100\n",
            "\u001b[1m12/12\u001b[0m \u001b[32m━━━━━━━━━━━━━━━━━━━━\u001b[0m\u001b[37m\u001b[0m \u001b[1m0s\u001b[0m 5ms/step - loss: 0.4140 - val_loss: 3.4476\n",
            "Epoch 12/100\n",
            "\u001b[1m12/12\u001b[0m \u001b[32m━━━━━━━━━━━━━━━━━━━━\u001b[0m\u001b[37m\u001b[0m \u001b[1m0s\u001b[0m 6ms/step - loss: 0.4189 - val_loss: 3.4802\n",
            "Epoch 13/100\n",
            "\u001b[1m12/12\u001b[0m \u001b[32m━━━━━━━━━━━━━━━━━━━━\u001b[0m\u001b[37m\u001b[0m \u001b[1m0s\u001b[0m 4ms/step - loss: 0.4738 - val_loss: 3.4764\n",
            "Epoch 14/100\n",
            "\u001b[1m12/12\u001b[0m \u001b[32m━━━━━━━━━━━━━━━━━━━━\u001b[0m\u001b[37m\u001b[0m \u001b[1m0s\u001b[0m 4ms/step - loss: 0.4046 - val_loss: 3.3973\n",
            "Epoch 15/100\n",
            "\u001b[1m12/12\u001b[0m \u001b[32m━━━━━━━━━━━━━━━━━━━━\u001b[0m\u001b[37m\u001b[0m \u001b[1m0s\u001b[0m 4ms/step - loss: 0.4176 - val_loss: 3.4949\n",
            "Epoch 16/100\n",
            "\u001b[1m12/12\u001b[0m \u001b[32m━━━━━━━━━━━━━━━━━━━━\u001b[0m\u001b[37m\u001b[0m \u001b[1m0s\u001b[0m 4ms/step - loss: 0.4889 - val_loss: 3.3516\n",
            "Epoch 17/100\n",
            "\u001b[1m12/12\u001b[0m \u001b[32m━━━━━━━━━━━━━━━━━━━━\u001b[0m\u001b[37m\u001b[0m \u001b[1m0s\u001b[0m 4ms/step - loss: 0.4828 - val_loss: 3.7123\n",
            "Epoch 18/100\n",
            "\u001b[1m12/12\u001b[0m \u001b[32m━━━━━━━━━━━━━━━━━━━━\u001b[0m\u001b[37m\u001b[0m \u001b[1m0s\u001b[0m 6ms/step - loss: 0.4391 - val_loss: 3.3928\n",
            "Epoch 19/100\n",
            "\u001b[1m12/12\u001b[0m \u001b[32m━━━━━━━━━━━━━━━━━━━━\u001b[0m\u001b[37m\u001b[0m \u001b[1m0s\u001b[0m 5ms/step - loss: 0.5397 - val_loss: 3.6154\n",
            "Epoch 20/100\n",
            "\u001b[1m12/12\u001b[0m \u001b[32m━━━━━━━━━━━━━━━━━━━━\u001b[0m\u001b[37m\u001b[0m \u001b[1m0s\u001b[0m 4ms/step - loss: 0.4375 - val_loss: 3.4243\n",
            "Epoch 21/100\n",
            "\u001b[1m12/12\u001b[0m \u001b[32m━━━━━━━━━━━━━━━━━━━━\u001b[0m\u001b[37m\u001b[0m \u001b[1m0s\u001b[0m 4ms/step - loss: 0.4748 - val_loss: 3.6133\n",
            "Epoch 22/100\n",
            "\u001b[1m12/12\u001b[0m \u001b[32m━━━━━━━━━━━━━━━━━━━━\u001b[0m\u001b[37m\u001b[0m \u001b[1m0s\u001b[0m 4ms/step - loss: 0.4202 - val_loss: 3.3711\n",
            "Epoch 23/100\n",
            "\u001b[1m12/12\u001b[0m \u001b[32m━━━━━━━━━━━━━━━━━━━━\u001b[0m\u001b[37m\u001b[0m \u001b[1m0s\u001b[0m 4ms/step - loss: 0.5122 - val_loss: 3.4466\n",
            "Epoch 24/100\n",
            "\u001b[1m12/12\u001b[0m \u001b[32m━━━━━━━━━━━━━━━━━━━━\u001b[0m\u001b[37m\u001b[0m \u001b[1m0s\u001b[0m 5ms/step - loss: 0.4352 - val_loss: 3.4849\n",
            "Epoch 25/100\n",
            "\u001b[1m12/12\u001b[0m \u001b[32m━━━━━━━━━━━━━━━━━━━━\u001b[0m\u001b[37m\u001b[0m \u001b[1m0s\u001b[0m 4ms/step - loss: 0.4426 - val_loss: 3.3764\n",
            "Epoch 26/100\n",
            "\u001b[1m12/12\u001b[0m \u001b[32m━━━━━━━━━━━━━━━━━━━━\u001b[0m\u001b[37m\u001b[0m \u001b[1m0s\u001b[0m 6ms/step - loss: 0.4817 - val_loss: 3.3885\n",
            "Epoch 27/100\n",
            "\u001b[1m12/12\u001b[0m \u001b[32m━━━━━━━━━━━━━━━━━━━━\u001b[0m\u001b[37m\u001b[0m \u001b[1m0s\u001b[0m 5ms/step - loss: 0.5625 - val_loss: 3.4909\n",
            "Epoch 28/100\n",
            "\u001b[1m12/12\u001b[0m \u001b[32m━━━━━━━━━━━━━━━━━━━━\u001b[0m\u001b[37m\u001b[0m \u001b[1m0s\u001b[0m 6ms/step - loss: 0.4650 - val_loss: 3.5228\n",
            "Epoch 29/100\n",
            "\u001b[1m12/12\u001b[0m \u001b[32m━━━━━━━━━━━━━━━━━━━━\u001b[0m\u001b[37m\u001b[0m \u001b[1m0s\u001b[0m 4ms/step - loss: 0.3846 - val_loss: 3.4813\n",
            "Epoch 30/100\n",
            "\u001b[1m12/12\u001b[0m \u001b[32m━━━━━━━━━━━━━━━━━━━━\u001b[0m\u001b[37m\u001b[0m \u001b[1m0s\u001b[0m 4ms/step - loss: 0.4557 - val_loss: 3.4068\n",
            "Epoch 31/100\n",
            "\u001b[1m12/12\u001b[0m \u001b[32m━━━━━━━━━━━━━━━━━━━━\u001b[0m\u001b[37m\u001b[0m \u001b[1m0s\u001b[0m 4ms/step - loss: 0.4164 - val_loss: 3.4338\n",
            "Epoch 32/100\n",
            "\u001b[1m12/12\u001b[0m \u001b[32m━━━━━━━━━━━━━━━━━━━━\u001b[0m\u001b[37m\u001b[0m \u001b[1m0s\u001b[0m 4ms/step - loss: 0.3642 - val_loss: 3.5497\n",
            "Epoch 33/100\n",
            "\u001b[1m12/12\u001b[0m \u001b[32m━━━━━━━━━━━━━━━━━━━━\u001b[0m\u001b[37m\u001b[0m \u001b[1m0s\u001b[0m 4ms/step - loss: 0.3893 - val_loss: 3.3365\n",
            "Epoch 34/100\n",
            "\u001b[1m12/12\u001b[0m \u001b[32m━━━━━━━━━━━━━━━━━━━━\u001b[0m\u001b[37m\u001b[0m \u001b[1m0s\u001b[0m 4ms/step - loss: 0.4986 - val_loss: 3.7843\n",
            "Epoch 35/100\n",
            "\u001b[1m12/12\u001b[0m \u001b[32m━━━━━━━━━━━━━━━━━━━━\u001b[0m\u001b[37m\u001b[0m \u001b[1m0s\u001b[0m 6ms/step - loss: 0.4946 - val_loss: 3.3416\n",
            "Epoch 36/100\n",
            "\u001b[1m12/12\u001b[0m \u001b[32m━━━━━━━━━━━━━━━━━━━━\u001b[0m\u001b[37m\u001b[0m \u001b[1m0s\u001b[0m 6ms/step - loss: 0.5009 - val_loss: 3.4591\n",
            "Epoch 37/100\n",
            "\u001b[1m12/12\u001b[0m \u001b[32m━━━━━━━━━━━━━━━━━━━━\u001b[0m\u001b[37m\u001b[0m \u001b[1m0s\u001b[0m 6ms/step - loss: 0.5734 - val_loss: 3.5308\n",
            "Epoch 38/100\n",
            "\u001b[1m12/12\u001b[0m \u001b[32m━━━━━━━━━━━━━━━━━━━━\u001b[0m\u001b[37m\u001b[0m \u001b[1m0s\u001b[0m 4ms/step - loss: 0.4356 - val_loss: 3.3594\n",
            "Epoch 39/100\n",
            "\u001b[1m12/12\u001b[0m \u001b[32m━━━━━━━━━━━━━━━━━━━━\u001b[0m\u001b[37m\u001b[0m \u001b[1m0s\u001b[0m 4ms/step - loss: 0.3344 - val_loss: 3.5954\n",
            "Epoch 40/100\n",
            "\u001b[1m12/12\u001b[0m \u001b[32m━━━━━━━━━━━━━━━━━━━━\u001b[0m\u001b[37m\u001b[0m \u001b[1m0s\u001b[0m 4ms/step - loss: 0.5174 - val_loss: 3.3589\n",
            "Epoch 41/100\n",
            "\u001b[1m12/12\u001b[0m \u001b[32m━━━━━━━━━━━━━━━━━━━━\u001b[0m\u001b[37m\u001b[0m \u001b[1m0s\u001b[0m 4ms/step - loss: 0.3636 - val_loss: 3.5647\n",
            "Epoch 42/100\n",
            "\u001b[1m12/12\u001b[0m \u001b[32m━━━━━━━━━━━━━━━━━━━━\u001b[0m\u001b[37m\u001b[0m \u001b[1m0s\u001b[0m 6ms/step - loss: 0.3724 - val_loss: 3.5826\n",
            "Epoch 43/100\n",
            "\u001b[1m12/12\u001b[0m \u001b[32m━━━━━━━━━━━━━━━━━━━━\u001b[0m\u001b[37m\u001b[0m \u001b[1m0s\u001b[0m 4ms/step - loss: 0.4394 - val_loss: 3.4068\n",
            "Epoch 44/100\n",
            "\u001b[1m12/12\u001b[0m \u001b[32m━━━━━━━━━━━━━━━━━━━━\u001b[0m\u001b[37m\u001b[0m \u001b[1m0s\u001b[0m 7ms/step - loss: 0.3869 - val_loss: 3.4570\n",
            "Epoch 45/100\n",
            "\u001b[1m12/12\u001b[0m \u001b[32m━━━━━━━━━━━━━━━━━━━━\u001b[0m\u001b[37m\u001b[0m \u001b[1m0s\u001b[0m 5ms/step - loss: 0.4403 - val_loss: 3.5143\n",
            "Epoch 46/100\n",
            "\u001b[1m12/12\u001b[0m \u001b[32m━━━━━━━━━━━━━━━━━━━━\u001b[0m\u001b[37m\u001b[0m \u001b[1m0s\u001b[0m 6ms/step - loss: 0.4992 - val_loss: 3.3352\n",
            "Epoch 47/100\n",
            "\u001b[1m12/12\u001b[0m \u001b[32m━━━━━━━━━━━━━━━━━━━━\u001b[0m\u001b[37m\u001b[0m \u001b[1m0s\u001b[0m 4ms/step - loss: 0.5191 - val_loss: 3.3906\n",
            "Epoch 48/100\n",
            "\u001b[1m12/12\u001b[0m \u001b[32m━━━━━━━━━━━━━━━━━━━━\u001b[0m\u001b[37m\u001b[0m \u001b[1m0s\u001b[0m 4ms/step - loss: 0.4569 - val_loss: 3.6087\n",
            "Epoch 49/100\n",
            "\u001b[1m12/12\u001b[0m \u001b[32m━━━━━━━━━━━━━━━━━━━━\u001b[0m\u001b[37m\u001b[0m \u001b[1m0s\u001b[0m 4ms/step - loss: 0.3536 - val_loss: 3.3841\n",
            "Epoch 50/100\n",
            "\u001b[1m12/12\u001b[0m \u001b[32m━━━━━━━━━━━━━━━━━━━━\u001b[0m\u001b[37m\u001b[0m \u001b[1m0s\u001b[0m 4ms/step - loss: 0.4613 - val_loss: 3.4170\n",
            "Epoch 51/100\n",
            "\u001b[1m12/12\u001b[0m \u001b[32m━━━━━━━━━━━━━━━━━━━━\u001b[0m\u001b[37m\u001b[0m \u001b[1m0s\u001b[0m 4ms/step - loss: 0.3868 - val_loss: 3.4334\n",
            "Epoch 52/100\n",
            "\u001b[1m12/12\u001b[0m \u001b[32m━━━━━━━━━━━━━━━━━━━━\u001b[0m\u001b[37m\u001b[0m \u001b[1m0s\u001b[0m 4ms/step - loss: 0.3209 - val_loss: 3.5950\n",
            "Epoch 53/100\n",
            "\u001b[1m12/12\u001b[0m \u001b[32m━━━━━━━━━━━━━━━━━━━━\u001b[0m\u001b[37m\u001b[0m \u001b[1m0s\u001b[0m 7ms/step - loss: 0.3490 - val_loss: 3.3479\n",
            "Epoch 54/100\n",
            "\u001b[1m12/12\u001b[0m \u001b[32m━━━━━━━━━━━━━━━━━━━━\u001b[0m\u001b[37m\u001b[0m \u001b[1m0s\u001b[0m 4ms/step - loss: 0.4155 - val_loss: 3.4361\n",
            "Epoch 55/100\n",
            "\u001b[1m12/12\u001b[0m \u001b[32m━━━━━━━━━━━━━━━━━━━━\u001b[0m\u001b[37m\u001b[0m \u001b[1m0s\u001b[0m 5ms/step - loss: 0.4061 - val_loss: 3.4968\n",
            "Epoch 56/100\n",
            "\u001b[1m12/12\u001b[0m \u001b[32m━━━━━━━━━━━━━━━━━━━━\u001b[0m\u001b[37m\u001b[0m \u001b[1m0s\u001b[0m 4ms/step - loss: 0.3518 - val_loss: 3.4162\n",
            "Epoch 57/100\n",
            "\u001b[1m12/12\u001b[0m \u001b[32m━━━━━━━━━━━━━━━━━━━━\u001b[0m\u001b[37m\u001b[0m \u001b[1m0s\u001b[0m 9ms/step - loss: 0.3442 - val_loss: 3.4371\n",
            "Epoch 58/100\n",
            "\u001b[1m12/12\u001b[0m \u001b[32m━━━━━━━━━━━━━━━━━━━━\u001b[0m\u001b[37m\u001b[0m \u001b[1m0s\u001b[0m 13ms/step - loss: 0.3733 - val_loss: 3.4145\n",
            "Epoch 59/100\n",
            "\u001b[1m12/12\u001b[0m \u001b[32m━━━━━━━━━━━━━━━━━━━━\u001b[0m\u001b[37m\u001b[0m \u001b[1m0s\u001b[0m 19ms/step - loss: 0.4489 - val_loss: 3.5910\n",
            "Epoch 60/100\n",
            "\u001b[1m12/12\u001b[0m \u001b[32m━━━━━━━━━━━━━━━━━━━━\u001b[0m\u001b[37m\u001b[0m \u001b[1m1s\u001b[0m 16ms/step - loss: 0.5037 - val_loss: 3.4259\n",
            "Epoch 61/100\n",
            "\u001b[1m12/12\u001b[0m \u001b[32m━━━━━━━━━━━━━━━━━━━━\u001b[0m\u001b[37m\u001b[0m \u001b[1m1s\u001b[0m 15ms/step - loss: 0.4021 - val_loss: 3.4279\n",
            "Epoch 62/100\n",
            "\u001b[1m12/12\u001b[0m \u001b[32m━━━━━━━━━━━━━━━━━━━━\u001b[0m\u001b[37m\u001b[0m \u001b[1m0s\u001b[0m 12ms/step - loss: 0.3398 - val_loss: 3.4855\n",
            "Epoch 63/100\n",
            "\u001b[1m12/12\u001b[0m \u001b[32m━━━━━━━━━━━━━━━━━━━━\u001b[0m\u001b[37m\u001b[0m \u001b[1m0s\u001b[0m 11ms/step - loss: 0.4253 - val_loss: 3.4023\n",
            "Epoch 64/100\n",
            "\u001b[1m12/12\u001b[0m \u001b[32m━━━━━━━━━━━━━━━━━━━━\u001b[0m\u001b[37m\u001b[0m \u001b[1m0s\u001b[0m 25ms/step - loss: 0.4322 - val_loss: 3.5685\n",
            "Epoch 65/100\n",
            "\u001b[1m12/12\u001b[0m \u001b[32m━━━━━━━━━━━━━━━━━━━━\u001b[0m\u001b[37m\u001b[0m \u001b[1m0s\u001b[0m 10ms/step - loss: 0.4865 - val_loss: 3.6735\n",
            "Epoch 66/100\n",
            "\u001b[1m12/12\u001b[0m \u001b[32m━━━━━━━━━━━━━━━━━━━━\u001b[0m\u001b[37m\u001b[0m \u001b[1m0s\u001b[0m 20ms/step - loss: 0.4062 - val_loss: 3.1789\n",
            "Epoch 67/100\n",
            "\u001b[1m12/12\u001b[0m \u001b[32m━━━━━━━━━━━━━━━━━━━━\u001b[0m\u001b[37m\u001b[0m \u001b[1m0s\u001b[0m 23ms/step - loss: 0.4264 - val_loss: 3.5056\n",
            "Epoch 68/100\n",
            "\u001b[1m12/12\u001b[0m \u001b[32m━━━━━━━━━━━━━━━━━━━━\u001b[0m\u001b[37m\u001b[0m \u001b[1m1s\u001b[0m 19ms/step - loss: 0.3942 - val_loss: 3.3737\n",
            "Epoch 69/100\n",
            "\u001b[1m12/12\u001b[0m \u001b[32m━━━━━━━━━━━━━━━━━━━━\u001b[0m\u001b[37m\u001b[0m \u001b[1m0s\u001b[0m 6ms/step - loss: 0.3721 - val_loss: 3.4943\n",
            "Epoch 70/100\n",
            "\u001b[1m12/12\u001b[0m \u001b[32m━━━━━━━━━━━━━━━━━━━━\u001b[0m\u001b[37m\u001b[0m \u001b[1m0s\u001b[0m 9ms/step - loss: 0.4513 - val_loss: 3.3761\n",
            "Epoch 71/100\n",
            "\u001b[1m12/12\u001b[0m \u001b[32m━━━━━━━━━━━━━━━━━━━━\u001b[0m\u001b[37m\u001b[0m \u001b[1m0s\u001b[0m 8ms/step - loss: 0.3665 - val_loss: 3.5820\n",
            "Epoch 72/100\n",
            "\u001b[1m12/12\u001b[0m \u001b[32m━━━━━━━━━━━━━━━━━━━━\u001b[0m\u001b[37m\u001b[0m \u001b[1m0s\u001b[0m 8ms/step - loss: 0.4202 - val_loss: 3.4574\n",
            "Epoch 73/100\n",
            "\u001b[1m12/12\u001b[0m \u001b[32m━━━━━━━━━━━━━━━━━━━━\u001b[0m\u001b[37m\u001b[0m \u001b[1m0s\u001b[0m 12ms/step - loss: 0.3783 - val_loss: 3.3927\n",
            "Epoch 74/100\n",
            "\u001b[1m12/12\u001b[0m \u001b[32m━━━━━━━━━━━━━━━━━━━━\u001b[0m\u001b[37m\u001b[0m \u001b[1m0s\u001b[0m 6ms/step - loss: 0.4423 - val_loss: 3.6579\n",
            "Epoch 75/100\n",
            "\u001b[1m12/12\u001b[0m \u001b[32m━━━━━━━━━━━━━━━━━━━━\u001b[0m\u001b[37m\u001b[0m \u001b[1m0s\u001b[0m 12ms/step - loss: 0.4166 - val_loss: 3.4272\n",
            "Epoch 76/100\n",
            "\u001b[1m12/12\u001b[0m \u001b[32m━━━━━━━━━━━━━━━━━━━━\u001b[0m\u001b[37m\u001b[0m \u001b[1m0s\u001b[0m 7ms/step - loss: 0.3707 - val_loss: 3.3939\n",
            "Epoch 77/100\n",
            "\u001b[1m12/12\u001b[0m \u001b[32m━━━━━━━━━━━━━━━━━━━━\u001b[0m\u001b[37m\u001b[0m \u001b[1m0s\u001b[0m 9ms/step - loss: 0.3909 - val_loss: 3.4270\n",
            "Epoch 78/100\n",
            "\u001b[1m12/12\u001b[0m \u001b[32m━━━━━━━━━━━━━━━━━━━━\u001b[0m\u001b[37m\u001b[0m \u001b[1m0s\u001b[0m 10ms/step - loss: 0.4008 - val_loss: 3.5129\n",
            "Epoch 79/100\n",
            "\u001b[1m12/12\u001b[0m \u001b[32m━━━━━━━━━━━━━━━━━━━━\u001b[0m\u001b[37m\u001b[0m \u001b[1m0s\u001b[0m 13ms/step - loss: 0.3275 - val_loss: 3.4550\n",
            "Epoch 80/100\n",
            "\u001b[1m12/12\u001b[0m \u001b[32m━━━━━━━━━━━━━━━━━━━━\u001b[0m\u001b[37m\u001b[0m \u001b[1m0s\u001b[0m 11ms/step - loss: 0.4109 - val_loss: 3.3619\n",
            "Epoch 81/100\n",
            "\u001b[1m12/12\u001b[0m \u001b[32m━━━━━━━━━━━━━━━━━━━━\u001b[0m\u001b[37m\u001b[0m \u001b[1m0s\u001b[0m 12ms/step - loss: 0.3917 - val_loss: 3.3927\n",
            "Epoch 82/100\n",
            "\u001b[1m12/12\u001b[0m \u001b[32m━━━━━━━━━━━━━━━━━━━━\u001b[0m\u001b[37m\u001b[0m \u001b[1m0s\u001b[0m 6ms/step - loss: 0.3714 - val_loss: 3.6051\n",
            "Epoch 83/100\n",
            "\u001b[1m12/12\u001b[0m \u001b[32m━━━━━━━━━━━━━━━━━━━━\u001b[0m\u001b[37m\u001b[0m \u001b[1m0s\u001b[0m 5ms/step - loss: 0.4425 - val_loss: 3.4870\n",
            "Epoch 84/100\n",
            "\u001b[1m12/12\u001b[0m \u001b[32m━━━━━━━━━━━━━━━━━━━━\u001b[0m\u001b[37m\u001b[0m \u001b[1m0s\u001b[0m 4ms/step - loss: 0.4190 - val_loss: 3.3717\n",
            "Epoch 85/100\n",
            "\u001b[1m12/12\u001b[0m \u001b[32m━━━━━━━━━━━━━━━━━━━━\u001b[0m\u001b[37m\u001b[0m \u001b[1m0s\u001b[0m 4ms/step - loss: 0.4395 - val_loss: 3.4963\n",
            "Epoch 86/100\n",
            "\u001b[1m12/12\u001b[0m \u001b[32m━━━━━━━━━━━━━━━━━━━━\u001b[0m\u001b[37m\u001b[0m \u001b[1m0s\u001b[0m 4ms/step - loss: 0.5008 - val_loss: 3.5178\n",
            "Epoch 87/100\n",
            "\u001b[1m12/12\u001b[0m \u001b[32m━━━━━━━━━━━━━━━━━━━━\u001b[0m\u001b[37m\u001b[0m \u001b[1m0s\u001b[0m 5ms/step - loss: 0.3384 - val_loss: 3.4837\n",
            "Epoch 88/100\n",
            "\u001b[1m12/12\u001b[0m \u001b[32m━━━━━━━━━━━━━━━━━━━━\u001b[0m\u001b[37m\u001b[0m \u001b[1m0s\u001b[0m 5ms/step - loss: 0.3613 - val_loss: 3.3353\n",
            "Epoch 89/100\n",
            "\u001b[1m12/12\u001b[0m \u001b[32m━━━━━━━━━━━━━━━━━━━━\u001b[0m\u001b[37m\u001b[0m \u001b[1m0s\u001b[0m 4ms/step - loss: 0.4624 - val_loss: 3.5142\n",
            "Epoch 90/100\n",
            "\u001b[1m12/12\u001b[0m \u001b[32m━━━━━━━━━━━━━━━━━━━━\u001b[0m\u001b[37m\u001b[0m \u001b[1m0s\u001b[0m 4ms/step - loss: 0.4609 - val_loss: 3.6881\n",
            "Epoch 91/100\n",
            "\u001b[1m12/12\u001b[0m \u001b[32m━━━━━━━━━━━━━━━━━━━━\u001b[0m\u001b[37m\u001b[0m \u001b[1m0s\u001b[0m 4ms/step - loss: 0.4526 - val_loss: 3.3959\n",
            "Epoch 92/100\n",
            "\u001b[1m12/12\u001b[0m \u001b[32m━━━━━━━━━━━━━━━━━━━━\u001b[0m\u001b[37m\u001b[0m \u001b[1m0s\u001b[0m 5ms/step - loss: 0.5134 - val_loss: 3.4177\n",
            "Epoch 93/100\n",
            "\u001b[1m12/12\u001b[0m \u001b[32m━━━━━━━━━━━━━━━━━━━━\u001b[0m\u001b[37m\u001b[0m \u001b[1m0s\u001b[0m 4ms/step - loss: 0.4279 - val_loss: 3.4672\n",
            "Epoch 94/100\n",
            "\u001b[1m12/12\u001b[0m \u001b[32m━━━━━━━━━━━━━━━━━━━━\u001b[0m\u001b[37m\u001b[0m \u001b[1m0s\u001b[0m 4ms/step - loss: 0.4166 - val_loss: 3.4199\n",
            "Epoch 95/100\n",
            "\u001b[1m12/12\u001b[0m \u001b[32m━━━━━━━━━━━━━━━━━━━━\u001b[0m\u001b[37m\u001b[0m \u001b[1m0s\u001b[0m 4ms/step - loss: 0.4040 - val_loss: 3.4246\n",
            "Epoch 96/100\n",
            "\u001b[1m12/12\u001b[0m \u001b[32m━━━━━━━━━━━━━━━━━━━━\u001b[0m\u001b[37m\u001b[0m \u001b[1m0s\u001b[0m 4ms/step - loss: 0.3739 - val_loss: 3.7030\n",
            "Epoch 97/100\n",
            "\u001b[1m12/12\u001b[0m \u001b[32m━━━━━━━━━━━━━━━━━━━━\u001b[0m\u001b[37m\u001b[0m \u001b[1m0s\u001b[0m 4ms/step - loss: 0.3930 - val_loss: 3.3335\n",
            "Epoch 98/100\n",
            "\u001b[1m12/12\u001b[0m \u001b[32m━━━━━━━━━━━━━━━━━━━━\u001b[0m\u001b[37m\u001b[0m \u001b[1m0s\u001b[0m 5ms/step - loss: 0.3793 - val_loss: 3.5733\n",
            "Epoch 99/100\n",
            "\u001b[1m12/12\u001b[0m \u001b[32m━━━━━━━━━━━━━━━━━━━━\u001b[0m\u001b[37m\u001b[0m \u001b[1m0s\u001b[0m 4ms/step - loss: 0.3642 - val_loss: 3.4496\n",
            "Epoch 100/100\n",
            "\u001b[1m12/12\u001b[0m \u001b[32m━━━━━━━━━━━━━━━━━━━━\u001b[0m\u001b[37m\u001b[0m \u001b[1m0s\u001b[0m 4ms/step - loss: 0.4606 - val_loss: 3.4699\n"
          ]
        }
      ]
    },
    {
      "cell_type": "code",
      "source": [
        "#model.fit(X_train, y_train, epochs=100, batch_size=10)"
      ],
      "metadata": {
        "id": "hGQHXXevNb_k"
      },
      "execution_count": null,
      "outputs": []
    },
    {
      "cell_type": "code",
      "source": [
        "# Evaluate the model on the test set\n",
        "test_loss = model.evaluate(X_test, y_test)\n",
        "\n",
        "test_loss"
      ],
      "metadata": {
        "colab": {
          "base_uri": "https://localhost:8080/"
        },
        "id": "RC0X-HSVNkgI",
        "outputId": "a77f6131-66f0-4c30-8b99-783294b1c35b"
      },
      "execution_count": null,
      "outputs": [
        {
          "output_type": "stream",
          "name": "stdout",
          "text": [
            "\u001b[1m4/4\u001b[0m \u001b[32m━━━━━━━━━━━━━━━━━━━━\u001b[0m\u001b[37m\u001b[0m \u001b[1m0s\u001b[0m 5ms/step - loss: 10.8222\n"
          ]
        },
        {
          "output_type": "execute_result",
          "data": {
            "text/plain": [
              "13.15044116973877"
            ]
          },
          "metadata": {},
          "execution_count": 38
        }
      ]
    },
    {
      "cell_type": "code",
      "source": [
        "import matplotlib.pyplot as plt\n",
        "plt.plot(h.history['loss'], label='Training Loss')\n",
        "plt.plot(h.history['val_loss'], label='Validation Loss')\n",
        "plt.xlabel('Epoch')\n",
        "plt.ylabel('Loss')\n",
        "plt.legend()\n",
        "plt.show()"
      ],
      "metadata": {
        "colab": {
          "base_uri": "https://localhost:8080/",
          "height": 449
        },
        "id": "yJDSJvYDQc-u",
        "outputId": "66b249fa-4ee5-4053-a32b-a7cd80c91c64"
      },
      "execution_count": null,
      "outputs": [
        {
          "output_type": "display_data",
          "data": {
            "text/plain": [
              "<Figure size 640x480 with 1 Axes>"
            ],
            "image/png": "[encoded data removed]"
          },
          "metadata": {}
        }
      ]
    },
    {
      "cell_type": "code",
      "source": [
        "import numpy as np\n",
        "import pandas as pd\n",
        "\n",
        "# Load the dataset\n",
        "data_url = \"http://lib.stat.cmu.edu/datasets/boston\"\n",
        "raw_df = pd.read_csv(data_url, sep=\"\\s+\", skiprows=22, header=None)\n",
        "data = np.hstack([raw_df.values[::2, :], raw_df.values[1::2, :2]])\n",
        "target = raw_df.values[1::2, 2]\n",
        "data=pd.DataFrame(data)\n",
        "raw_df.head(7)"
      ],
      "metadata": {
        "colab": {
          "base_uri": "https://localhost:8080/",
          "height": 268
        },
        "id": "uivX1sNXRoq5",
        "outputId": "ef4f440f-0558-4717-ccf9-c44beca26a5b"
      },
      "execution_count": null,
      "outputs": [
        {
          "output_type": "execute_result",
          "data": {
            "text/plain": [
              "          0      1      2    3      4      5     6       7    8      9     10\n",
              "0    0.00632  18.00   2.31  0.0  0.538  6.575  65.2  4.0900  1.0  296.0  15.3\n",
              "1  396.90000   4.98  24.00  NaN    NaN    NaN   NaN     NaN  NaN    NaN   NaN\n",
              "2    0.02731   0.00   7.07  0.0  0.469  6.421  78.9  4.9671  2.0  242.0  17.8\n",
              "3  396.90000   9.14  21.60  NaN    NaN    NaN   NaN     NaN  NaN    NaN   NaN\n",
              "4    0.02729   0.00   7.07  0.0  0.469  7.185  61.1  4.9671  2.0  242.0  17.8\n",
              "5  392.83000   4.03  34.70  NaN    NaN    NaN   NaN     NaN  NaN    NaN   NaN\n",
              "6    0.03237   0.00   2.18  0.0  0.458  6.998  45.8  6.0622  3.0  222.0  18.7"
            ],
            "text/html": [
              "\n",
              "  <div id=\"df-5d911727-4f8a-4b1a-8a1b-2f0a4485858b\" class=\"colab-df-container\">\n",
              "    <div>\n",
              "<style scoped>\n",
              "    .dataframe tbody tr th:only-of-type {\n",
              "        vertical-align: middle;\n",
              "    }\n",
              "\n",
              "    .dataframe tbody tr th {\n",
              "        vertical-align: top;\n",
              "    }\n",
              "\n",
              "    .dataframe thead th {\n",
              "        text-align: right;\n",
              "    }\n",
              "</style>\n",
              "<table border=\"1\" class=\"dataframe\">\n",
              "  <thead>\n",
              "    <tr style=\"text-align: right;\">\n",
              "      <th></th>\n",
              "      <th>0</th>\n",
              "      <th>1</th>\n",
              "      <th>2</th>\n",
              "      <th>3</th>\n",
              "      <th>4</th>\n",
              "      <th>5</th>\n",
              "      <th>6</th>\n",
              "      <th>7</th>\n",
              "      <th>8</th>\n",
              "      <th>9</th>\n",
              "      <th>10</th>\n",
              "    </tr>\n",
              "  </thead>\n",
              "  <tbody>\n",
              "    <tr>\n",
              "      <th>0</th>\n",
              "      <td>0.00632</td>\n",
              "      <td>18.00</td>\n",
              "      <td>2.31</td>\n",
              "      <td>0.0</td>\n",
              "      <td>0.538</td>\n",
              "      <td>6.575</td>\n",
              "      <td>65.2</td>\n",
              "      <td>4.0900</td>\n",
              "      <td>1.0</td>\n",
              "      <td>296.0</td>\n",
              "      <td>15.3</td>\n",
              "    </tr>\n",
              "    <tr>\n",
              "      <th>1</th>\n",
              "      <td>396.90000</td>\n",
              "      <td>4.98</td>\n",
              "      <td>24.00</td>\n",
              "      <td>NaN</td>\n",
              "      <td>NaN</td>\n",
              "      <td>NaN</td>\n",
              "      <td>NaN</td>\n",
              "      <td>NaN</td>\n",
              "      <td>NaN</td>\n",
              "      <td>NaN</td>\n",
              "      <td>NaN</td>\n",
              "    </tr>\n",
              "    <tr>\n",
              "      <th>2</th>\n",
              "      <td>0.02731</td>\n",
              "      <td>0.00</td>\n",
              "      <td>7.07</td>\n",
              "      <td>0.0</td>\n",
              "      <td>0.469</td>\n",
              "      <td>6.421</td>\n",
              "      <td>78.9</td>\n",
              "      <td>4.9671</td>\n",
              "      <td>2.0</td>\n",
              "      <td>242.0</td>\n",
              "      <td>17.8</td>\n",
              "    </tr>\n",
              "    <tr>\n",
              "      <th>3</th>\n",
              "      <td>396.90000</td>\n",
              "      <td>9.14</td>\n",
              "      <td>21.60</td>\n",
              "      <td>NaN</td>\n",
              "      <td>NaN</td>\n",
              "      <td>NaN</td>\n",
              "      <td>NaN</td>\n",
              "      <td>NaN</td>\n",
              "      <td>NaN</td>\n",
              "      <td>NaN</td>\n",
              "      <td>NaN</td>\n",
              "    </tr>\n",
              "    <tr>\n",
              "      <th>4</th>\n",
              "      <td>0.02729</td>\n",
              "      <td>0.00</td>\n",
              "      <td>7.07</td>\n",
              "      <td>0.0</td>\n",
              "      <td>0.469</td>\n",
              "      <td>7.185</td>\n",
              "      <td>61.1</td>\n",
              "      <td>4.9671</td>\n",
              "      <td>2.0</td>\n",
              "      <td>242.0</td>\n",
              "      <td>17.8</td>\n",
              "    </tr>\n",
              "    <tr>\n",
              "      <th>5</th>\n",
              "      <td>392.83000</td>\n",
              "      <td>4.03</td>\n",
              "      <td>34.70</td>\n",
              "      <td>NaN</td>\n",
              "      <td>NaN</td>\n",
              "      <td>NaN</td>\n",
              "      <td>NaN</td>\n",
              "      <td>NaN</td>\n",
              "      <td>NaN</td>\n",
              "      <td>NaN</td>\n",
              "      <td>NaN</td>\n",
              "    </tr>\n",
              "    <tr>\n",
              "      <th>6</th>\n",
              "      <td>0.03237</td>\n",
              "      <td>0.00</td>\n",
              "      <td>2.18</td>\n",
              "      <td>0.0</td>\n",
              "      <td>0.458</td>\n",
              "      <td>6.998</td>\n",
              "      <td>45.8</td>\n",
              "      <td>6.0622</td>\n",
              "      <td>3.0</td>\n",
              "      <td>222.0</td>\n",
              "      <td>18.7</td>\n",
              "    </tr>\n",
              "  </tbody>\n",
              "</table>\n",
              "</div>\n",
              "    <div class=\"colab-df-buttons\">\n",
              "\n",
              "  <div class=\"colab-df-container\">\n",
              "    <button class=\"colab-df-convert\" onclick=\"convertToInteractive('df-5d911727-4f8a-4b1a-8a1b-2f0a4485858b')\"\n",
              "            title=\"Convert this dataframe to an interactive table.\"\n",
              "            style=\"display:none;\">\n",
              "\n",
              "  <svg xmlns=\"http://www.w3.org/2000/svg\" height=\"24px\" viewBox=\"0 -960 960 960\">\n",
              "    <path d=\"M120-120v-720h720v720H120Zm60-500h600v-160H180v160Zm220 220h160v-160H400v160Zm0 220h160v-160H400v160ZM180-400h160v-160H180v160Zm440 0h160v-160H620v160ZM180-180h160v-160H180v160Zm440 0h160v-160H620v160Z\"/>\n",
              "  </svg>\n",
              "    </button>\n",
              "\n",
              "  <style>\n",
              "    .colab-df-container {\n",
              "      display:flex;\n",
              "      gap: 12px;\n",
              "    }\n",
              "\n",
              "    .colab-df-convert {\n",
              "      background-color: #E8F0FE;\n",
              "      border: none;\n",
              "      border-radius: 50%;\n",
              "      cursor: pointer;\n",
              "      display: none;\n",
              "      fill: #1967D2;\n",
              "      height: 32px;\n",
              "      padding: 0 0 0 0;\n",
              "      width: 32px;\n",
              "    }\n",
              "\n",
              "    .colab-df-convert:hover {\n",
              "      background-color: #E2EBFA;\n",
              "      box-shadow: 0px 1px 2px rgba(60, 64, 67, 0.3), 0px 1px 3px 1px rgba(60, 64, 67, 0.15);\n",
              "      fill: #174EA6;\n",
              "    }\n",
              "\n",
              "    .colab-df-buttons div {\n",
              "      margin-bottom: 4px;\n",
              "    }\n",
              "\n",
              "    [theme=dark] .colab-df-convert {\n",
              "      background-color: #3B4455;\n",
              "      fill: #D2E3FC;\n",
              "    }\n",
              "\n",
              "    [theme=dark] .colab-df-convert:hover {\n",
              "      background-color: #434B5C;\n",
              "      box-shadow: 0px 1px 3px 1px rgba(0, 0, 0, 0.15);\n",
              "      filter: drop-shadow(0px 1px 2px rgba(0, 0, 0, 0.3));\n",
              "      fill: #FFFFFF;\n",
              "    }\n",
              "  </style>\n",
              "\n",
              "    <script>\n",
              "      const buttonEl =\n",
              "        document.querySelector('#df-5d911727-4f8a-4b1a-8a1b-2f0a4485858b button.colab-df-convert');\n",
              "      buttonEl.style.display =\n",
              "        google.colab.kernel.accessAllowed ? 'block' : 'none';\n",
              "\n",
              "      async function convertToInteractive(key) {\n",
              "        const element = document.querySelector('#df-5d911727-4f8a-4b1a-8a1b-2f0a4485858b');\n",
              "        const dataTable =\n",
              "          await google.colab.kernel.invokeFunction('convertToInteractive',\n",
              "                                                    [key], {});\n",
              "        if (!dataTable) return;\n",
              "\n",
              "        const docLinkHtml = 'Like what you see? Visit the ' +\n",
              "          '<a target=\"_blank\" href=https://colab.research.google.com/notebooks/data_table.ipynb>data table notebook</a>'\n",
              "          + ' to learn more about interactive tables.';\n",
              "        element.innerHTML = '';\n",
              "        dataTable['output_type'] = 'display_data';\n",
              "        await google.colab.output.renderOutput(dataTable, element);\n",
              "        const docLink = document.createElement('div');\n",
              "        docLink.innerHTML = docLinkHtml;\n",
              "        element.appendChild(docLink);\n",
              "      }\n",
              "    </script>\n",
              "  </div>\n",
              "\n",
              "\n",
              "<div id=\"df-0ce425b2-ae11-4fbb-b746-bae0b54feb4b\">\n",
              "  <button class=\"colab-df-quickchart\" onclick=\"quickchart('df-0ce425b2-ae11-4fbb-b746-bae0b54feb4b')\"\n",
              "            title=\"Suggest charts\"\n",
              "            style=\"display:none;\">\n",
              "\n",
              "<svg xmlns=\"http://www.w3.org/2000/svg\" height=\"24px\"viewBox=\"0 0 24 24\"\n",
              "     width=\"24px\">\n",
              "    <g>\n",
              "        <path d=\"M19 3H5c-1.1 0-2 .9-2 2v14c0 1.1.9 2 2 2h14c1.1 0 2-.9 2-2V5c0-1.1-.9-2-2-2zM9 17H7v-7h2v7zm4 0h-2V7h2v10zm4 0h-2v-4h2v4z\"/>\n",
              "    </g>\n",
              "</svg>\n",
              "  </button>\n",
              "\n",
              "<style>\n",
              "  .colab-df-quickchart {\n",
              "      --bg-color: #E8F0FE;\n",
              "      --fill-color: #1967D2;\n",
              "      --hover-bg-color: #E2EBFA;\n",
              "      --hover-fill-color: #174EA6;\n",
              "      --disabled-fill-color: #AAA;\n",
              "      --disabled-bg-color: #DDD;\n",
              "  }\n",
              "\n",
              "  [theme=dark] .colab-df-quickchart {\n",
              "      --bg-color: #3B4455;\n",
              "      --fill-color: #D2E3FC;\n",
              "      --hover-bg-color: #434B5C;\n",
              "      --hover-fill-color: #FFFFFF;\n",
              "      --disabled-bg-color: #3B4455;\n",
              "      --disabled-fill-color: #666;\n",
              "  }\n",
              "\n",
              "  .colab-df-quickchart {\n",
              "    background-color: var(--bg-color);\n",
              "    border: none;\n",
              "    border-radius: 50%;\n",
              "    cursor: pointer;\n",
              "    display: none;\n",
              "    fill: var(--fill-color);\n",
              "    height: 32px;\n",
              "    padding: 0;\n",
              "    width: 32px;\n",
              "  }\n",
              "\n",
              "  .colab-df-quickchart:hover {\n",
              "    background-color: var(--hover-bg-color);\n",
              "    box-shadow: 0 1px 2px rgba(60, 64, 67, 0.3), 0 1px 3px 1px rgba(60, 64, 67, 0.15);\n",
              "    fill: var(--button-hover-fill-color);\n",
              "  }\n",
              "\n",
              "  .colab-df-quickchart-complete:disabled,\n",
              "  .colab-df-quickchart-complete:disabled:hover {\n",
              "    background-color: var(--disabled-bg-color);\n",
              "    fill: var(--disabled-fill-color);\n",
              "    box-shadow: none;\n",
              "  }\n",
              "\n",
              "  .colab-df-spinner {\n",
              "    border: 2px solid var(--fill-color);\n",
              "    border-color: transparent;\n",
              "    border-bottom-color: var(--fill-color);\n",
              "    animation:\n",
              "      spin 1s steps(1) infinite;\n",
              "  }\n",
              "\n",
              "  @keyframes spin {\n",
              "    0% {\n",
              "      border-color: transparent;\n",
              "      border-bottom-color: var(--fill-color);\n",
              "      border-left-color: var(--fill-color);\n",
              "    }\n",
              "    20% {\n",
              "      border-color: transparent;\n",
              "      border-left-color: var(--fill-color);\n",
              "      border-top-color: var(--fill-color);\n",
              "    }\n",
              "    30% {\n",
              "      border-color: transparent;\n",
              "      border-left-color: var(--fill-color);\n",
              "      border-top-color: var(--fill-color);\n",
              "      border-right-color: var(--fill-color);\n",
              "    }\n",
              "    40% {\n",
              "      border-color: transparent;\n",
              "      border-right-color: var(--fill-color);\n",
              "      border-top-color: var(--fill-color);\n",
              "    }\n",
              "    60% {\n",
              "      border-color: transparent;\n",
              "      border-right-color: var(--fill-color);\n",
              "    }\n",
              "    80% {\n",
              "      border-color: transparent;\n",
              "      border-right-color: var(--fill-color);\n",
              "      border-bottom-color: var(--fill-color);\n",
              "    }\n",
              "    90% {\n",
              "      border-color: transparent;\n",
              "      border-bottom-color: var(--fill-color);\n",
              "    }\n",
              "  }\n",
              "</style>\n",
              "\n",
              "  <script>\n",
              "    async function quickchart(key) {\n",
              "      const quickchartButtonEl =\n",
              "        document.querySelector('#' + key + ' button');\n",
              "      quickchartButtonEl.disabled = true;  // To prevent multiple clicks.\n",
              "      quickchartButtonEl.classList.add('colab-df-spinner');\n",
              "      try {\n",
              "        const charts = await google.colab.kernel.invokeFunction(\n",
              "            'suggestCharts', [key], {});\n",
              "      } catch (error) {\n",
              "        console.error('Error during call to suggestCharts:', error);\n",
              "      }\n",
              "      quickchartButtonEl.classList.remove('colab-df-spinner');\n",
              "      quickchartButtonEl.classList.add('colab-df-quickchart-complete');\n",
              "    }\n",
              "    (() => {\n",
              "      let quickchartButtonEl =\n",
              "        document.querySelector('#df-0ce425b2-ae11-4fbb-b746-bae0b54feb4b button');\n",
              "      quickchartButtonEl.style.display =\n",
              "        google.colab.kernel.accessAllowed ? 'block' : 'none';\n",
              "    })();\n",
              "  </script>\n",
              "</div>\n",
              "\n",
              "    </div>\n",
              "  </div>\n"
            ],
            "application/vnd.google.colaboratory.intrinsic+json": {
              "type": "dataframe",
              "variable_name": "raw_df",
              "summary": "{\n  \"name\": \"raw_df\",\n  \"rows\": 1012,\n  \"fields\": [\n    {\n      \"column\": 0,\n      \"properties\": {\n        \"dtype\": \"number\",\n        \"std\": 188.13283937823934,\n        \"min\": 0.00632,\n        \"max\": 396.9,\n        \"num_unique_values\": 861,\n        \"samples\": [\n          7.02259,\n          0.10659,\n          376.94\n        ],\n        \"semantic_type\": \"\",\n        \"description\": \"\"\n      }\n    },\n    {\n      \"column\": 1,\n      \"properties\": {\n        \"dtype\": \"number\",\n        \"std\": 17.250728213077732,\n        \"min\": 0.0,\n        \"max\": 100.0,\n        \"num_unique_values\": 480,\n        \"samples\": [\n          17.5,\n          17.64,\n          12.13\n        ],\n        \"semantic_type\": \"\",\n        \"description\": \"\"\n      }\n    },\n    {\n      \"column\": 2,\n      \"properties\": {\n        \"dtype\": \"number\",\n        \"std\": 9.912615669583923,\n        \"min\": 0.46,\n        \"max\": 50.0,\n        \"num_unique_values\": 304,\n        \"samples\": [\n          30.1,\n          29.8,\n          17.3\n        ],\n        \"semantic_type\": \"\",\n        \"description\": \"\"\n      }\n    },\n    {\n      \"column\": 3,\n      \"properties\": {\n        \"dtype\": \"number\",\n        \"std\": 0.2539940413404118,\n        \"min\": 0.0,\n        \"max\": 1.0,\n        \"num_unique_values\": 2,\n        \"samples\": [\n          1.0,\n          0.0\n        ],\n        \"semantic_type\": \"\",\n        \"description\": \"\"\n      }\n    },\n    {\n      \"column\": 4,\n      \"properties\": {\n        \"dtype\": \"number\",\n        \"std\": 0.11587767566755611,\n        \"min\": 0.385,\n        \"max\": 0.871,\n        \"num_unique_values\": 81,\n        \"samples\": [\n          0.401,\n          0.538\n        ],\n        \"semantic_type\": \"\",\n        \"description\": \"\"\n      }\n    },\n    {\n      \"column\": 5,\n      \"properties\": {\n        \"dtype\": \"number\",\n        \"std\": 0.7026171434153237,\n        \"min\": 3.561,\n        \"max\": 8.78,\n        \"num_unique_values\": 446,\n        \"samples\": [\n          6.849,\n          4.88\n        ],\n        \"semantic_type\": \"\",\n        \"description\": \"\"\n      }\n    },\n    {\n      \"column\": 6,\n      \"properties\": {\n        \"dtype\": \"number\",\n        \"std\": 28.148861406903638,\n        \"min\": 2.9,\n        \"max\": 100.0,\n        \"num_unique_values\": 356,\n        \"samples\": [\n          51.8,\n          33.8\n        ],\n        \"semantic_type\": \"\",\n        \"description\": \"\"\n      }\n    },\n    {\n      \"column\": 7,\n      \"properties\": {\n        \"dtype\": \"number\",\n        \"std\": 2.1057101266276104,\n        \"min\": 1.1296,\n        \"max\": 12.1265,\n        \"num_unique_values\": 412,\n        \"samples\": [\n          2.2955,\n          4.2515\n        ],\n        \"semantic_type\": \"\",\n        \"description\": \"\"\n      }\n    },\n    {\n      \"column\": 8,\n      \"properties\": {\n        \"dtype\": \"number\",\n        \"std\": 8.707259384239377,\n        \"min\": 1.0,\n        \"max\": 24.0,\n        \"num_unique_values\": 9,\n        \"samples\": [\n          7.0,\n          2.0\n        ],\n        \"semantic_type\": \"\",\n        \"description\": \"\"\n      }\n    },\n    {\n      \"column\": 9,\n      \"properties\": {\n        \"dtype\": \"number\",\n        \"std\": 168.53711605495926,\n        \"min\": 187.0,\n        \"max\": 711.0,\n        \"num_unique_values\": 66,\n        \"samples\": [\n          370.0,\n          666.0\n        ],\n        \"semantic_type\": \"\",\n        \"description\": \"\"\n      }\n    },\n    {\n      \"column\": 10,\n      \"properties\": {\n        \"dtype\": \"number\",\n        \"std\": 2.164945523714446,\n        \"min\": 12.6,\n        \"max\": 22.0,\n        \"num_unique_values\": 46,\n        \"samples\": [\n          19.6,\n          15.6\n        ],\n        \"semantic_type\": \"\",\n        \"description\": \"\"\n      }\n    }\n  ]\n}"
            }
          },
          "metadata": {},
          "execution_count": 67
        }
      ]
    },
    {
      "cell_type": "code",
      "source": [
        "target"
      ],
      "metadata": {
        "colab": {
          "base_uri": "https://localhost:8080/"
        },
        "id": "3HcARQ1ozNNi",
        "outputId": "bc47a753-0d5d-4813-b1dc-1708937cd52f"
      },
      "execution_count": null,
      "outputs": [
        {
          "output_type": "execute_result",
          "data": {
            "text/plain": [
              "array([[396.9 ,   4.98],\n",
              "       [396.9 ,   9.14],\n",
              "       [392.83,   4.03],\n",
              "       ...,\n",
              "       [396.9 ,   5.64],\n",
              "       [393.45,   6.48],\n",
              "       [396.9 ,   7.88]])"
            ]
          },
          "metadata": {},
          "execution_count": 68
        }
      ]
    },
    {
      "cell_type": "markdown",
      "source": [
        "## Graph of various activation functions:"
      ],
      "metadata": {
        "id": "L-7dHKeyYvmO"
      }
    },
    {
      "cell_type": "code",
      "source": [
        "import numpy as np\n",
        "import matplotlib.pyplot as plt\n",
        "\n",
        "def linear(x):\n",
        "    return x\n",
        "\n",
        "def relu(x):\n",
        "    return np.maximum(0, x)\n",
        "\n",
        "def leaky_relu(x):\n",
        "    return np.maximum(0.01*x, x)\n",
        "\n",
        "def sigmoid(x):\n",
        "    return 1 / (1 + np.exp(-x))\n",
        "\n",
        "def tanh(x):\n",
        "    return np.tanh(x)\n",
        "\n",
        "x = np.linspace(-5, 5, 1000)\n",
        "\n",
        "fig, quadrant = plt.subplots(2, 3, figsize=(12, 8))\n",
        "\n",
        "quadrant[0, 0].plot(x, linear(x), linewidth=3)\n",
        "quadrant[0, 0].set_title('Linear', fontsize=18)\n",
        "quadrant[0, 0].grid()\n",
        "\n",
        "quadrant[0, 1].plot(x, relu(x), linewidth=3)\n",
        "quadrant[0, 1].set_title('ReLU', fontsize=18)\n",
        "quadrant[0, 1].grid()\n",
        "\n",
        "quadrant[0, 2].plot(x, leaky_relu(x), linewidth=3)\n",
        "quadrant[0, 2].set_title('Leaky ReLU', fontsize=18)\n",
        "quadrant[0, 2].grid()\n",
        "\n",
        "quadrant[1, 0].plot(x, sigmoid(x), linewidth=3)\n",
        "quadrant[1, 0].set_title('Sigmoid', fontsize=18)\n",
        "quadrant[1, 0].grid()\n",
        "\n",
        "quadrant[1, 1].plot(x, tanh(x), linewidth=3)\n",
        "quadrant[1, 1].set_title('Tanh', fontsize=18)\n",
        "quadrant[1, 1].grid()\n",
        "\n",
        "for quad in quadrant.flat:\n",
        "    quad.set(xlabel='x-axis', ylabel='y-axis')\n",
        "    quad.xaxis.label.set_size(12)\n",
        "    quad.yaxis.label.set_size(12)\n",
        "\n",
        "fig.tight_layout()\n",
        "plt.show()"
      ],
      "metadata": {
        "colab": {
          "base_uri": "https://localhost:8080/",
          "height": 806
        },
        "id": "g_GC1ntTGBPS",
        "outputId": "a546223a-6fd0-4ca3-f2f0-99bd432b99e7"
      },
      "execution_count": null,
      "outputs": [
        {
          "output_type": "display_data",
          "data": {
            "text/plain": [
              "<Figure size 1200x800 with 6 Axes>"
            ],
            "image/png": "[encoded data removed]"
          },
          "metadata": {}
        }
      ]
    },
    {
      "cell_type": "code",
      "source": [
        "x"
      ],
      "metadata": {
        "colab": {
          "base_uri": "https://localhost:8080/"
        },
        "id": "Iw-Lo9prk9lw",
        "outputId": "78b94f03-395e-4c85-d69c-87aa3447e6c8"
      },
      "execution_count": null,
      "outputs": [
        {
          "output_type": "execute_result",
          "data": {
            "text/plain": [
              "array([-5.        , -4.98998999, -4.97997998, -4.96996997, -4.95995996,\n",
              "       -4.94994995, -4.93993994, -4.92992993, -4.91991992, -4.90990991,\n",
              "       -4.8998999 , -4.88988989, -4.87987988, -4.86986987, -4.85985986,\n",
              "       -4.84984985, -4.83983984, -4.82982983, -4.81981982, -4.80980981,\n",
              "       -4.7997998 , -4.78978979, -4.77977978, -4.76976977, -4.75975976,\n",
              "       -4.74974975, -4.73973974, -4.72972973, -4.71971972, -4.70970971,\n",
              "       -4.6996997 , -4.68968969, -4.67967968, -4.66966967, -4.65965966,\n",
              "       -4.64964965, -4.63963964, -4.62962963, -4.61961962, -4.60960961,\n",
              "       -4.5995996 , -4.58958959, -4.57957958, -4.56956957, -4.55955956,\n",
              "       -4.54954955, -4.53953954, -4.52952953, -4.51951952, -4.50950951,\n",
              "       -4.4994995 , -4.48948949, -4.47947948, -4.46946947, -4.45945946,\n",
              "       -4.44944945, -4.43943944, -4.42942943, -4.41941942, -4.40940941,\n",
              "       -4.3993994 , -4.38938939, -4.37937938, -4.36936937, -4.35935936,\n",
              "       -4.34934935, -4.33933934, -4.32932933, -4.31931932, -4.30930931,\n",
              "       -4.2992993 , -4.28928929, -4.27927928, -4.26926927, -4.25925926,\n",
              "       -4.24924925, -4.23923924, -4.22922923, -4.21921922, -4.20920921,\n",
              "       -4.1991992 , -4.18918919, -4.17917918, -4.16916917, -4.15915916,\n",
              "       -4.14914915, -4.13913914, -4.12912913, -4.11911912, -4.10910911,\n",
              "       -4.0990991 , -4.08908909, -4.07907908, -4.06906907, -4.05905906,\n",
              "       -4.04904905, -4.03903904, -4.02902903, -4.01901902, -4.00900901,\n",
              "       -3.998999  , -3.98898899, -3.97897898, -3.96896897, -3.95895896,\n",
              "       -3.94894895, -3.93893894, -3.92892893, -3.91891892, -3.90890891,\n",
              "       -3.8988989 , -3.88888889, -3.87887888, -3.86886887, -3.85885886,\n",
              "       -3.84884885, -3.83883884, -3.82882883, -3.81881882, -3.80880881,\n",
              "       -3.7987988 , -3.78878879, -3.77877878, -3.76876877, -3.75875876,\n",
              "       -3.74874875, -3.73873874, -3.72872873, -3.71871872, -3.70870871,\n",
              "       -3.6986987 , -3.68868869, -3.67867868, -3.66866867, -3.65865866,\n",
              "       -3.64864865, -3.63863864, -3.62862863, -3.61861862, -3.60860861,\n",
              "       -3.5985986 , -3.58858859, -3.57857858, -3.56856857, -3.55855856,\n",
              "       -3.54854855, -3.53853854, -3.52852853, -3.51851852, -3.50850851,\n",
              "       -3.4984985 , -3.48848849, -3.47847848, -3.46846847, -3.45845846,\n",
              "       -3.44844845, -3.43843844, -3.42842843, -3.41841842, -3.40840841,\n",
              "       -3.3983984 , -3.38838839, -3.37837838, -3.36836837, -3.35835836,\n",
              "       -3.34834835, -3.33833834, -3.32832833, -3.31831832, -3.30830831,\n",
              "       -3.2982983 , -3.28828829, -3.27827828, -3.26826827, -3.25825826,\n",
              "       -3.24824825, -3.23823824, -3.22822823, -3.21821822, -3.20820821,\n",
              "       -3.1981982 , -3.18818819, -3.17817818, -3.16816817, -3.15815816,\n",
              "       -3.14814815, -3.13813814, -3.12812813, -3.11811812, -3.10810811,\n",
              "       -3.0980981 , -3.08808809, -3.07807808, -3.06806807, -3.05805806,\n",
              "       -3.04804805, -3.03803804, -3.02802803, -3.01801802, -3.00800801,\n",
              "       -2.997998  , -2.98798799, -2.97797798, -2.96796797, -2.95795796,\n",
              "       -2.94794795, -2.93793794, -2.92792793, -2.91791792, -2.90790791,\n",
              "       -2.8978979 , -2.88788789, -2.87787788, -2.86786787, -2.85785786,\n",
              "       -2.84784785, -2.83783784, -2.82782783, -2.81781782, -2.80780781,\n",
              "       -2.7977978 , -2.78778779, -2.77777778, -2.76776777, -2.75775776,\n",
              "       -2.74774775, -2.73773774, -2.72772773, -2.71771772, -2.70770771,\n",
              "       -2.6976977 , -2.68768769, -2.67767768, -2.66766767, -2.65765766,\n",
              "       -2.64764765, -2.63763764, -2.62762763, -2.61761762, -2.60760761,\n",
              "       -2.5975976 , -2.58758759, -2.57757758, -2.56756757, -2.55755756,\n",
              "       -2.54754755, -2.53753754, -2.52752753, -2.51751752, -2.50750751,\n",
              "       -2.4974975 , -2.48748749, -2.47747748, -2.46746747, -2.45745746,\n",
              "       -2.44744745, -2.43743744, -2.42742743, -2.41741742, -2.40740741,\n",
              "       -2.3973974 , -2.38738739, -2.37737738, -2.36736737, -2.35735736,\n",
              "       -2.34734735, -2.33733734, -2.32732733, -2.31731732, -2.30730731,\n",
              "       -2.2972973 , -2.28728729, -2.27727728, -2.26726727, -2.25725726,\n",
              "       -2.24724725, -2.23723724, -2.22722723, -2.21721722, -2.20720721,\n",
              "       -2.1971972 , -2.18718719, -2.17717718, -2.16716717, -2.15715716,\n",
              "       -2.14714715, -2.13713714, -2.12712713, -2.11711712, -2.10710711,\n",
              "       -2.0970971 , -2.08708709, -2.07707708, -2.06706707, -2.05705706,\n",
              "       -2.04704705, -2.03703704, -2.02702703, -2.01701702, -2.00700701,\n",
              "       -1.996997  , -1.98698699, -1.97697698, -1.96696697, -1.95695696,\n",
              "       -1.94694695, -1.93693694, -1.92692693, -1.91691692, -1.90690691,\n",
              "       -1.8968969 , -1.88688689, -1.87687688, -1.86686687, -1.85685686,\n",
              "       -1.84684685, -1.83683684, -1.82682683, -1.81681682, -1.80680681,\n",
              "       -1.7967968 , -1.78678679, -1.77677678, -1.76676677, -1.75675676,\n",
              "       -1.74674675, -1.73673674, -1.72672673, -1.71671672, -1.70670671,\n",
              "       -1.6966967 , -1.68668669, -1.67667668, -1.66666667, -1.65665666,\n",
              "       -1.64664665, -1.63663664, -1.62662663, -1.61661662, -1.60660661,\n",
              "       -1.5965966 , -1.58658659, -1.57657658, -1.56656657, -1.55655656,\n",
              "       -1.54654655, -1.53653654, -1.52652653, -1.51651652, -1.50650651,\n",
              "       -1.4964965 , -1.48648649, -1.47647648, -1.46646647, -1.45645646,\n",
              "       -1.44644645, -1.43643644, -1.42642643, -1.41641642, -1.40640641,\n",
              "       -1.3963964 , -1.38638639, -1.37637638, -1.36636637, -1.35635636,\n",
              "       -1.34634635, -1.33633634, -1.32632633, -1.31631632, -1.30630631,\n",
              "       -1.2962963 , -1.28628629, -1.27627628, -1.26626627, -1.25625626,\n",
              "       -1.24624625, -1.23623624, -1.22622623, -1.21621622, -1.20620621,\n",
              "       -1.1961962 , -1.18618619, -1.17617618, -1.16616617, -1.15615616,\n",
              "       -1.14614615, -1.13613614, -1.12612613, -1.11611612, -1.10610611,\n",
              "       -1.0960961 , -1.08608609, -1.07607608, -1.06606607, -1.05605606,\n",
              "       -1.04604605, -1.03603604, -1.02602603, -1.01601602, -1.00600601,\n",
              "       -0.995996  , -0.98598599, -0.97597598, -0.96596597, -0.95595596,\n",
              "       -0.94594595, -0.93593594, -0.92592593, -0.91591592, -0.90590591,\n",
              "       -0.8958959 , -0.88588589, -0.87587588, -0.86586587, -0.85585586,\n",
              "       -0.84584585, -0.83583584, -0.82582583, -0.81581582, -0.80580581,\n",
              "       -0.7957958 , -0.78578579, -0.77577578, -0.76576577, -0.75575576,\n",
              "       -0.74574575, -0.73573574, -0.72572573, -0.71571572, -0.70570571,\n",
              "       -0.6956957 , -0.68568569, -0.67567568, -0.66566567, -0.65565566,\n",
              "       -0.64564565, -0.63563564, -0.62562563, -0.61561562, -0.60560561,\n",
              "       -0.5955956 , -0.58558559, -0.57557558, -0.56556557, -0.55555556,\n",
              "       -0.54554555, -0.53553554, -0.52552553, -0.51551552, -0.50550551,\n",
              "       -0.4954955 , -0.48548549, -0.47547548, -0.46546547, -0.45545546,\n",
              "       -0.44544545, -0.43543544, -0.42542543, -0.41541542, -0.40540541,\n",
              "       -0.3953954 , -0.38538539, -0.37537538, -0.36536537, -0.35535536,\n",
              "       -0.34534535, -0.33533534, -0.32532533, -0.31531532, -0.30530531,\n",
              "       -0.2952953 , -0.28528529, -0.27527528, -0.26526527, -0.25525526,\n",
              "       -0.24524525, -0.23523524, -0.22522523, -0.21521522, -0.20520521,\n",
              "       -0.1951952 , -0.18518519, -0.17517518, -0.16516517, -0.15515516,\n",
              "       -0.14514515, -0.13513514, -0.12512513, -0.11511512, -0.10510511,\n",
              "       -0.0950951 , -0.08508509, -0.07507508, -0.06506507, -0.05505506,\n",
              "       -0.04504505, -0.03503504, -0.02502503, -0.01501502, -0.00500501,\n",
              "        0.00500501,  0.01501502,  0.02502503,  0.03503504,  0.04504505,\n",
              "        0.05505506,  0.06506507,  0.07507508,  0.08508509,  0.0950951 ,\n",
              "        0.10510511,  0.11511512,  0.12512513,  0.13513514,  0.14514515,\n",
              "        0.15515516,  0.16516517,  0.17517518,  0.18518519,  0.1951952 ,\n",
              "        0.20520521,  0.21521522,  0.22522523,  0.23523524,  0.24524525,\n",
              "        0.25525526,  0.26526527,  0.27527528,  0.28528529,  0.2952953 ,\n",
              "        0.30530531,  0.31531532,  0.32532533,  0.33533534,  0.34534535,\n",
              "        0.35535536,  0.36536537,  0.37537538,  0.38538539,  0.3953954 ,\n",
              "        0.40540541,  0.41541542,  0.42542543,  0.43543544,  0.44544545,\n",
              "        0.45545546,  0.46546547,  0.47547548,  0.48548549,  0.4954955 ,\n",
              "        0.50550551,  0.51551552,  0.52552553,  0.53553554,  0.54554555,\n",
              "        0.55555556,  0.56556557,  0.57557558,  0.58558559,  0.5955956 ,\n",
              "        0.60560561,  0.61561562,  0.62562563,  0.63563564,  0.64564565,\n",
              "        0.65565566,  0.66566567,  0.67567568,  0.68568569,  0.6956957 ,\n",
              "        0.70570571,  0.71571572,  0.72572573,  0.73573574,  0.74574575,\n",
              "        0.75575576,  0.76576577,  0.77577578,  0.78578579,  0.7957958 ,\n",
              "        0.80580581,  0.81581582,  0.82582583,  0.83583584,  0.84584585,\n",
              "        0.85585586,  0.86586587,  0.87587588,  0.88588589,  0.8958959 ,\n",
              "        0.90590591,  0.91591592,  0.92592593,  0.93593594,  0.94594595,\n",
              "        0.95595596,  0.96596597,  0.97597598,  0.98598599,  0.995996  ,\n",
              "        1.00600601,  1.01601602,  1.02602603,  1.03603604,  1.04604605,\n",
              "        1.05605606,  1.06606607,  1.07607608,  1.08608609,  1.0960961 ,\n",
              "        1.10610611,  1.11611612,  1.12612613,  1.13613614,  1.14614615,\n",
              "        1.15615616,  1.16616617,  1.17617618,  1.18618619,  1.1961962 ,\n",
              "        1.20620621,  1.21621622,  1.22622623,  1.23623624,  1.24624625,\n",
              "        1.25625626,  1.26626627,  1.27627628,  1.28628629,  1.2962963 ,\n",
              "        1.30630631,  1.31631632,  1.32632633,  1.33633634,  1.34634635,\n",
              "        1.35635636,  1.36636637,  1.37637638,  1.38638639,  1.3963964 ,\n",
              "        1.40640641,  1.41641642,  1.42642643,  1.43643644,  1.44644645,\n",
              "        1.45645646,  1.46646647,  1.47647648,  1.48648649,  1.4964965 ,\n",
              "        1.50650651,  1.51651652,  1.52652653,  1.53653654,  1.54654655,\n",
              "        1.55655656,  1.56656657,  1.57657658,  1.58658659,  1.5965966 ,\n",
              "        1.60660661,  1.61661662,  1.62662663,  1.63663664,  1.64664665,\n",
              "        1.65665666,  1.66666667,  1.67667668,  1.68668669,  1.6966967 ,\n",
              "        1.70670671,  1.71671672,  1.72672673,  1.73673674,  1.74674675,\n",
              "        1.75675676,  1.76676677,  1.77677678,  1.78678679,  1.7967968 ,\n",
              "        1.80680681,  1.81681682,  1.82682683,  1.83683684,  1.84684685,\n",
              "        1.85685686,  1.86686687,  1.87687688,  1.88688689,  1.8968969 ,\n",
              "        1.90690691,  1.91691692,  1.92692693,  1.93693694,  1.94694695,\n",
              "        1.95695696,  1.96696697,  1.97697698,  1.98698699,  1.996997  ,\n",
              "        2.00700701,  2.01701702,  2.02702703,  2.03703704,  2.04704705,\n",
              "        2.05705706,  2.06706707,  2.07707708,  2.08708709,  2.0970971 ,\n",
              "        2.10710711,  2.11711712,  2.12712713,  2.13713714,  2.14714715,\n",
              "        2.15715716,  2.16716717,  2.17717718,  2.18718719,  2.1971972 ,\n",
              "        2.20720721,  2.21721722,  2.22722723,  2.23723724,  2.24724725,\n",
              "        2.25725726,  2.26726727,  2.27727728,  2.28728729,  2.2972973 ,\n",
              "        2.30730731,  2.31731732,  2.32732733,  2.33733734,  2.34734735,\n",
              "        2.35735736,  2.36736737,  2.37737738,  2.38738739,  2.3973974 ,\n",
              "        2.40740741,  2.41741742,  2.42742743,  2.43743744,  2.44744745,\n",
              "        2.45745746,  2.46746747,  2.47747748,  2.48748749,  2.4974975 ,\n",
              "        2.50750751,  2.51751752,  2.52752753,  2.53753754,  2.54754755,\n",
              "        2.55755756,  2.56756757,  2.57757758,  2.58758759,  2.5975976 ,\n",
              "        2.60760761,  2.61761762,  2.62762763,  2.63763764,  2.64764765,\n",
              "        2.65765766,  2.66766767,  2.67767768,  2.68768769,  2.6976977 ,\n",
              "        2.70770771,  2.71771772,  2.72772773,  2.73773774,  2.74774775,\n",
              "        2.75775776,  2.76776777,  2.77777778,  2.78778779,  2.7977978 ,\n",
              "        2.80780781,  2.81781782,  2.82782783,  2.83783784,  2.84784785,\n",
              "        2.85785786,  2.86786787,  2.87787788,  2.88788789,  2.8978979 ,\n",
              "        2.90790791,  2.91791792,  2.92792793,  2.93793794,  2.94794795,\n",
              "        2.95795796,  2.96796797,  2.97797798,  2.98798799,  2.997998  ,\n",
              "        3.00800801,  3.01801802,  3.02802803,  3.03803804,  3.04804805,\n",
              "        3.05805806,  3.06806807,  3.07807808,  3.08808809,  3.0980981 ,\n",
              "        3.10810811,  3.11811812,  3.12812813,  3.13813814,  3.14814815,\n",
              "        3.15815816,  3.16816817,  3.17817818,  3.18818819,  3.1981982 ,\n",
              "        3.20820821,  3.21821822,  3.22822823,  3.23823824,  3.24824825,\n",
              "        3.25825826,  3.26826827,  3.27827828,  3.28828829,  3.2982983 ,\n",
              "        3.30830831,  3.31831832,  3.32832833,  3.33833834,  3.34834835,\n",
              "        3.35835836,  3.36836837,  3.37837838,  3.38838839,  3.3983984 ,\n",
              "        3.40840841,  3.41841842,  3.42842843,  3.43843844,  3.44844845,\n",
              "        3.45845846,  3.46846847,  3.47847848,  3.48848849,  3.4984985 ,\n",
              "        3.50850851,  3.51851852,  3.52852853,  3.53853854,  3.54854855,\n",
              "        3.55855856,  3.56856857,  3.57857858,  3.58858859,  3.5985986 ,\n",
              "        3.60860861,  3.61861862,  3.62862863,  3.63863864,  3.64864865,\n",
              "        3.65865866,  3.66866867,  3.67867868,  3.68868869,  3.6986987 ,\n",
              "        3.70870871,  3.71871872,  3.72872873,  3.73873874,  3.74874875,\n",
              "        3.75875876,  3.76876877,  3.77877878,  3.78878879,  3.7987988 ,\n",
              "        3.80880881,  3.81881882,  3.82882883,  3.83883884,  3.84884885,\n",
              "        3.85885886,  3.86886887,  3.87887888,  3.88888889,  3.8988989 ,\n",
              "        3.90890891,  3.91891892,  3.92892893,  3.93893894,  3.94894895,\n",
              "        3.95895896,  3.96896897,  3.97897898,  3.98898899,  3.998999  ,\n",
              "        4.00900901,  4.01901902,  4.02902903,  4.03903904,  4.04904905,\n",
              "        4.05905906,  4.06906907,  4.07907908,  4.08908909,  4.0990991 ,\n",
              "        4.10910911,  4.11911912,  4.12912913,  4.13913914,  4.14914915,\n",
              "        4.15915916,  4.16916917,  4.17917918,  4.18918919,  4.1991992 ,\n",
              "        4.20920921,  4.21921922,  4.22922923,  4.23923924,  4.24924925,\n",
              "        4.25925926,  4.26926927,  4.27927928,  4.28928929,  4.2992993 ,\n",
              "        4.30930931,  4.31931932,  4.32932933,  4.33933934,  4.34934935,\n",
              "        4.35935936,  4.36936937,  4.37937938,  4.38938939,  4.3993994 ,\n",
              "        4.40940941,  4.41941942,  4.42942943,  4.43943944,  4.44944945,\n",
              "        4.45945946,  4.46946947,  4.47947948,  4.48948949,  4.4994995 ,\n",
              "        4.50950951,  4.51951952,  4.52952953,  4.53953954,  4.54954955,\n",
              "        4.55955956,  4.56956957,  4.57957958,  4.58958959,  4.5995996 ,\n",
              "        4.60960961,  4.61961962,  4.62962963,  4.63963964,  4.64964965,\n",
              "        4.65965966,  4.66966967,  4.67967968,  4.68968969,  4.6996997 ,\n",
              "        4.70970971,  4.71971972,  4.72972973,  4.73973974,  4.74974975,\n",
              "        4.75975976,  4.76976977,  4.77977978,  4.78978979,  4.7997998 ,\n",
              "        4.80980981,  4.81981982,  4.82982983,  4.83983984,  4.84984985,\n",
              "        4.85985986,  4.86986987,  4.87987988,  4.88988989,  4.8998999 ,\n",
              "        4.90990991,  4.91991992,  4.92992993,  4.93993994,  4.94994995,\n",
              "        4.95995996,  4.96996997,  4.97997998,  4.98998999,  5.        ])"
            ]
          },
          "metadata": {},
          "execution_count": 2
        }
      ]
    },
    {
      "cell_type": "markdown",
      "source": [
        "## My Try"
      ],
      "metadata": {
        "id": "TOOEvviQ6XS0"
      }
    },
    {
      "cell_type": "code",
      "source": [
        "import keras\n",
        "from keras.layers import Dense\n",
        "from keras.models import Sequential\n",
        "from keras.datasets import mnist\n",
        "import matplotlib.pyplot as plt"
      ],
      "metadata": {
        "id": "gd-rWd1f4cmS"
      },
      "execution_count": 1,
      "outputs": []
    },
    {
      "cell_type": "code",
      "source": [
        "(x_train,y_train),(x_test,y_test)=mnist.load_data()"
      ],
      "metadata": {
        "id": "sREml_d9t-ab",
        "colab": {
          "base_uri": "https://localhost:8080/"
        },
        "outputId": "06fb4bcf-e13c-4f1a-8744-3694bc17cb91"
      },
      "execution_count": 2,
      "outputs": [
        {
          "output_type": "stream",
          "name": "stdout",
          "text": [
            "Downloading data from https://storage.googleapis.com/tensorflow/tf-keras-datasets/mnist.npz\n",
            "\u001b[1m11490434/11490434\u001b[0m \u001b[32m━━━━━━━━━━━━━━━━━━━━\u001b[0m\u001b[37m\u001b[0m \u001b[1m0s\u001b[0m 0us/step\n"
          ]
        }
      ]
    },
    {
      "cell_type": "code",
      "source": [
        "print('X_train: ' + str(x_train.shape))\n",
        "print('Y_train: ' + str(y_train.shape))\n",
        "print('X_test:  '  + str(x_test.shape))\n",
        "print('Y_test:  '  + str(y_test.shape))"
      ],
      "metadata": {
        "colab": {
          "base_uri": "https://localhost:8080/"
        },
        "id": "A6q8q-981-E1",
        "outputId": "a5d3495e-28ce-4c2d-8273-809175c306c6"
      },
      "execution_count": null,
      "outputs": [
        {
          "output_type": "stream",
          "name": "stdout",
          "text": [
            "X_train: (60000, 28, 28)\n",
            "Y_train: (60000,)\n",
            "X_test:  (10000, 28, 28)\n",
            "Y_test:  (10000,)\n"
          ]
        }
      ]
    },
    {
      "cell_type": "code",
      "source": [
        "plt.imshow(x_train[1])"
      ],
      "metadata": {
        "colab": {
          "base_uri": "https://localhost:8080/",
          "height": 448
        },
        "id": "-ZiGlXbR6b85",
        "outputId": "8b511186-4dbf-408c-b455-560ed707bc7c"
      },
      "execution_count": 3,
      "outputs": [
        {
          "output_type": "execute_result",
          "data": {
            "text/plain": [
              "<matplotlib.image.AxesImage at 0x7c28c3b2c520>"
            ]
          },
          "metadata": {},
          "execution_count": 3
        },
        {
          "output_type": "display_data",
          "data": {
            "text/plain": [
              "<Figure size 640x480 with 1 Axes>"
            ],
            "image/png": "[encoded data removed]"
          },
          "metadata": {}
        }
      ]
    },
    {
      "cell_type": "code",
      "source": [
        "plt.matshow(x_train[0])"
      ],
      "metadata": {
        "colab": {
          "base_uri": "https://localhost:8080/",
          "height": 455
        },
        "id": "iuqcPQ_OGzjC",
        "outputId": "5c1c212b-9603-46f7-ed6a-7484ea8e9215"
      },
      "execution_count": 4,
      "outputs": [
        {
          "output_type": "execute_result",
          "data": {
            "text/plain": [
              "<matplotlib.image.AxesImage at 0x7c28be41e290>"
            ]
          },
          "metadata": {},
          "execution_count": 4
        },
        {
          "output_type": "display_data",
          "data": {
            "text/plain": [
              "<Figure size 480x480 with 1 Axes>"
            ],
            "image/png": "[encoded data removed]"
          },
          "metadata": {}
        }
      ]
    },
    {
      "cell_type": "code",
      "source": [
        "y_test[1]"
      ],
      "metadata": {
        "colab": {
          "base_uri": "https://localhost:8080/"
        },
        "id": "S8nKxZdo6emw",
        "outputId": "9b0b06fa-500b-4e4d-9110-c6acf94f893c"
      },
      "execution_count": null,
      "outputs": [
        {
          "output_type": "execute_result",
          "data": {
            "text/plain": [
              "2"
            ]
          },
          "metadata": {},
          "execution_count": 7
        }
      ]
    },
    {
      "cell_type": "code",
      "source": [
        "x_test[1]"
      ],
      "metadata": {
        "colab": {
          "base_uri": "https://localhost:8080/"
        },
        "id": "B4M6ac_K62cB",
        "outputId": "0b832c97-8fe6-423c-f2de-5b24ab0c8473"
      },
      "execution_count": null,
      "outputs": [
        {
          "output_type": "execute_result",
          "data": {
            "text/plain": [
              "array([[  0,   0,   0,   0,   0,   0,   0,   0,   0,   0,   0,   0,   0,\n",
              "          0,   0,   0,   0,   0,   0,   0,   0,   0,   0,   0,   0,   0,\n",
              "          0,   0],\n",
              "       [  0,   0,   0,   0,   0,   0,   0,   0,   0,   0,   0,   0,   0,\n",
              "          0,   0,   0,   0,   0,   0,   0,   0,   0,   0,   0,   0,   0,\n",
              "          0,   0],\n",
              "       [  0,   0,   0,   0,   0,   0,   0,   0,   0,   0,   0,   0,   0,\n",
              "          0,   0,   0,   0,   0,   0,   0,   0,   0,   0,   0,   0,   0,\n",
              "          0,   0],\n",
              "       [  0,   0,   0,   0,   0,   0,   0,   0,   0,   0, 116, 125, 171,\n",
              "        255, 255, 150,  93,   0,   0,   0,   0,   0,   0,   0,   0,   0,\n",
              "          0,   0],\n",
              "       [  0,   0,   0,   0,   0,   0,   0,   0,   0, 169, 253, 253, 253,\n",
              "        253, 253, 253, 218,  30,   0,   0,   0,   0,   0,   0,   0,   0,\n",
              "          0,   0],\n",
              "       [  0,   0,   0,   0,   0,   0,   0,   0, 169, 253, 253, 253, 213,\n",
              "        142, 176, 253, 253, 122,   0,   0,   0,   0,   0,   0,   0,   0,\n",
              "          0,   0],\n",
              "       [  0,   0,   0,   0,   0,   0,   0,  52, 250, 253, 210,  32,  12,\n",
              "          0,   6, 206, 253, 140,   0,   0,   0,   0,   0,   0,   0,   0,\n",
              "          0,   0],\n",
              "       [  0,   0,   0,   0,   0,   0,   0,  77, 251, 210,  25,   0,   0,\n",
              "          0, 122, 248, 253,  65,   0,   0,   0,   0,   0,   0,   0,   0,\n",
              "          0,   0],\n",
              "       [  0,   0,   0,   0,   0,   0,   0,   0,  31,  18,   0,   0,   0,\n",
              "          0, 209, 253, 253,  65,   0,   0,   0,   0,   0,   0,   0,   0,\n",
              "          0,   0],\n",
              "       [  0,   0,   0,   0,   0,   0,   0,   0,   0,   0,   0,   0,   0,\n",
              "        117, 247, 253, 198,  10,   0,   0,   0,   0,   0,   0,   0,   0,\n",
              "          0,   0],\n",
              "       [  0,   0,   0,   0,   0,   0,   0,   0,   0,   0,   0,   0,  76,\n",
              "        247, 253, 231,  63,   0,   0,   0,   0,   0,   0,   0,   0,   0,\n",
              "          0,   0],\n",
              "       [  0,   0,   0,   0,   0,   0,   0,   0,   0,   0,   0,   0, 128,\n",
              "        253, 253, 144,   0,   0,   0,   0,   0,   0,   0,   0,   0,   0,\n",
              "          0,   0],\n",
              "       [  0,   0,   0,   0,   0,   0,   0,   0,   0,   0,   0, 176, 246,\n",
              "        253, 159,  12,   0,   0,   0,   0,   0,   0,   0,   0,   0,   0,\n",
              "          0,   0],\n",
              "       [  0,   0,   0,   0,   0,   0,   0,   0,   0,   0,  25, 234, 253,\n",
              "        233,  35,   0,   0,   0,   0,   0,   0,   0,   0,   0,   0,   0,\n",
              "          0,   0],\n",
              "       [  0,   0,   0,   0,   0,   0,   0,   0,   0,   0, 198, 253, 253,\n",
              "        141,   0,   0,   0,   0,   0,   0,   0,   0,   0,   0,   0,   0,\n",
              "          0,   0],\n",
              "       [  0,   0,   0,   0,   0,   0,   0,   0,   0,  78, 248, 253, 189,\n",
              "         12,   0,   0,   0,   0,   0,   0,   0,   0,   0,   0,   0,   0,\n",
              "          0,   0],\n",
              "       [  0,   0,   0,   0,   0,   0,   0,   0,  19, 200, 253, 253, 141,\n",
              "          0,   0,   0,   0,   0,   0,   0,   0,   0,   0,   0,   0,   0,\n",
              "          0,   0],\n",
              "       [  0,   0,   0,   0,   0,   0,   0,   0, 134, 253, 253, 173,  12,\n",
              "          0,   0,   0,   0,   0,   0,   0,   0,   0,   0,   0,   0,   0,\n",
              "          0,   0],\n",
              "       [  0,   0,   0,   0,   0,   0,   0,   0, 248, 253, 253,  25,   0,\n",
              "          0,   0,   0,   0,   0,   0,   0,   0,   0,   0,   0,   0,   0,\n",
              "          0,   0],\n",
              "       [  0,   0,   0,   0,   0,   0,   0,   0, 248, 253, 253,  43,  20,\n",
              "         20,  20,  20,   5,   0,   5,  20,  20,  37, 150, 150, 150, 147,\n",
              "         10,   0],\n",
              "       [  0,   0,   0,   0,   0,   0,   0,   0, 248, 253, 253, 253, 253,\n",
              "        253, 253, 253, 168, 143, 166, 253, 253, 253, 253, 253, 253, 253,\n",
              "        123,   0],\n",
              "       [  0,   0,   0,   0,   0,   0,   0,   0, 174, 253, 253, 253, 253,\n",
              "        253, 253, 253, 253, 253, 253, 253, 249, 247, 247, 169, 117, 117,\n",
              "         57,   0],\n",
              "       [  0,   0,   0,   0,   0,   0,   0,   0,   0, 118, 123, 123, 123,\n",
              "        166, 253, 253, 253, 155, 123, 123,  41,   0,   0,   0,   0,   0,\n",
              "          0,   0],\n",
              "       [  0,   0,   0,   0,   0,   0,   0,   0,   0,   0,   0,   0,   0,\n",
              "          0,   0,   0,   0,   0,   0,   0,   0,   0,   0,   0,   0,   0,\n",
              "          0,   0],\n",
              "       [  0,   0,   0,   0,   0,   0,   0,   0,   0,   0,   0,   0,   0,\n",
              "          0,   0,   0,   0,   0,   0,   0,   0,   0,   0,   0,   0,   0,\n",
              "          0,   0],\n",
              "       [  0,   0,   0,   0,   0,   0,   0,   0,   0,   0,   0,   0,   0,\n",
              "          0,   0,   0,   0,   0,   0,   0,   0,   0,   0,   0,   0,   0,\n",
              "          0,   0],\n",
              "       [  0,   0,   0,   0,   0,   0,   0,   0,   0,   0,   0,   0,   0,\n",
              "          0,   0,   0,   0,   0,   0,   0,   0,   0,   0,   0,   0,   0,\n",
              "          0,   0],\n",
              "       [  0,   0,   0,   0,   0,   0,   0,   0,   0,   0,   0,   0,   0,\n",
              "          0,   0,   0,   0,   0,   0,   0,   0,   0,   0,   0,   0,   0,\n",
              "          0,   0]], dtype=uint8)"
            ],
            "text/html": [
              "<style>\n",
              "      .ndarray_repr .ndarray_raw_data {\n",
              "        display: none;\n",
              "      }\n",
              "      .ndarray_repr.show_array .ndarray_raw_data {\n",
              "        display: block;\n",
              "      }\n",
              "      .ndarray_repr.show_array .ndarray_image_preview {\n",
              "        display: none;\n",
              "      }\n",
              "      </style>\n",
              "      <div id=\"id-9c2c3441-cede-4405-bf27-5f30e45ac861\" class=\"ndarray_repr\"><pre>ndarray (28, 28) <button style=\"padding: 0 2px;\">show data</button></pre><img src=\"data:image/png;base64,iVBORw0KGgoAAAANSUhEUgAAABwAAAAcCAAAAABXZoBIAAAA6ElEQVR4nGNgoAlgRDBLOPVCGKYfX4xN2cq/f//+/fv3lhwOuat9G/7+rcKUM/n195ICDwPbub89mJK+vy9JMjAwVP3464jFWHkhBgYGhot/sUoyMDAwMJR+/3uMC4ecz/e/z+2R+EwormJjWHkQh8YN3/7O58EhJ/nq70tlXK459vdvLy45vx9/9+IyVPgEHo1tf/+uxaWR4cffv5LoYixIbKHfDAwMH3+z8jMIFjIw/C3/hix5iYGBgWH1c/FwCPdFKzwlrPNHqPrzj2HTGYYjxxHJpIyVgUE7nIFh3gOGdddxuWyAAQCfcVM+FkfDOQAAAABJRU5ErkJggg==\" class=\"ndarray_image_preview\" /><pre class=\"ndarray_raw_data\">array([[  0,   0,   0,   0,   0,   0,   0,   0,   0,   0,   0,   0,   0,\n",
              "          0,   0,   0,   0,   0,   0,   0,   0,   0,   0,   0,   0,   0,\n",
              "          0,   0],\n",
              "       [  0,   0,   0,   0,   0,   0,   0,   0,   0,   0,   0,   0,   0,\n",
              "          0,   0,   0,   0,   0,   0,   0,   0,   0,   0,   0,   0,   0,\n",
              "          0,   0],\n",
              "       [  0,   0,   0,   0,   0,   0,   0,   0,   0,   0,   0,   0,   0,\n",
              "          0,   0,   0,   0,   0,   0,   0,   0,   0,   0,   0,   0,   0,\n",
              "          0,   0],\n",
              "       [  0,   0,   0,   0,   0,   0,   0,   0,   0,   0, 116, 125, 171,\n",
              "        255, 255, 150,  93,   0,   0,   0,   0,   0,   0,   0,   0,   0,\n",
              "          0,   0],\n",
              "       [  0,   0,   0,   0,   0,   0,   0,   0,   0, 169, 253, 253, 253,\n",
              "        253, 253, 253, 218,  30,   0,   0,   0,   0,   0,   0,   0,   0,\n",
              "          0,   0],\n",
              "       [  0,   0,   0,   0,   0,   0,   0,   0, 169, 253, 253, 253, 213,\n",
              "        142, 176, 253, 253, 122,   0,   0,   0,   0,   0,   0,   0,   0,\n",
              "          0,   0],\n",
              "       [  0,   0,   0,   0,   0,   0,   0,  52, 250, 253, 210,  32,  12,\n",
              "          0,   6, 206, 253, 140,   0,   0,   0,   0,   0,   0,   0,   0,\n",
              "          0,   0],\n",
              "       [  0,   0,   0,   0,   0,   0,   0,  77, 251, 210,  25,   0,   0,\n",
              "          0, 122, 248, 253,  65,   0,   0,   0,   0,   0,   0,   0,   0,\n",
              "          0,   0],\n",
              "       [  0,   0,   0,   0,   0,   0,   0,   0,  31,  18,   0,   0,   0,\n",
              "          0, 209, 253, 253,  65,   0,   0,   0,   0,   0,   0,   0,   0,\n",
              "          0,   0],\n",
              "       [  0,   0,   0,   0,   0,   0,   0,   0,   0,   0,   0,   0,   0,\n",
              "        117, 247, 253, 198,  10,   0,   0,   0,   0,   0,   0,   0,   0,\n",
              "          0,   0],\n",
              "       [  0,   0,   0,   0,   0,   0,   0,   0,   0,   0,   0,   0,  76,\n",
              "        247, 253, 231,  63,   0,   0,   0,   0,   0,   0,   0,   0,   0,\n",
              "          0,   0],\n",
              "       [  0,   0,   0,   0,   0,   0,   0,   0,   0,   0,   0,   0, 128,\n",
              "        253, 253, 144,   0,   0,   0,   0,   0,   0,   0,   0,   0,   0,\n",
              "          0,   0],\n",
              "       [  0,   0,   0,   0,   0,   0,   0,   0,   0,   0,   0, 176, 246,\n",
              "        253, 159,  12,   0,   0,   0,   0,   0,   0,   0,   0,   0,   0,\n",
              "          0,   0],\n",
              "       [  0,   0,   0,   0,   0,   0,   0,   0,   0,   0,  25, 234, 253,\n",
              "        233,  35,   0,   0,   0,   0,   0,   0,   0,   0,   0,   0,   0,\n",
              "          0,   0],\n",
              "       [  0,   0,   0,   0,   0,   0,   0,   0,   0,   0, 198, 253, 253,\n",
              "        141,   0,   0,   0,   0,   0,   0,   0,   0,   0,   0,   0,   0,\n",
              "          0,   0],\n",
              "       [  0,   0,   0,   0,   0,   0,   0,   0,   0,  78, 248, 253, 189,\n",
              "         12,   0,   0,   0,   0,   0,   0,   0,   0,   0,   0,   0,   0,\n",
              "          0,   0],\n",
              "       [  0,   0,   0,   0,   0,   0,   0,   0,  19, 200, 253, 253, 141,\n",
              "          0,   0,   0,   0,   0,   0,   0,   0,   0,   0,   0,   0,   0,\n",
              "          0,   0],\n",
              "       [  0,   0,   0,   0,   0,   0,   0,   0, 134, 253, 253, 173,  12,\n",
              "          0,   0,   0,   0,   0,   0,   0,   0,   0,   0,   0,   0,   0,\n",
              "          0,   0],\n",
              "       [  0,   0,   0,   0,   0,   0,   0,   0, 248, 253, 253,  25,   0,\n",
              "          0,   0,   0,   0,   0,   0,   0,   0,   0,   0,   0,   0,   0,\n",
              "          0,   0],\n",
              "       [  0,   0,   0,   0,   0,   0,   0,   0, 248, 253, 253,  43,  20,\n",
              "         20,  20,  20,   5,   0,   5,  20,  20,  37, 150, 150, 150, 147,\n",
              "         10,   0],\n",
              "       [  0,   0,   0,   0,   0,   0,   0,   0, 248, 253, 253, 253, 253,\n",
              "        253, 253, 253, 168, 143, 166, 253, 253, 253, 253, 253, 253, 253,\n",
              "        123,   0],\n",
              "       [  0,   0,   0,   0,   0,   0,   0,   0, 174, 253, 253, 253, 253,\n",
              "        253, 253, 253, 253, 253, 253, 253, 249, 247, 247, 169, 117, 117,\n",
              "         57,   0],\n",
              "       [  0,   0,   0,   0,   0,   0,   0,   0,   0, 118, 123, 123, 123,\n",
              "        166, 253, 253, 253, 155, 123, 123,  41,   0,   0,   0,   0,   0,\n",
              "          0,   0],\n",
              "       [  0,   0,   0,   0,   0,   0,   0,   0,   0,   0,   0,   0,   0,\n",
              "          0,   0,   0,   0,   0,   0,   0,   0,   0,   0,   0,   0,   0,\n",
              "          0,   0],\n",
              "       [  0,   0,   0,   0,   0,   0,   0,   0,   0,   0,   0,   0,   0,\n",
              "          0,   0,   0,   0,   0,   0,   0,   0,   0,   0,   0,   0,   0,\n",
              "          0,   0],\n",
              "       [  0,   0,   0,   0,   0,   0,   0,   0,   0,   0,   0,   0,   0,\n",
              "          0,   0,   0,   0,   0,   0,   0,   0,   0,   0,   0,   0,   0,\n",
              "          0,   0],\n",
              "       [  0,   0,   0,   0,   0,   0,   0,   0,   0,   0,   0,   0,   0,\n",
              "          0,   0,   0,   0,   0,   0,   0,   0,   0,   0,   0,   0,   0,\n",
              "          0,   0],\n",
              "       [  0,   0,   0,   0,   0,   0,   0,   0,   0,   0,   0,   0,   0,\n",
              "          0,   0,   0,   0,   0,   0,   0,   0,   0,   0,   0,   0,   0,\n",
              "          0,   0]], dtype=uint8)</pre></div><script>\n",
              "      (() => {\n",
              "      const titles = ['show data', 'hide data'];\n",
              "      let index = 0\n",
              "      document.querySelector('#id-9c2c3441-cede-4405-bf27-5f30e45ac861 button').onclick = (e) => {\n",
              "        document.querySelector('#id-9c2c3441-cede-4405-bf27-5f30e45ac861').classList.toggle('show_array');\n",
              "        index = (++index) % 2;\n",
              "        document.querySelector('#id-9c2c3441-cede-4405-bf27-5f30e45ac861 button').textContent = titles[index];\n",
              "        e.preventDefault();\n",
              "        e.stopPropagation();\n",
              "      }\n",
              "      })();\n",
              "    </script>"
            ]
          },
          "metadata": {},
          "execution_count": 8
        }
      ]
    },
    {
      "cell_type": "code",
      "source": [
        "import matplotlib.pyplot as plt\n",
        "for i in range(6):\n",
        "  plt.subplot(3,2,i+1)\n",
        "  plt.imshow(x_train[i], cmap='gray')\n",
        "plt.show()"
      ],
      "metadata": {
        "colab": {
          "base_uri": "https://localhost:8080/"
        },
        "id": "nt8o087S7Sto",
        "outputId": "05a27c95-15d5-4e5e-fe02-f0d921c4e4cd"
      },
      "execution_count": null,
      "outputs": [
        {
          "output_type": "display_data",
          "data": {
            "text/plain": [
              "<Figure size 640x480 with 6 Axes>"
            ],
            "image/png": "[encoded data removed]"
          },
          "metadata": {}
        }
      ]
    },
    {
      "cell_type": "code",
      "source": [
        "model=Sequential(\n",
        "    [\n",
        "        keras.layers.Flatten(),\n",
        "        Dense(10, input_shape=(28*28,),activation=\"relu\"),\n",
        "        Dense(10, activation=\"relu\"),\n",
        "        Dense(10, activation=\"sigmoid\")\n",
        "    ]\n",
        ")"
      ],
      "metadata": {
        "colab": {
          "base_uri": "https://localhost:8080/"
        },
        "id": "Zpz3uAk5NnzW",
        "outputId": "d508f55e-62c0-4c26-8ae7-91f1708623ac"
      },
      "execution_count": null,
      "outputs": [
        {
          "output_type": "stream",
          "name": "stderr",
          "text": [
            "/usr/local/lib/python3.10/dist-packages/keras/src/layers/core/dense.py:87: UserWarning: Do not pass an `input_shape`/`input_dim` argument to a layer. When using Sequential models, prefer using an `Input(shape)` object as the first layer in the model instead.\n",
            "  super().__init__(activity_regularizer=activity_regularizer, **kwargs)\n"
          ]
        }
      ]
    },
    {
      "cell_type": "code",
      "source": [
        "params={\n",
        "    \"loss\":\"sparse_categorical_crossentropy\",\n",
        "    \"metrics\":[\"accuracy\"],\n",
        "    \"optimizer\":\"adam\"\n",
        "}\n",
        "model.compile(**params)"
      ],
      "metadata": {
        "id": "TutsPMrnOAZr"
      },
      "execution_count": null,
      "outputs": []
    },
    {
      "cell_type": "code",
      "source": [
        "model.summary()"
      ],
      "metadata": {
        "colab": {
          "base_uri": "https://localhost:8080/"
        },
        "id": "Vj08ZJeggW1w",
        "outputId": "3b11459e-e09a-40c1-8f99-acfeceb103d5"
      },
      "execution_count": null,
      "outputs": [
        {
          "output_type": "display_data",
          "data": {
            "text/plain": [
              "\u001b[1mModel: \"sequential\"\u001b[0m\n"
            ],
            "text/html": [
              "<pre style=\"white-space:pre;overflow-x:auto;line-height:normal;font-family:Menlo,'DejaVu Sans Mono',consolas,'Courier New',monospace\"><span style=\"font-weight: bold\">Model: \"sequential\"</span>\n",
              "</pre>\n"
            ]
          },
          "metadata": {}
        },
        {
          "output_type": "display_data",
          "data": {
            "text/plain": [
              "┏━━━━━━━━━━━━━━━━━━━━━━━━━━━━━━━━━━━━━━┳━━━━━━━━━━━━━━━━━━━━━━━━━━━━━┳━━━━━━━━━━━━━━━━━┓\n",
              "┃\u001b[1m \u001b[0m\u001b[1mLayer (type)                        \u001b[0m\u001b[1m \u001b[0m┃\u001b[1m \u001b[0m\u001b[1mOutput Shape               \u001b[0m\u001b[1m \u001b[0m┃\u001b[1m \u001b[0m\u001b[1m        Param #\u001b[0m\u001b[1m \u001b[0m┃\n",
              "┡━━━━━━━━━━━━━━━━━━━━━━━━━━━━━━━━━━━━━━╇━━━━━━━━━━━━━━━━━━━━━━━━━━━━━╇━━━━━━━━━━━━━━━━━┩\n",
              "│ flatten (\u001b[38;5;33mFlatten\u001b[0m)                    │ ?                           │     \u001b[38;5;34m0\u001b[0m (unbuilt) │\n",
              "├──────────────────────────────────────┼─────────────────────────────┼─────────────────┤\n",
              "│ dense (\u001b[38;5;33mDense\u001b[0m)                        │ ?                           │     \u001b[38;5;34m0\u001b[0m (unbuilt) │\n",
              "├──────────────────────────────────────┼─────────────────────────────┼─────────────────┤\n",
              "│ dense_1 (\u001b[38;5;33mDense\u001b[0m)                      │ ?                           │     \u001b[38;5;34m0\u001b[0m (unbuilt) │\n",
              "├──────────────────────────────────────┼─────────────────────────────┼─────────────────┤\n",
              "│ dense_2 (\u001b[38;5;33mDense\u001b[0m)                      │ ?                           │     \u001b[38;5;34m0\u001b[0m (unbuilt) │\n",
              "└──────────────────────────────────────┴─────────────────────────────┴─────────────────┘\n"
            ],
            "text/html": [
              "<pre style=\"white-space:pre;overflow-x:auto;line-height:normal;font-family:Menlo,'DejaVu Sans Mono',consolas,'Courier New',monospace\">┏━━━━━━━━━━━━━━━━━━━━━━━━━━━━━━━━━━━━━━┳━━━━━━━━━━━━━━━━━━━━━━━━━━━━━┳━━━━━━━━━━━━━━━━━┓\n",
              "┃<span style=\"font-weight: bold\"> Layer (type)                         </span>┃<span style=\"font-weight: bold\"> Output Shape                </span>┃<span style=\"font-weight: bold\">         Param # </span>┃\n",
              "┡━━━━━━━━━━━━━━━━━━━━━━━━━━━━━━━━━━━━━━╇━━━━━━━━━━━━━━━━━━━━━━━━━━━━━╇━━━━━━━━━━━━━━━━━┩\n",
              "│ flatten (<span style=\"color: #0087ff; text-decoration-color: #0087ff\">Flatten</span>)                    │ ?                           │     <span style=\"color: #00af00; text-decoration-color: #00af00\">0</span> (unbuilt) │\n",
              "├──────────────────────────────────────┼─────────────────────────────┼─────────────────┤\n",
              "│ dense (<span style=\"color: #0087ff; text-decoration-color: #0087ff\">Dense</span>)                        │ ?                           │     <span style=\"color: #00af00; text-decoration-color: #00af00\">0</span> (unbuilt) │\n",
              "├──────────────────────────────────────┼─────────────────────────────┼─────────────────┤\n",
              "│ dense_1 (<span style=\"color: #0087ff; text-decoration-color: #0087ff\">Dense</span>)                      │ ?                           │     <span style=\"color: #00af00; text-decoration-color: #00af00\">0</span> (unbuilt) │\n",
              "├──────────────────────────────────────┼─────────────────────────────┼─────────────────┤\n",
              "│ dense_2 (<span style=\"color: #0087ff; text-decoration-color: #0087ff\">Dense</span>)                      │ ?                           │     <span style=\"color: #00af00; text-decoration-color: #00af00\">0</span> (unbuilt) │\n",
              "└──────────────────────────────────────┴─────────────────────────────┴─────────────────┘\n",
              "</pre>\n"
            ]
          },
          "metadata": {}
        },
        {
          "output_type": "display_data",
          "data": {
            "text/plain": [
              "\u001b[1m Total params: \u001b[0m\u001b[38;5;34m0\u001b[0m (0.00 B)\n"
            ],
            "text/html": [
              "<pre style=\"white-space:pre;overflow-x:auto;line-height:normal;font-family:Menlo,'DejaVu Sans Mono',consolas,'Courier New',monospace\"><span style=\"font-weight: bold\"> Total params: </span><span style=\"color: #00af00; text-decoration-color: #00af00\">0</span> (0.00 B)\n",
              "</pre>\n"
            ]
          },
          "metadata": {}
        },
        {
          "output_type": "display_data",
          "data": {
            "text/plain": [
              "\u001b[1m Trainable params: \u001b[0m\u001b[38;5;34m0\u001b[0m (0.00 B)\n"
            ],
            "text/html": [
              "<pre style=\"white-space:pre;overflow-x:auto;line-height:normal;font-family:Menlo,'DejaVu Sans Mono',consolas,'Courier New',monospace\"><span style=\"font-weight: bold\"> Trainable params: </span><span style=\"color: #00af00; text-decoration-color: #00af00\">0</span> (0.00 B)\n",
              "</pre>\n"
            ]
          },
          "metadata": {}
        },
        {
          "output_type": "display_data",
          "data": {
            "text/plain": [
              "\u001b[1m Non-trainable params: \u001b[0m\u001b[38;5;34m0\u001b[0m (0.00 B)\n"
            ],
            "text/html": [
              "<pre style=\"white-space:pre;overflow-x:auto;line-height:normal;font-family:Menlo,'DejaVu Sans Mono',consolas,'Courier New',monospace\"><span style=\"font-weight: bold\"> Non-trainable params: </span><span style=\"color: #00af00; text-decoration-color: #00af00\">0</span> (0.00 B)\n",
              "</pre>\n"
            ]
          },
          "metadata": {}
        }
      ]
    },
    {
      "cell_type": "code",
      "source": [
        "test_X=test_X/255\n",
        "train_X=train_X/255\n",
        "train_X.shape"
      ],
      "metadata": {
        "colab": {
          "base_uri": "https://localhost:8080/"
        },
        "id": "mumxi3lSzeZ9",
        "outputId": "a2735b06-f9fb-43fb-b9b3-5b358ad1c8c2"
      },
      "execution_count": null,
      "outputs": [
        {
          "output_type": "error",
          "ename": "NameError",
          "evalue": "name 'test_X' is not defined",
          "traceback": [
            "\u001b[0;31m---------------------------------------------------------------------------\u001b[0m",
            "\u001b[0;31mNameError\u001b[0m                                 Traceback (most recent call last)",
            "\u001b[0;32m<ipython-input-15-c2178fdc43fc>\u001b[0m in \u001b[0;36m<cell line: 1>\u001b[0;34m()\u001b[0m\n\u001b[0;32m----> 1\u001b[0;31m \u001b[0mtest_X\u001b[0m\u001b[0;34m=\u001b[0m\u001b[0mtest_X\u001b[0m\u001b[0;34m/\u001b[0m\u001b[0;36m255\u001b[0m\u001b[0;34m\u001b[0m\u001b[0;34m\u001b[0m\u001b[0m\n\u001b[0m\u001b[1;32m      2\u001b[0m \u001b[0mtrain_X\u001b[0m\u001b[0;34m=\u001b[0m\u001b[0mtrain_X\u001b[0m\u001b[0;34m/\u001b[0m\u001b[0;36m255\u001b[0m\u001b[0;34m\u001b[0m\u001b[0;34m\u001b[0m\u001b[0m\n\u001b[1;32m      3\u001b[0m \u001b[0mtrain_X\u001b[0m\u001b[0;34m.\u001b[0m\u001b[0mshape\u001b[0m\u001b[0;34m\u001b[0m\u001b[0;34m\u001b[0m\u001b[0m\n",
            "\u001b[0;31mNameError\u001b[0m: name 'test_X' is not defined"
          ]
        }
      ]
    },
    {
      "cell_type": "code",
      "source": [
        "# Either use this standard piece or use the manual normalization that is mentioned in the next cell.\n",
        "# In this cell, I tried both MinMaxScaler and StandardScaler and I think MinMaxScaler is performing BETTER\n",
        "\n",
        "from sklearn.preprocessing import MinMaxScaler, StandardScaler\n",
        "#mms=MinMaxScaler()\n",
        "mms=StandardScaler()\n",
        "train_X_scaled=mms.fit_transform(x_train.reshape(-1, 28*28))\n",
        "test_X_scaled=mms.fit_transform(x_test.reshape(-1, 28*28))\n",
        "train_X_scaled[0]"
      ],
      "metadata": {
        "colab": {
          "base_uri": "https://localhost:8080/"
        },
        "id": "iVIqRYerzRzL",
        "outputId": "53488b8c-8b1b-442f-e163-0476b74a3017"
      },
      "execution_count": null,
      "outputs": [
        {
          "output_type": "execute_result",
          "data": {
            "text/plain": [
              "array([ 0.00000000e+00,  0.00000000e+00,  0.00000000e+00,  0.00000000e+00,\n",
              "        0.00000000e+00,  0.00000000e+00,  0.00000000e+00,  0.00000000e+00,\n",
              "        0.00000000e+00,  0.00000000e+00,  0.00000000e+00,  0.00000000e+00,\n",
              "       -4.41807799e-03, -5.75481961e-03, -4.08251693e-03, -4.08251693e-03,\n",
              "        0.00000000e+00,  0.00000000e+00,  0.00000000e+00,  0.00000000e+00,\n",
              "        0.00000000e+00,  0.00000000e+00,  0.00000000e+00,  0.00000000e+00,\n",
              "        0.00000000e+00,  0.00000000e+00,  0.00000000e+00,  0.00000000e+00,\n",
              "        0.00000000e+00,  0.00000000e+00,  0.00000000e+00,  0.00000000e+00,\n",
              "       -4.08251693e-03, -4.70968827e-03, -8.79934640e-03, -1.15905591e-02,\n",
              "       -1.47589798e-02, -1.92848546e-02, -2.46717975e-02, -2.90710271e-02,\n",
              "       -3.05926583e-02, -3.11640127e-02, -3.19628719e-02, -3.02025355e-02,\n",
              "       -3.13102175e-02, -2.83833960e-02, -2.31191906e-02, -1.91666260e-02,\n",
              "       -1.67723008e-02, -1.09963601e-02, -8.32486080e-03, -4.38069356e-03,\n",
              "        0.00000000e+00,  0.00000000e+00,  0.00000000e+00,  0.00000000e+00,\n",
              "        0.00000000e+00,  0.00000000e+00, -4.08251693e-03, -5.39534598e-03,\n",
              "       -8.52241235e-03, -1.19850363e-02, -1.76534777e-02, -2.77108989e-02,\n",
              "       -3.70200943e-02, -5.21512802e-02, -6.70362007e-02, -8.30170484e-02,\n",
              "       -9.93792978e-02, -1.15184128e-01, -1.29133256e-01, -1.38394677e-01,\n",
              "       -1.38883631e-01, -1.31843438e-01, -1.20429522e-01, -1.01890795e-01,\n",
              "       -7.86049044e-02, -5.69956130e-02, -3.96576839e-02, -2.37283861e-02,\n",
              "       -1.40883463e-02, -7.83084068e-03,  0.00000000e+00,  0.00000000e+00,\n",
              "        0.00000000e+00,  0.00000000e+00, -5.36837753e-03, -8.87060589e-03,\n",
              "       -1.40708170e-02, -2.21468098e-02, -3.51801368e-02, -5.50236802e-02,\n",
              "       -7.90961321e-02, -1.07649012e-01, -1.37169936e-01, -1.67105761e-01,\n",
              "       -1.96008755e-01, -2.24491114e-01, -2.48655991e-01, -2.62117971e-01,\n",
              "       -2.62596902e-01, -2.47855903e-01, -2.21947003e-01, -1.87211405e-01,\n",
              "       -1.47640132e-01, -1.08164364e-01, -7.68121117e-02, -4.70752996e-02,\n",
              "       -3.02019676e-02, -1.52412436e-02, -5.28371965e-03,  0.00000000e+00,\n",
              "        0.00000000e+00, -4.08251693e-03, -7.76342302e-03, -1.48932548e-02,\n",
              "       -2.39627505e-02, -5.03408980e-02, -7.87674703e-02, -1.16181540e-01,\n",
              "       -1.61247562e-01, -2.11961635e-01, -2.66898731e-01, -3.25678010e-01,\n",
              "       -3.90241548e-01, -4.52076376e-01, -4.99397984e-01, -5.23428324e-01,\n",
              "       -5.17618894e-01, -4.80902419e-01, -4.23079694e-01, -3.56740395e-01,\n",
              "       -2.83683648e-01, -2.16836661e-01, -1.58524380e-01, -1.08784581e-01,\n",
              "       -7.09225309e-02, -3.89534819e-02, -1.42523852e-02, -5.77049806e-03,\n",
              "        0.00000000e+00,  0.00000000e+00, -1.19017406e-02, -2.20501560e-02,\n",
              "       -5.18380750e-02, -9.06597035e-02, -1.39667106e-01, -1.97082121e-01,\n",
              "       -2.64384728e-01, -3.40730442e-01, -4.22535749e-01, -5.15408649e-01,\n",
              "       -5.84660366e-01, -5.41363044e-01, -6.26156785e-01, -6.69145031e-01,\n",
              "        3.43637162e-01,  5.31056017e-01,  1.10236573e+00, -2.65802578e-01,\n",
              "        1.71565971e+00,  3.77344822e+00,  4.93900230e+00,  3.45006811e+00,\n",
              "       -1.31080130e-01, -7.48460374e-02, -3.19301291e-02, -8.20891834e-03,\n",
              "        0.00000000e+00, -5.57015293e-03, -1.56619271e-02, -3.63656606e-02,\n",
              "       -7.90243079e-02, -1.33289086e-01, -1.99154411e-01, -2.75429691e-01,\n",
              "        8.82421166e-02, -1.60018965e-02,  4.42476487e-01,  8.18775057e-01,\n",
              "        7.49339511e-01,  1.32200212e+00,  1.19900231e+00,  1.14748071e+00,\n",
              "        1.16876765e+00,  1.25693737e+00,  1.17313576e+00,  9.33441548e-01,\n",
              "        2.13777179e+00,  2.64653072e+00,  2.81275280e+00,  1.14339095e+00,\n",
              "       -1.72939702e-01, -1.04104240e-01, -4.83176220e-02, -1.47080183e-02,\n",
              "       -4.08251693e-03, -1.32310093e-02, -2.62438209e-02, -5.91585908e-02,\n",
              "       -1.13004853e-01, -1.78441525e-01, -2.58004810e-01,  4.14936751e-01,\n",
              "        2.55139991e+00,  2.15784271e+00,  1.76151117e+00,  1.47855282e+00,\n",
              "        1.28620376e+00,  1.15934214e+00,  1.08883060e+00,  1.06792169e+00,\n",
              "        1.08561216e+00,  1.12333034e+00, -1.85138147e-01, -1.08110686e-01,\n",
              "        1.20942182e-01,  1.04310652e-01,  1.53347815e-01, -2.87681279e-01,\n",
              "       -1.97007025e-01, -1.21228940e-01, -5.68086109e-02, -1.53906680e-02,\n",
              "       -5.02549298e-03, -1.73205192e-02, -4.30805391e-02, -8.52488969e-02,\n",
              "       -1.39458369e-01, -2.10883308e-01, -3.00017977e-01, -1.59588571e-01,\n",
              "        1.95384078e+00,  1.84773395e+00,  1.51729633e+00,  1.30892138e+00,\n",
              "        1.20210616e+00,  1.16376234e+00,  6.74199715e-01,  5.38435658e-01,\n",
              "        1.12192712e+00,  1.07058610e+00, -1.04378667e+00, -9.12978504e-01,\n",
              "       -7.39191314e-01, -5.71005505e-01, -4.23671002e-01, -2.98196207e-01,\n",
              "       -1.97686135e-01, -1.20683815e-01, -5.39356285e-02, -1.35055434e-02,\n",
              "       -5.90571261e-03, -2.11096679e-02, -5.29890369e-02, -9.30784924e-02,\n",
              "       -1.50398734e-01, -2.26191023e-01, -3.23645340e-01, -4.42131217e-01,\n",
              "        2.70213751e-01,  7.45930827e-01,  7.23832933e-02,  1.27771203e+00,\n",
              "        1.27734539e+00,  9.12254680e-01, -8.07963349e-01, -9.13935971e-01,\n",
              "       -5.60996653e-01,  3.90063789e-01, -9.99486551e-01, -9.01508612e-01,\n",
              "       -7.36681516e-01, -5.67589421e-01, -4.20171899e-01, -2.90174595e-01,\n",
              "       -1.81482351e-01, -1.04939775e-01, -4.72131729e-02, -1.41308656e-02,\n",
              "       -5.77280519e-03, -2.26322771e-02, -5.28031747e-02, -9.22058067e-02,\n",
              "       -1.47451700e-01, -2.27284588e-01, -3.32428316e-01, -4.62696158e-01,\n",
              "       -6.19033521e-01, -6.52626518e-01, -8.99148251e-01,  4.58886633e-01,\n",
              "        1.47356894e+00,  6.77134887e-02, -7.71412102e-01, -8.03560093e-01,\n",
              "       -8.73939297e-01, -9.51575414e-01, -9.62131065e-01, -8.63473259e-01,\n",
              "       -7.01324246e-01, -5.37396564e-01, -3.96771027e-01, -2.71222642e-01,\n",
              "       -1.59324464e-01, -8.12584087e-02, -3.69508670e-02, -1.18733992e-02,\n",
              "       -7.05517396e-03, -2.07711768e-02, -4.72035624e-02, -8.20038362e-02,\n",
              "       -1.37457285e-01, -2.25181955e-01, -3.38492381e-01, -4.82934997e-01,\n",
              "       -6.48288219e-01, -8.09805311e-01, -8.96460461e-01,  4.05564687e-01,\n",
              "        1.64634567e+00,  1.16516320e+00, -7.21489008e-01, -8.02210470e-01,\n",
              "       -9.01262815e-01, -9.77722928e-01, -9.55547943e-01, -8.24902899e-01,\n",
              "       -6.55987835e-01, -4.99364187e-01, -3.69573309e-01, -2.58464407e-01,\n",
              "       -1.49695715e-01, -6.11113564e-02, -2.80115688e-02, -9.12509965e-03,\n",
              "       -5.30435130e-03, -1.62383999e-02, -3.63786148e-02, -6.85820105e-02,\n",
              "       -1.27368499e-01, -2.26143360e-01, -3.52202906e-01, -5.07583513e-01,\n",
              "       -6.79449640e-01, -8.28251048e-01, -8.88830036e-01, -7.40225109e-01,\n",
              "        1.06068287e+00,  1.68492907e+00, -1.77575688e-01, -9.17683490e-01,\n",
              "       -1.02909594e+00, -1.05827900e+00, -9.65674043e-01, -7.94476763e-01,\n",
              "       -6.16749363e-01, -4.70072884e-01, -3.55124414e-01, -2.55407545e-01,\n",
              "       -1.53824513e-01, -5.24542821e-02, -2.15058651e-02, -9.92198161e-03,\n",
              "       -4.08251693e-03, -1.09343854e-02, -2.55447979e-02, -5.70730810e-02,\n",
              "       -1.24662020e-01, -2.38498173e-01, -3.73258897e-01, -5.33136068e-01,\n",
              "       -7.02094140e-01, -8.37450050e-01, -8.80074249e-01, -8.41014273e-01,\n",
              "       -4.87694929e-01,  1.32485786e+00,  9.98375471e-01,  3.22814268e-01,\n",
              "       -1.98337189e-01, -1.11994100e+00, -9.76070413e-01, -7.75195395e-01,\n",
              "       -5.94446605e-01, -4.60910238e-01, -3.55500546e-01, -2.63549180e-01,\n",
              "       -1.64503687e-01, -5.95130325e-02, -2.33686679e-02, -7.40432376e-03,\n",
              "       -4.08251693e-03, -7.98834543e-03, -1.82964530e-02, -5.13394345e-02,\n",
              "       -1.29346397e-01, -2.57521393e-01, -3.95011330e-01, -5.50421723e-01,\n",
              "       -7.07323088e-01, -8.26049817e-01, -8.67853151e-01, -8.60743722e-01,\n",
              "       -9.04035680e-01, -3.08572618e-01,  9.64876914e-01,  1.03583353e+00,\n",
              "        1.05517267e+00, -8.08498334e-02, -7.38205686e-01, -7.63011316e-01,\n",
              "       -5.97027040e-01, -4.72019989e-01, -3.68370412e-01, -2.73325316e-01,\n",
              "       -1.73386634e-01, -6.89427199e-02, -2.46446573e-02, -6.98490193e-03,\n",
              "       -4.77028006e-03, -4.18942802e-03, -1.86482564e-02, -5.32721237e-02,\n",
              "       -1.40420517e-01, -2.77180624e-01, -4.12209008e-01, -5.54003398e-01,\n",
              "       -6.92005443e-01, -7.92583140e-01, -8.41940836e-01, -8.69766983e-01,\n",
              "       -9.58664347e-01, -1.09410266e+00, -8.05303712e-01,  4.28897581e-01,\n",
              "        1.08836286e+00,  1.16827871e+00,  4.42989478e-01, -4.93267386e-01,\n",
              "       -6.09787183e-01, -4.86753939e-01, -3.80896777e-01, -2.78298890e-01,\n",
              "       -1.75491552e-01, -7.70261425e-02, -2.96263040e-02, -9.11024024e-03,\n",
              "       -4.08251693e-03, -6.70727737e-03, -2.16014323e-02, -6.07076923e-02,\n",
              "       -1.57022412e-01, -2.97163168e-01, -4.22306798e-01, -5.45726707e-01,\n",
              "       -6.59100289e-01, -7.41250552e-01, -7.88379565e-01, -8.33967293e-01,\n",
              "       -9.19413398e-01, -1.02595562e+00, -1.12277551e+00, -1.00128625e+00,\n",
              "       -2.50181723e-01,  1.26567434e+00,  1.45264065e+00,  1.05397980e+00,\n",
              "       -6.15621643e-01, -4.93079765e-01, -3.79874281e-01, -2.73517649e-01,\n",
              "       -1.73539121e-01, -8.40501482e-02, -3.41624422e-02, -8.93964748e-03,\n",
              "        0.00000000e+00, -8.93208845e-03, -2.53977634e-02, -7.39001757e-02,\n",
              "       -1.77860047e-01, -3.13383430e-01, -4.29013061e-01, -5.35088936e-01,\n",
              "       -6.20781988e-01, -6.82689238e-01, -7.23470137e-01, -7.65558979e-01,\n",
              "       -8.25070425e-01, -9.19390235e-01, -1.00626013e+00, -1.03281505e+00,\n",
              "       -1.01067269e+00,  1.31519954e+00,  1.48115098e+00,  1.64560188e+00,\n",
              "        4.82880931e-02, -4.85156292e-01, -3.68041978e-01, -2.60781824e-01,\n",
              "       -1.68333757e-01, -8.85426370e-02, -3.59362339e-02, -1.07108129e-02,\n",
              "       -5.90596678e-03, -6.35211414e-03, -3.33202141e-02, -9.13048630e-02,\n",
              "       -1.99108031e-01, -3.27967412e-01, -4.38995427e-01, -5.34454088e-01,\n",
              "       -6.05947897e-01, -6.59405094e-01, -6.97848366e-01, -7.30422894e-01,\n",
              "       -7.81125667e-01, -8.71688552e-01, -5.44696352e-01,  1.60415053e-01,\n",
              "        6.50220851e-01,  1.34279902e+00,  1.46193998e+00,  1.24594172e+00,\n",
              "       -5.73926496e-01, -4.63429150e-01, -3.48771144e-01, -2.45884747e-01,\n",
              "       -1.58200936e-01, -8.54379627e-02, -3.15579616e-02, -9.76041412e-03,\n",
              "       -4.08251693e-03, -1.12816627e-02, -3.97571016e-02, -1.03852335e-01,\n",
              "       -2.11980971e-01, -3.37477889e-01, -4.51701933e-01, -5.52131610e-01,\n",
              "       -6.31886475e-01, -6.93224391e-01, -7.38384900e-01, -7.70730767e-01,\n",
              "       -4.69506063e-01,  4.22382973e-01,  1.04567034e+00,  1.21745436e+00,\n",
              "        1.23935680e+00,  1.31032797e+00,  1.44686109e+00,  1.07419019e+00,\n",
              "       -5.55385654e-01, -4.27074606e-01, -3.16810480e-01, -2.20685803e-01,\n",
              "       -1.41057264e-01, -7.81710423e-02, -2.91825785e-02, -8.02578597e-03,\n",
              "        0.00000000e+00, -1.03421049e-02, -4.32736220e-02, -1.09167014e-01,\n",
              "       -2.09032573e-01, -3.30224641e-01, -4.54875266e-01, -5.69196807e-01,\n",
              "       -6.72943600e-01, -7.60601226e-01, -6.08747781e-01,  1.45933875e-01,\n",
              "        1.02756383e+00,  1.21554325e+00,  1.14867049e+00,  1.14592402e+00,\n",
              "        1.21167774e+00,  8.79504318e-01, -5.51616072e-02, -6.26990956e-01,\n",
              "       -4.88062775e-01, -3.68951144e-01, -2.69292226e-01, -1.87212623e-01,\n",
              "       -1.21627434e-01, -6.64938197e-02, -2.60330031e-02, -5.77331594e-03,\n",
              "       -4.08251693e-03, -1.00095035e-02, -4.04987315e-02, -9.99847079e-02,\n",
              "       -1.88201724e-01, -2.99631312e-01, -4.27248469e-01, -5.55251360e-01,\n",
              "       -4.59112688e-01, -1.95242950e-01,  1.00790158e+00,  1.26095332e+00,\n",
              "        1.17394853e+00,  1.11115667e+00,  1.09552493e+00,  6.59061964e-01,\n",
              "       -2.62412945e-01, -8.13628297e-01, -6.67125990e-01, -5.22694492e-01,\n",
              "       -3.99065428e-01, -2.96700643e-01, -2.12626224e-01, -1.48693958e-01,\n",
              "       -9.68957284e-02, -5.09310889e-02, -2.02144293e-02, -4.08251693e-03,\n",
              "       -4.08251693e-03, -6.00490574e-03, -3.37063471e-02, -7.89724505e-02,\n",
              "       -1.47741377e-01, -2.43250250e-01, -8.30458387e-02,  1.56042653e+00,\n",
              "        1.61327333e+00,  1.60667106e+00,  1.37992544e+00,  1.23963346e+00,\n",
              "        1.16030302e+00,  6.21560395e-01, -3.61925123e-01, -8.82206990e-01,\n",
              "       -8.17668173e-01, -6.64655910e-01, -5.23595080e-01, -4.02142028e-01,\n",
              "       -3.03069160e-01, -2.21680844e-01, -1.59365935e-01, -1.10060699e-01,\n",
              "       -7.00397650e-02, -3.71356228e-02, -1.22014099e-02, -4.08251693e-03,\n",
              "        0.00000000e+00,  0.00000000e+00, -2.27387266e-02, -5.19053972e-02,\n",
              "        3.07386858e+00,  5.60859323e+00,  4.62960950e+00,  3.53861155e+00,\n",
              "        2.59001419e+00,  2.02823973e+00,  1.68064378e+00,  1.39229082e+00,\n",
              "        3.01200685e-01, -7.99993648e-01, -8.39748579e-01, -7.34655534e-01,\n",
              "       -6.12575711e-01, -4.92071188e-01, -3.79928167e-01, -2.88817393e-01,\n",
              "       -2.13440937e-01, -1.53667782e-01, -1.09126008e-01, -7.40987562e-02,\n",
              "       -4.33171851e-02, -1.93437920e-02, -1.04024820e-02,  0.00000000e+00,\n",
              "        0.00000000e+00,  0.00000000e+00, -1.03527008e-02, -2.87501024e-02,\n",
              "        1.43442321e+01,  1.49676659e+01,  9.09224842e+00,  5.95866001e+00,\n",
              "        3.52099754e+00,  1.54840932e+00,  1.15868445e+00, -3.51803603e-01,\n",
              "       -5.66505989e-01, -5.62783656e-01, -5.27164696e-01, -4.68057397e-01,\n",
              "       -3.95805045e-01, -3.24789446e-01, -2.55705032e-01, -1.94611712e-01,\n",
              "       -1.44574205e-01, -1.01773543e-01, -7.14252227e-02, -4.77777569e-02,\n",
              "       -2.57524359e-02, -1.13794237e-02, -4.75287492e-03,  0.00000000e+00,\n",
              "        0.00000000e+00,  0.00000000e+00, -6.66430111e-03, -1.09642132e-02,\n",
              "       -2.76044516e-02, -5.15536012e-02, -8.67718458e-02, -1.28392033e-01,\n",
              "       -1.75775898e-01, -2.23054438e-01, -2.66640286e-01, -2.94844315e-01,\n",
              "       -3.07505433e-01, -3.05180122e-01, -2.89231779e-01, -2.63231291e-01,\n",
              "       -2.33723589e-01, -2.01027824e-01, -1.63691052e-01, -1.27665996e-01,\n",
              "       -9.39651393e-02, -6.56832591e-02, -4.59265310e-02, -2.87188097e-02,\n",
              "       -1.56930365e-02, -5.67530616e-03, -4.08251693e-03,  0.00000000e+00,\n",
              "        0.00000000e+00,  0.00000000e+00,  0.00000000e+00, -4.08251693e-03,\n",
              "       -1.51213939e-02, -3.13695545e-02, -5.33302349e-02, -7.92282669e-02,\n",
              "       -1.08376650e-01, -1.33979068e-01, -1.57513181e-01, -1.75105513e-01,\n",
              "       -1.82626897e-01, -1.80535341e-01, -1.69876491e-01, -1.53157314e-01,\n",
              "       -1.35433124e-01, -1.16480299e-01, -9.39512541e-02, -7.25768871e-02,\n",
              "       -5.23643597e-02, -3.63829995e-02, -2.15030637e-02, -1.30192791e-02,\n",
              "       -4.49421517e-03, -4.08251693e-03,  0.00000000e+00,  0.00000000e+00,\n",
              "        0.00000000e+00,  0.00000000e+00,  0.00000000e+00,  0.00000000e+00,\n",
              "       -5.79016363e-03, -9.05384592e-03, -1.60054430e-02, -2.21197601e-02,\n",
              "       -2.68459958e-02, -3.18450632e-02, -4.37484087e-02, -4.72829474e-02,\n",
              "       -5.31388046e-02, -5.66228194e-02, -6.03383556e-02, -5.62950014e-02,\n",
              "       -5.13665378e-02, -4.26322798e-02, -3.31710271e-02, -2.24628830e-02,\n",
              "       -1.60690870e-02, -1.14322028e-02, -9.00729450e-03, -5.77039393e-03,\n",
              "        0.00000000e+00,  0.00000000e+00,  0.00000000e+00,  0.00000000e+00])"
            ]
          },
          "metadata": {},
          "execution_count": 17
        }
      ]
    },
    {
      "cell_type": "code",
      "source": [
        "train_X_flattened=x_train.reshape(len(x_train),28*28)\n",
        "test_X_flattened=x_test.reshape(len(x_test),28*28)\n",
        "train_X_flattened.shape"
      ],
      "metadata": {
        "colab": {
          "base_uri": "https://localhost:8080/"
        },
        "id": "kGeXrHmlz8D2",
        "outputId": "5dfb6237-0d24-48da-a1c6-ea6f7543e368"
      },
      "execution_count": null,
      "outputs": [
        {
          "output_type": "execute_result",
          "data": {
            "text/plain": [
              "(60000, 784)"
            ]
          },
          "metadata": {},
          "execution_count": 19
        }
      ]
    },
    {
      "cell_type": "code",
      "source": [
        "# In this cell I performed a manual normalization but I believe the MinMaxScaler is slightly better in terms of accuracy for both train and validation datasets\n",
        "\n",
        "from sklearn.preprocessing import MinMaxScaler\n",
        "mms=MinMaxScaler()\n",
        "#x_train=mms.fit_transform(x_train.reshape(-1,28*28))\n",
        "#x_test=mms.fit_transform(x_test.reshape(-1,28*28))\n",
        "x_train=mms.fit_transform(x_train.reshape(len(x_train), 28*28))\n",
        "x_test=mms.fit_transform(x_test.reshape(len(x_test), 28*28))\n"
      ],
      "metadata": {
        "id": "dfvpc7DygtTW"
      },
      "execution_count": null,
      "outputs": []
    },
    {
      "cell_type": "code",
      "source": [
        "#h=model.fit(x_train.reshape(len(x_train),28*28),y_train,epochs=50, validation_split=0.1, batch_size=75)\n",
        "h=model.fit(x_train,y_train,epochs=50, validation_split=0.1, batch_size=100)"
      ],
      "metadata": {
        "colab": {
          "base_uri": "https://localhost:8080/"
        },
        "id": "JcNVBcBGgZ6V",
        "outputId": "6fd20a54-67ac-4014-dd49-7c5147234cf1"
      },
      "execution_count": null,
      "outputs": [
        {
          "output_type": "stream",
          "name": "stdout",
          "text": [
            "Epoch 1/50\n",
            "\u001b[1m540/540\u001b[0m \u001b[32m━━━━━━━━━━━━━━━━━━━━\u001b[0m\u001b[37m\u001b[0m \u001b[1m4s\u001b[0m 4ms/step - accuracy: 0.5630 - loss: 1.3606 - val_accuracy: 0.8927 - val_loss: 0.3817\n",
            "Epoch 2/50\n",
            "\u001b[1m540/540\u001b[0m \u001b[32m━━━━━━━━━━━━━━━━━━━━\u001b[0m\u001b[37m\u001b[0m \u001b[1m3s\u001b[0m 5ms/step - accuracy: 0.8814 - loss: 0.4122 - val_accuracy: 0.9160 - val_loss: 0.2967\n",
            "Epoch 3/50\n",
            "\u001b[1m540/540\u001b[0m \u001b[32m━━━━━━━━━━━━━━━━━━━━\u001b[0m\u001b[37m\u001b[0m \u001b[1m5s\u001b[0m 8ms/step - accuracy: 0.9033 - loss: 0.3364 - val_accuracy: 0.9213 - val_loss: 0.2669\n",
            "Epoch 4/50\n",
            "\u001b[1m540/540\u001b[0m \u001b[32m━━━━━━━━━━━━━━━━━━━━\u001b[0m\u001b[37m\u001b[0m \u001b[1m3s\u001b[0m 4ms/step - accuracy: 0.9096 - loss: 0.3125 - val_accuracy: 0.9268 - val_loss: 0.2502\n",
            "Epoch 5/50\n",
            "\u001b[1m540/540\u001b[0m \u001b[32m━━━━━━━━━━━━━━━━━━━━\u001b[0m\u001b[37m\u001b[0m \u001b[1m2s\u001b[0m 3ms/step - accuracy: 0.9188 - loss: 0.2895 - val_accuracy: 0.9338 - val_loss: 0.2292\n",
            "Epoch 6/50\n",
            "\u001b[1m540/540\u001b[0m \u001b[32m━━━━━━━━━━━━━━━━━━━━\u001b[0m\u001b[37m\u001b[0m \u001b[1m4s\u001b[0m 5ms/step - accuracy: 0.9216 - loss: 0.2704 - val_accuracy: 0.9388 - val_loss: 0.2183\n",
            "Epoch 7/50\n",
            "\u001b[1m540/540\u001b[0m \u001b[32m━━━━━━━━━━━━━━━━━━━━\u001b[0m\u001b[37m\u001b[0m \u001b[1m2s\u001b[0m 4ms/step - accuracy: 0.9255 - loss: 0.2588 - val_accuracy: 0.9402 - val_loss: 0.2111\n",
            "Epoch 8/50\n",
            "\u001b[1m540/540\u001b[0m \u001b[32m━━━━━━━━━━━━━━━━━━━━\u001b[0m\u001b[37m\u001b[0m \u001b[1m3s\u001b[0m 5ms/step - accuracy: 0.9287 - loss: 0.2481 - val_accuracy: 0.9410 - val_loss: 0.2070\n",
            "Epoch 9/50\n",
            "\u001b[1m540/540\u001b[0m \u001b[32m━━━━━━━━━━━━━━━━━━━━\u001b[0m\u001b[37m\u001b[0m \u001b[1m5s\u001b[0m 5ms/step - accuracy: 0.9300 - loss: 0.2398 - val_accuracy: 0.9410 - val_loss: 0.2034\n",
            "Epoch 10/50\n",
            "\u001b[1m540/540\u001b[0m \u001b[32m━━━━━━━━━━━━━━━━━━━━\u001b[0m\u001b[37m\u001b[0m \u001b[1m3s\u001b[0m 5ms/step - accuracy: 0.9336 - loss: 0.2292 - val_accuracy: 0.9422 - val_loss: 0.2048\n",
            "Epoch 11/50\n",
            "\u001b[1m540/540\u001b[0m \u001b[32m━━━━━━━━━━━━━━━━━━━━\u001b[0m\u001b[37m\u001b[0m \u001b[1m4s\u001b[0m 3ms/step - accuracy: 0.9335 - loss: 0.2301 - val_accuracy: 0.9418 - val_loss: 0.1999\n",
            "Epoch 12/50\n",
            "\u001b[1m540/540\u001b[0m \u001b[32m━━━━━━━━━━━━━━━━━━━━\u001b[0m\u001b[37m\u001b[0m \u001b[1m3s\u001b[0m 3ms/step - accuracy: 0.9337 - loss: 0.2270 - val_accuracy: 0.9448 - val_loss: 0.1938\n",
            "Epoch 13/50\n",
            "\u001b[1m540/540\u001b[0m \u001b[32m━━━━━━━━━━━━━━━━━━━━\u001b[0m\u001b[37m\u001b[0m \u001b[1m1s\u001b[0m 3ms/step - accuracy: 0.9375 - loss: 0.2144 - val_accuracy: 0.9398 - val_loss: 0.2045\n",
            "Epoch 14/50\n",
            "\u001b[1m540/540\u001b[0m \u001b[32m━━━━━━━━━━━━━━━━━━━━\u001b[0m\u001b[37m\u001b[0m \u001b[1m2s\u001b[0m 2ms/step - accuracy: 0.9375 - loss: 0.2188 - val_accuracy: 0.9442 - val_loss: 0.1973\n",
            "Epoch 15/50\n",
            "\u001b[1m540/540\u001b[0m \u001b[32m━━━━━━━━━━━━━━━━━━━━\u001b[0m\u001b[37m\u001b[0m \u001b[1m1s\u001b[0m 2ms/step - accuracy: 0.9378 - loss: 0.2154 - val_accuracy: 0.9458 - val_loss: 0.1929\n",
            "Epoch 16/50\n",
            "\u001b[1m540/540\u001b[0m \u001b[32m━━━━━━━━━━━━━━━━━━━━\u001b[0m\u001b[37m\u001b[0m \u001b[1m3s\u001b[0m 2ms/step - accuracy: 0.9379 - loss: 0.2101 - val_accuracy: 0.9453 - val_loss: 0.1912\n",
            "Epoch 17/50\n",
            "\u001b[1m540/540\u001b[0m \u001b[32m━━━━━━━━━━━━━━━━━━━━\u001b[0m\u001b[37m\u001b[0m \u001b[1m1s\u001b[0m 2ms/step - accuracy: 0.9401 - loss: 0.2029 - val_accuracy: 0.9473 - val_loss: 0.1916\n",
            "Epoch 18/50\n",
            "\u001b[1m540/540\u001b[0m \u001b[32m━━━━━━━━━━━━━━━━━━━━\u001b[0m\u001b[37m\u001b[0m \u001b[1m1s\u001b[0m 2ms/step - accuracy: 0.9415 - loss: 0.1991 - val_accuracy: 0.9468 - val_loss: 0.1869\n",
            "Epoch 19/50\n",
            "\u001b[1m540/540\u001b[0m \u001b[32m━━━━━━━━━━━━━━━━━━━━\u001b[0m\u001b[37m\u001b[0m \u001b[1m2s\u001b[0m 3ms/step - accuracy: 0.9413 - loss: 0.2012 - val_accuracy: 0.9452 - val_loss: 0.1887\n",
            "Epoch 20/50\n",
            "\u001b[1m540/540\u001b[0m \u001b[32m━━━━━━━━━━━━━━━━━━━━\u001b[0m\u001b[37m\u001b[0m \u001b[1m2s\u001b[0m 4ms/step - accuracy: 0.9400 - loss: 0.1999 - val_accuracy: 0.9490 - val_loss: 0.1897\n",
            "Epoch 21/50\n",
            "\u001b[1m540/540\u001b[0m \u001b[32m━━━━━━━━━━━━━━━━━━━━\u001b[0m\u001b[37m\u001b[0m \u001b[1m1s\u001b[0m 2ms/step - accuracy: 0.9438 - loss: 0.1964 - val_accuracy: 0.9473 - val_loss: 0.1878\n",
            "Epoch 22/50\n",
            "\u001b[1m540/540\u001b[0m \u001b[32m━━━━━━━━━━━━━━━━━━━━\u001b[0m\u001b[37m\u001b[0m \u001b[1m1s\u001b[0m 2ms/step - accuracy: 0.9424 - loss: 0.1936 - val_accuracy: 0.9490 - val_loss: 0.1905\n",
            "Epoch 23/50\n",
            "\u001b[1m540/540\u001b[0m \u001b[32m━━━━━━━━━━━━━━━━━━━━\u001b[0m\u001b[37m\u001b[0m \u001b[1m1s\u001b[0m 2ms/step - accuracy: 0.9445 - loss: 0.1893 - val_accuracy: 0.9467 - val_loss: 0.1880\n",
            "Epoch 24/50\n",
            "\u001b[1m540/540\u001b[0m \u001b[32m━━━━━━━━━━━━━━━━━━━━\u001b[0m\u001b[37m\u001b[0m \u001b[1m1s\u001b[0m 2ms/step - accuracy: 0.9427 - loss: 0.1914 - val_accuracy: 0.9472 - val_loss: 0.1900\n",
            "Epoch 25/50\n",
            "\u001b[1m540/540\u001b[0m \u001b[32m━━━━━━━━━━━━━━━━━━━━\u001b[0m\u001b[37m\u001b[0m \u001b[1m1s\u001b[0m 2ms/step - accuracy: 0.9429 - loss: 0.1963 - val_accuracy: 0.9487 - val_loss: 0.1908\n",
            "Epoch 26/50\n",
            "\u001b[1m540/540\u001b[0m \u001b[32m━━━━━━━━━━━━━━━━━━━━\u001b[0m\u001b[37m\u001b[0m \u001b[1m1s\u001b[0m 2ms/step - accuracy: 0.9449 - loss: 0.1870 - val_accuracy: 0.9483 - val_loss: 0.1868\n",
            "Epoch 27/50\n",
            "\u001b[1m540/540\u001b[0m \u001b[32m━━━━━━━━━━━━━━━━━━━━\u001b[0m\u001b[37m\u001b[0m \u001b[1m2s\u001b[0m 2ms/step - accuracy: 0.9439 - loss: 0.1899 - val_accuracy: 0.9475 - val_loss: 0.1912\n",
            "Epoch 28/50\n",
            "\u001b[1m540/540\u001b[0m \u001b[32m━━━━━━━━━━━━━━━━━━━━\u001b[0m\u001b[37m\u001b[0m \u001b[1m2s\u001b[0m 3ms/step - accuracy: 0.9454 - loss: 0.1862 - val_accuracy: 0.9507 - val_loss: 0.1859\n",
            "Epoch 29/50\n",
            "\u001b[1m540/540\u001b[0m \u001b[32m━━━━━━━━━━━━━━━━━━━━\u001b[0m\u001b[37m\u001b[0m \u001b[1m2s\u001b[0m 4ms/step - accuracy: 0.9459 - loss: 0.1853 - val_accuracy: 0.9472 - val_loss: 0.1865\n",
            "Epoch 30/50\n",
            "\u001b[1m540/540\u001b[0m \u001b[32m━━━━━━━━━━━━━━━━━━━━\u001b[0m\u001b[37m\u001b[0m \u001b[1m2s\u001b[0m 2ms/step - accuracy: 0.9468 - loss: 0.1808 - val_accuracy: 0.9472 - val_loss: 0.1868\n",
            "Epoch 31/50\n",
            "\u001b[1m540/540\u001b[0m \u001b[32m━━━━━━━━━━━━━━━━━━━━\u001b[0m\u001b[37m\u001b[0m \u001b[1m1s\u001b[0m 2ms/step - accuracy: 0.9465 - loss: 0.1780 - val_accuracy: 0.9492 - val_loss: 0.1843\n",
            "Epoch 32/50\n",
            "\u001b[1m540/540\u001b[0m \u001b[32m━━━━━━━━━━━━━━━━━━━━\u001b[0m\u001b[37m\u001b[0m \u001b[1m1s\u001b[0m 2ms/step - accuracy: 0.9475 - loss: 0.1786 - val_accuracy: 0.9470 - val_loss: 0.1899\n",
            "Epoch 33/50\n",
            "\u001b[1m540/540\u001b[0m \u001b[32m━━━━━━━━━━━━━━━━━━━━\u001b[0m\u001b[37m\u001b[0m \u001b[1m1s\u001b[0m 2ms/step - accuracy: 0.9456 - loss: 0.1841 - val_accuracy: 0.9473 - val_loss: 0.1860\n",
            "Epoch 34/50\n",
            "\u001b[1m540/540\u001b[0m \u001b[32m━━━━━━━━━━━━━━━━━━━━\u001b[0m\u001b[37m\u001b[0m \u001b[1m1s\u001b[0m 2ms/step - accuracy: 0.9463 - loss: 0.1810 - val_accuracy: 0.9480 - val_loss: 0.1871\n",
            "Epoch 35/50\n",
            "\u001b[1m540/540\u001b[0m \u001b[32m━━━━━━━━━━━━━━━━━━━━\u001b[0m\u001b[37m\u001b[0m \u001b[1m1s\u001b[0m 2ms/step - accuracy: 0.9460 - loss: 0.1817 - val_accuracy: 0.9497 - val_loss: 0.1860\n",
            "Epoch 36/50\n",
            "\u001b[1m540/540\u001b[0m \u001b[32m━━━━━━━━━━━━━━━━━━━━\u001b[0m\u001b[37m\u001b[0m \u001b[1m1s\u001b[0m 2ms/step - accuracy: 0.9481 - loss: 0.1758 - val_accuracy: 0.9500 - val_loss: 0.1857\n",
            "Epoch 37/50\n",
            "\u001b[1m540/540\u001b[0m \u001b[32m━━━━━━━━━━━━━━━━━━━━\u001b[0m\u001b[37m\u001b[0m \u001b[1m1s\u001b[0m 3ms/step - accuracy: 0.9486 - loss: 0.1761 - val_accuracy: 0.9490 - val_loss: 0.1892\n",
            "Epoch 38/50\n",
            "\u001b[1m540/540\u001b[0m \u001b[32m━━━━━━━━━━━━━━━━━━━━\u001b[0m\u001b[37m\u001b[0m \u001b[1m3s\u001b[0m 3ms/step - accuracy: 0.9469 - loss: 0.1801 - val_accuracy: 0.9480 - val_loss: 0.1873\n",
            "Epoch 39/50\n",
            "\u001b[1m540/540\u001b[0m \u001b[32m━━━━━━━━━━━━━━━━━━━━\u001b[0m\u001b[37m\u001b[0m \u001b[1m1s\u001b[0m 2ms/step - accuracy: 0.9496 - loss: 0.1730 - val_accuracy: 0.9470 - val_loss: 0.1896\n",
            "Epoch 40/50\n",
            "\u001b[1m540/540\u001b[0m \u001b[32m━━━━━━━━━━━━━━━━━━━━\u001b[0m\u001b[37m\u001b[0m \u001b[1m1s\u001b[0m 2ms/step - accuracy: 0.9471 - loss: 0.1806 - val_accuracy: 0.9483 - val_loss: 0.1886\n",
            "Epoch 41/50\n",
            "\u001b[1m540/540\u001b[0m \u001b[32m━━━━━━━━━━━━━━━━━━━━\u001b[0m\u001b[37m\u001b[0m \u001b[1m1s\u001b[0m 2ms/step - accuracy: 0.9487 - loss: 0.1780 - val_accuracy: 0.9503 - val_loss: 0.1879\n",
            "Epoch 42/50\n",
            "\u001b[1m540/540\u001b[0m \u001b[32m━━━━━━━━━━━━━━━━━━━━\u001b[0m\u001b[37m\u001b[0m \u001b[1m1s\u001b[0m 2ms/step - accuracy: 0.9492 - loss: 0.1754 - val_accuracy: 0.9497 - val_loss: 0.1922\n",
            "Epoch 43/50\n",
            "\u001b[1m540/540\u001b[0m \u001b[32m━━━━━━━━━━━━━━━━━━━━\u001b[0m\u001b[37m\u001b[0m \u001b[1m1s\u001b[0m 2ms/step - accuracy: 0.9501 - loss: 0.1685 - val_accuracy: 0.9495 - val_loss: 0.1920\n",
            "Epoch 44/50\n",
            "\u001b[1m540/540\u001b[0m \u001b[32m━━━━━━━━━━━━━━━━━━━━\u001b[0m\u001b[37m\u001b[0m \u001b[1m1s\u001b[0m 2ms/step - accuracy: 0.9488 - loss: 0.1700 - val_accuracy: 0.9485 - val_loss: 0.1880\n",
            "Epoch 45/50\n",
            "\u001b[1m540/540\u001b[0m \u001b[32m━━━━━━━━━━━━━━━━━━━━\u001b[0m\u001b[37m\u001b[0m \u001b[1m1s\u001b[0m 2ms/step - accuracy: 0.9489 - loss: 0.1736 - val_accuracy: 0.9477 - val_loss: 0.1898\n",
            "Epoch 46/50\n",
            "\u001b[1m540/540\u001b[0m \u001b[32m━━━━━━━━━━━━━━━━━━━━\u001b[0m\u001b[37m\u001b[0m \u001b[1m1s\u001b[0m 3ms/step - accuracy: 0.9507 - loss: 0.1717 - val_accuracy: 0.9475 - val_loss: 0.1915\n",
            "Epoch 47/50\n",
            "\u001b[1m540/540\u001b[0m \u001b[32m━━━━━━━━━━━━━━━━━━━━\u001b[0m\u001b[37m\u001b[0m \u001b[1m3s\u001b[0m 4ms/step - accuracy: 0.9492 - loss: 0.1750 - val_accuracy: 0.9488 - val_loss: 0.1867\n",
            "Epoch 48/50\n",
            "\u001b[1m540/540\u001b[0m \u001b[32m━━━━━━━━━━━━━━━━━━━━\u001b[0m\u001b[37m\u001b[0m \u001b[1m2s\u001b[0m 4ms/step - accuracy: 0.9507 - loss: 0.1708 - val_accuracy: 0.9472 - val_loss: 0.1890\n",
            "Epoch 49/50\n",
            "\u001b[1m540/540\u001b[0m \u001b[32m━━━━━━━━━━━━━━━━━━━━\u001b[0m\u001b[37m\u001b[0m \u001b[1m2s\u001b[0m 3ms/step - accuracy: 0.9496 - loss: 0.1724 - val_accuracy: 0.9492 - val_loss: 0.1904\n",
            "Epoch 50/50\n",
            "\u001b[1m540/540\u001b[0m \u001b[32m━━━━━━━━━━━━━━━━━━━━\u001b[0m\u001b[37m\u001b[0m \u001b[1m1s\u001b[0m 2ms/step - accuracy: 0.9496 - loss: 0.1671 - val_accuracy: 0.9492 - val_loss: 0.1875\n"
          ]
        }
      ]
    },
    {
      "cell_type": "code",
      "source": [
        "import matplotlib.pyplot as plt\n",
        "plt.figure(figsize=(10,8))\n",
        "plt.plot(h.history['accuracy'], label=\"Training accuracy\", color=\"red\")\n",
        "plt.plot(h.history['val_accuracy'], label=\"Test accuracy\", color=\"Orange\")\n",
        "plt.plot(h.history['loss'], label=\"Loss\", color=\"blue\")\n",
        "plt.plot(h.history['val_loss'], label=\"Validation Loss\", color=\"green\")\n",
        "plt.xlabel(\"Epochs\")\n",
        "plt.ylabel('Trend')\n",
        "#l=[i for i in range(0,len(h.history['accuracy']),10)]\n",
        "#plt.xticks(l)\n",
        "plt.legend()\n",
        "plt.show()"
      ],
      "metadata": {
        "colab": {
          "base_uri": "https://localhost:8080/"
        },
        "id": "HdVDEwuSg6Ib",
        "outputId": "ed5016d5-a0a9-4d93-ff8b-fbf2751cd852"
      },
      "execution_count": null,
      "outputs": [
        {
          "output_type": "display_data",
          "data": {
            "text/plain": [
              "<Figure size 1000x800 with 1 Axes>"
            ],
            "image/png": "[encoded data removed]"
          },
          "metadata": {}
        }
      ]
    },
    {
      "cell_type": "code",
      "source": [
        "import numpy as np\n",
        "\n",
        "y_pred=model.predict(x_test.reshape(-1,28*28), verbose=\"true\")\n",
        "\n",
        "for i in range(10):\n",
        "  print(f\"The predicted value is: {np.argmax(y_pred[i])} and the actual value is: {y_test[i]}\")"
      ],
      "metadata": {
        "id": "gmXaTlKttfBB",
        "colab": {
          "base_uri": "https://localhost:8080/"
        },
        "outputId": "b4399e65-6a07-434a-cce1-83821d857aaa"
      },
      "execution_count": null,
      "outputs": [
        {
          "output_type": "stream",
          "name": "stdout",
          "text": [
            "The predicted value is: 7 and the actual value is: 7\n",
            "The predicted value is: 2 and the actual value is: 2\n",
            "The predicted value is: 1 and the actual value is: 1\n",
            "The predicted value is: 0 and the actual value is: 0\n",
            "The predicted value is: 4 and the actual value is: 4\n",
            "The predicted value is: 1 and the actual value is: 1\n",
            "The predicted value is: 4 and the actual value is: 4\n",
            "The predicted value is: 9 and the actual value is: 9\n",
            "The predicted value is: 6 and the actual value is: 5\n",
            "The predicted value is: 9 and the actual value is: 9\n"
          ]
        }
      ]
    },
    {
      "cell_type": "code",
      "source": [
        "import numpy as np\n",
        "for i in range(120):\n",
        "  if(np.argmax(y_pred[i])!=y_test[i]):\n",
        "    print(f\"There is a mismatch where the predicted value is: {np.argmax(y_pred[i])} and the actual value is: {y_test[i]}\")\n",
        "    plt.matshow(x_test[i].reshape(28,28))\n",
        "    plt.show()"
      ],
      "metadata": {
        "colab": {
          "base_uri": "https://localhost:8080/"
        },
        "id": "RxdoUrSut4O9",
        "outputId": "a2a9c9e7-b9b0-47b9-b51b-30f54e2671d7"
      },
      "execution_count": null,
      "outputs": [
        {
          "output_type": "stream",
          "name": "stdout",
          "text": [
            "There is a mismatch where the predicted value is: 6 and the actual value is: 5\n"
          ]
        },
        {
          "output_type": "display_data",
          "data": {
            "text/plain": [
              "<Figure size 480x480 with 1 Axes>"
            ],
            "image/png": "[encoded data removed]"
          },
          "metadata": {}
        },
        {
          "output_type": "stream",
          "name": "stdout",
          "text": [
            "There is a mismatch where the predicted value is: 2 and the actual value is: 6\n"
          ]
        },
        {
          "output_type": "display_data",
          "data": {
            "text/plain": [
              "<Figure size 480x480 with 1 Axes>"
            ],
            "image/png": "[encoded data removed]"
          },
          "metadata": {}
        },
        {
          "output_type": "stream",
          "name": "stdout",
          "text": [
            "There is a mismatch where the predicted value is: 5 and the actual value is: 9\n"
          ]
        },
        {
          "output_type": "display_data",
          "data": {
            "text/plain": [
              "<Figure size 480x480 with 1 Axes>"
            ],
            "image/png": "[encoded data removed]"
          },
          "metadata": {}
        }
      ]
    },
    {
      "cell_type": "code",
      "source": [
        "import seaborn as sns\n",
        "import numpy as np\n",
        "from sklearn.metrics import confusion_matrix\n",
        "plt.figure(figsize=(10,7))\n",
        "y_pred_label=[np.argmax(y_pred[i]) for i in range(len(y_pred))]\n",
        "cm=confusion_matrix(y_test,y_pred_label)\n",
        "sns.heatmap(cm, annot=True, fmt=\"d\")\n",
        "plt.xlabel(\"True Value\")\n",
        "plt.ylabel(\"Prediction\")"
      ],
      "metadata": {
        "colab": {
          "base_uri": "https://localhost:8080/"
        },
        "id": "ijr_t-BrqkP4",
        "outputId": "7e55a64e-4967-46f7-d6c0-557a3504def9"
      },
      "execution_count": null,
      "outputs": [
        {
          "output_type": "execute_result",
          "data": {
            "text/plain": [
              "Text(95.72222222222221, 0.5, 'Prediction')"
            ]
          },
          "metadata": {},
          "execution_count": 26
        },
        {
          "output_type": "display_data",
          "data": {
            "text/plain": [
              "<Figure size 1000x700 with 2 Axes>"
            ],
            "image/png": "[encoded data removed]"
          },
          "metadata": {}
        }
      ]
    },
    {
      "cell_type": "code",
      "source": [
        "from sklearn.metrics import confusion_matrix\n",
        "cm=confusion_matrix(y_test,np.argmax(y_pred, axis=1))\n",
        "cm"
      ],
      "metadata": {
        "colab": {
          "base_uri": "https://localhost:8080/"
        },
        "id": "7SdVyRRp4d7X",
        "outputId": "802e45b1-1d9f-4890-b2eb-695d056ac43e"
      },
      "execution_count": null,
      "outputs": [
        {
          "output_type": "execute_result",
          "data": {
            "text/plain": [
              "array([[ 954,    0,    0,    2,    2,    5,    7,    5,    3,    2],\n",
              "       [   0, 1113,    2,    1,    0,    1,    5,    2,   11,    0],\n",
              "       [  10,    6,  937,   17,    7,    7,   10,   14,   24,    0],\n",
              "       [   4,    2,   11,  922,    2,   33,    1,   12,   17,    6],\n",
              "       [   2,    1,    6,    0,  929,    2,   13,    5,    2,   22],\n",
              "       [   8,    3,    6,   25,    5,  815,    9,    2,   13,    6],\n",
              "       [  14,    4,    7,    2,    8,   14,  905,    0,    4,    0],\n",
              "       [   0,   10,   15,    9,    2,    3,    0,  966,    1,   22],\n",
              "       [   8,    2,    2,   24,    6,   19,    8,    8,  887,   10],\n",
              "       [   7,    2,    0,    8,   25,    8,    1,   11,   10,  937]])"
            ]
          },
          "metadata": {},
          "execution_count": 27
        }
      ]
    },
    {
      "cell_type": "code",
      "source": [
        "import tensorflow as tf\n",
        "conf_mat=tf.math.confusion_matrix(labels=y_test,predictions=y_pred_label)\n",
        "conf_mat"
      ],
      "metadata": {
        "id": "TcH-Q_Kx7PCI",
        "colab": {
          "base_uri": "https://localhost:8080/"
        },
        "outputId": "4463c596-c095-4d0c-c873-e3e9f167b451"
      },
      "execution_count": null,
      "outputs": [
        {
          "output_type": "execute_result",
          "data": {
            "text/plain": [
              "<tf.Tensor: shape=(10, 10), dtype=int32, numpy=\n",
              "array([[ 954,    0,    0,    2,    2,    5,    7,    5,    3,    2],\n",
              "       [   0, 1113,    2,    1,    0,    1,    5,    2,   11,    0],\n",
              "       [  10,    6,  937,   17,    7,    7,   10,   14,   24,    0],\n",
              "       [   4,    2,   11,  922,    2,   33,    1,   12,   17,    6],\n",
              "       [   2,    1,    6,    0,  929,    2,   13,    5,    2,   22],\n",
              "       [   8,    3,    6,   25,    5,  815,    9,    2,   13,    6],\n",
              "       [  14,    4,    7,    2,    8,   14,  905,    0,    4,    0],\n",
              "       [   0,   10,   15,    9,    2,    3,    0,  966,    1,   22],\n",
              "       [   8,    2,    2,   24,    6,   19,    8,    8,  887,   10],\n",
              "       [   7,    2,    0,    8,   25,    8,    1,   11,   10,  937]],\n",
              "      dtype=int32)>"
            ]
          },
          "metadata": {},
          "execution_count": 29
        }
      ]
    },
    {
      "cell_type": "code",
      "source": [],
      "metadata": {
        "id": "5Owo-qZXOpBj"
      },
      "execution_count": null,
      "outputs": []
    },
    {
      "cell_type": "markdown",
      "source": [
        "## Play With Hyperparameters"
      ],
      "metadata": {
        "id": "E3-leGrgMFwp"
      }
    },
    {
      "cell_type": "code",
      "source": [
        "from keras.layers import Dense, Flatten, Dropout\n",
        "from keras.models import Sequential\n",
        "from keras.activations import relu, sigmoid\n",
        "from keras.utils import plot_model\n",
        "from keras.optimizers import Adam\n",
        "from keras.datasets import mnist\n",
        "import matplotlib.pyplot as plt\n",
        "from sklearn.preprocessing import MinMaxScaler"
      ],
      "metadata": {
        "id": "BZhm946UMILh"
      },
      "execution_count": null,
      "outputs": []
    },
    {
      "cell_type": "code",
      "source": [
        "(x_train,y_train),(x_test,y_test)=mnist.load_data()"
      ],
      "metadata": {
        "colab": {
          "base_uri": "https://localhost:8080/"
        },
        "id": "F5iY77LPSduH",
        "outputId": "2d5aaf40-8399-4acd-ff8f-6175c955816d"
      },
      "execution_count": null,
      "outputs": [
        {
          "output_type": "stream",
          "name": "stdout",
          "text": [
            "Downloading data from https://storage.googleapis.com/tensorflow/tf-keras-datasets/mnist.npz\n",
            "\u001b[1m11490434/11490434\u001b[0m \u001b[32m━━━━━━━━━━━━━━━━━━━━\u001b[0m\u001b[37m\u001b[0m \u001b[1m0s\u001b[0m 0us/step\n"
          ]
        }
      ]
    },
    {
      "cell_type": "code",
      "source": [
        "model=Sequential(\n",
        "    [Flatten(input_shape=(28,28)),\n",
        "     Dense(10, activation=\"relu\"),\n",
        "     Dense(10, activation=\"relu\"),\n",
        "     Dropout(0.2),\n",
        "     Dense(10, activation=\"sigmoid\")\n",
        "    ]\n",
        ")\n",
        "model.compile(optimizer=\"adam\", loss=\"sparse_categorical_crossentropy\", metrics=[\"accuracy\"])"
      ],
      "metadata": {
        "colab": {
          "base_uri": "https://localhost:8080/"
        },
        "id": "uulnTrtzbuz5",
        "outputId": "648a48ed-854f-4375-83df-6e707762ed0f"
      },
      "execution_count": null,
      "outputs": [
        {
          "output_type": "stream",
          "name": "stderr",
          "text": [
            "/usr/local/lib/python3.10/dist-packages/keras/src/layers/reshaping/flatten.py:37: UserWarning: Do not pass an `input_shape`/`input_dim` argument to a layer. When using Sequential models, prefer using an `Input(shape)` object as the first layer in the model instead.\n",
            "  super().__init__(**kwargs)\n"
          ]
        }
      ]
    },
    {
      "cell_type": "code",
      "source": [
        "model.summary()"
      ],
      "metadata": {
        "colab": {
          "base_uri": "https://localhost:8080/",
          "height": 294
        },
        "id": "IFDJl9oVd5Nx",
        "outputId": "f35d351b-6b85-4ee4-de25-ec67b07c32d1"
      },
      "execution_count": null,
      "outputs": [
        {
          "output_type": "display_data",
          "data": {
            "text/plain": [
              "\u001b[1mModel: \"sequential\"\u001b[0m\n"
            ],
            "text/html": [
              "<pre style=\"white-space:pre;overflow-x:auto;line-height:normal;font-family:Menlo,'DejaVu Sans Mono',consolas,'Courier New',monospace\"><span style=\"font-weight: bold\">Model: \"sequential\"</span>\n",
              "</pre>\n"
            ]
          },
          "metadata": {}
        },
        {
          "output_type": "display_data",
          "data": {
            "text/plain": [
              "┏━━━━━━━━━━━━━━━━━━━━━━━━━━━━━━━━━━━━━━┳━━━━━━━━━━━━━━━━━━━━━━━━━━━━━┳━━━━━━━━━━━━━━━━━┓\n",
              "┃\u001b[1m \u001b[0m\u001b[1mLayer (type)                        \u001b[0m\u001b[1m \u001b[0m┃\u001b[1m \u001b[0m\u001b[1mOutput Shape               \u001b[0m\u001b[1m \u001b[0m┃\u001b[1m \u001b[0m\u001b[1m        Param #\u001b[0m\u001b[1m \u001b[0m┃\n",
              "┡━━━━━━━━━━━━━━━━━━━━━━━━━━━━━━━━━━━━━━╇━━━━━━━━━━━━━━━━━━━━━━━━━━━━━╇━━━━━━━━━━━━━━━━━┩\n",
              "│ flatten (\u001b[38;5;33mFlatten\u001b[0m)                    │ (\u001b[38;5;45mNone\u001b[0m, \u001b[38;5;34m784\u001b[0m)                 │               \u001b[38;5;34m0\u001b[0m │\n",
              "├──────────────────────────────────────┼─────────────────────────────┼─────────────────┤\n",
              "│ dense (\u001b[38;5;33mDense\u001b[0m)                        │ (\u001b[38;5;45mNone\u001b[0m, \u001b[38;5;34m10\u001b[0m)                  │           \u001b[38;5;34m7,850\u001b[0m │\n",
              "├──────────────────────────────────────┼─────────────────────────────┼─────────────────┤\n",
              "│ dense_1 (\u001b[38;5;33mDense\u001b[0m)                      │ (\u001b[38;5;45mNone\u001b[0m, \u001b[38;5;34m10\u001b[0m)                  │             \u001b[38;5;34m110\u001b[0m │\n",
              "├──────────────────────────────────────┼─────────────────────────────┼─────────────────┤\n",
              "│ dropout (\u001b[38;5;33mDropout\u001b[0m)                    │ (\u001b[38;5;45mNone\u001b[0m, \u001b[38;5;34m10\u001b[0m)                  │               \u001b[38;5;34m0\u001b[0m │\n",
              "├──────────────────────────────────────┼─────────────────────────────┼─────────────────┤\n",
              "│ dense_2 (\u001b[38;5;33mDense\u001b[0m)                      │ (\u001b[38;5;45mNone\u001b[0m, \u001b[38;5;34m10\u001b[0m)                  │             \u001b[38;5;34m110\u001b[0m │\n",
              "└──────────────────────────────────────┴─────────────────────────────┴─────────────────┘\n"
            ],
            "text/html": [
              "<pre style=\"white-space:pre;overflow-x:auto;line-height:normal;font-family:Menlo,'DejaVu Sans Mono',consolas,'Courier New',monospace\">┏━━━━━━━━━━━━━━━━━━━━━━━━━━━━━━━━━━━━━━┳━━━━━━━━━━━━━━━━━━━━━━━━━━━━━┳━━━━━━━━━━━━━━━━━┓\n",
              "┃<span style=\"font-weight: bold\"> Layer (type)                         </span>┃<span style=\"font-weight: bold\"> Output Shape                </span>┃<span style=\"font-weight: bold\">         Param # </span>┃\n",
              "┡━━━━━━━━━━━━━━━━━━━━━━━━━━━━━━━━━━━━━━╇━━━━━━━━━━━━━━━━━━━━━━━━━━━━━╇━━━━━━━━━━━━━━━━━┩\n",
              "│ flatten (<span style=\"color: #0087ff; text-decoration-color: #0087ff\">Flatten</span>)                    │ (<span style=\"color: #00d7ff; text-decoration-color: #00d7ff\">None</span>, <span style=\"color: #00af00; text-decoration-color: #00af00\">784</span>)                 │               <span style=\"color: #00af00; text-decoration-color: #00af00\">0</span> │\n",
              "├──────────────────────────────────────┼─────────────────────────────┼─────────────────┤\n",
              "│ dense (<span style=\"color: #0087ff; text-decoration-color: #0087ff\">Dense</span>)                        │ (<span style=\"color: #00d7ff; text-decoration-color: #00d7ff\">None</span>, <span style=\"color: #00af00; text-decoration-color: #00af00\">10</span>)                  │           <span style=\"color: #00af00; text-decoration-color: #00af00\">7,850</span> │\n",
              "├──────────────────────────────────────┼─────────────────────────────┼─────────────────┤\n",
              "│ dense_1 (<span style=\"color: #0087ff; text-decoration-color: #0087ff\">Dense</span>)                      │ (<span style=\"color: #00d7ff; text-decoration-color: #00d7ff\">None</span>, <span style=\"color: #00af00; text-decoration-color: #00af00\">10</span>)                  │             <span style=\"color: #00af00; text-decoration-color: #00af00\">110</span> │\n",
              "├──────────────────────────────────────┼─────────────────────────────┼─────────────────┤\n",
              "│ dropout (<span style=\"color: #0087ff; text-decoration-color: #0087ff\">Dropout</span>)                    │ (<span style=\"color: #00d7ff; text-decoration-color: #00d7ff\">None</span>, <span style=\"color: #00af00; text-decoration-color: #00af00\">10</span>)                  │               <span style=\"color: #00af00; text-decoration-color: #00af00\">0</span> │\n",
              "├──────────────────────────────────────┼─────────────────────────────┼─────────────────┤\n",
              "│ dense_2 (<span style=\"color: #0087ff; text-decoration-color: #0087ff\">Dense</span>)                      │ (<span style=\"color: #00d7ff; text-decoration-color: #00d7ff\">None</span>, <span style=\"color: #00af00; text-decoration-color: #00af00\">10</span>)                  │             <span style=\"color: #00af00; text-decoration-color: #00af00\">110</span> │\n",
              "└──────────────────────────────────────┴─────────────────────────────┴─────────────────┘\n",
              "</pre>\n"
            ]
          },
          "metadata": {}
        },
        {
          "output_type": "display_data",
          "data": {
            "text/plain": [
              "\u001b[1m Total params: \u001b[0m\u001b[38;5;34m8,070\u001b[0m (31.52 KB)\n"
            ],
            "text/html": [
              "<pre style=\"white-space:pre;overflow-x:auto;line-height:normal;font-family:Menlo,'DejaVu Sans Mono',consolas,'Courier New',monospace\"><span style=\"font-weight: bold\"> Total params: </span><span style=\"color: #00af00; text-decoration-color: #00af00\">8,070</span> (31.52 KB)\n",
              "</pre>\n"
            ]
          },
          "metadata": {}
        },
        {
          "output_type": "display_data",
          "data": {
            "text/plain": [
              "\u001b[1m Trainable params: \u001b[0m\u001b[38;5;34m8,070\u001b[0m (31.52 KB)\n"
            ],
            "text/html": [
              "<pre style=\"white-space:pre;overflow-x:auto;line-height:normal;font-family:Menlo,'DejaVu Sans Mono',consolas,'Courier New',monospace\"><span style=\"font-weight: bold\"> Trainable params: </span><span style=\"color: #00af00; text-decoration-color: #00af00\">8,070</span> (31.52 KB)\n",
              "</pre>\n"
            ]
          },
          "metadata": {}
        },
        {
          "output_type": "display_data",
          "data": {
            "text/plain": [
              "\u001b[1m Non-trainable params: \u001b[0m\u001b[38;5;34m0\u001b[0m (0.00 B)\n"
            ],
            "text/html": [
              "<pre style=\"white-space:pre;overflow-x:auto;line-height:normal;font-family:Menlo,'DejaVu Sans Mono',consolas,'Courier New',monospace\"><span style=\"font-weight: bold\"> Non-trainable params: </span><span style=\"color: #00af00; text-decoration-color: #00af00\">0</span> (0.00 B)\n",
              "</pre>\n"
            ]
          },
          "metadata": {}
        }
      ]
    },
    {
      "cell_type": "code",
      "source": [
        "model.layers\n",
        "model.get_weights()\n",
        "model.get_config()\n",
        "model.get_metrics_result()"
      ],
      "metadata": {
        "id": "P_wdkFGJgXyd"
      },
      "execution_count": null,
      "outputs": []
    },
    {
      "cell_type": "code",
      "source": [
        "# Scaling: Normalize pixel values to the range [0, 1]\n",
        "x_train = x_train.astype('float32') / 255.0\n",
        "x_test = x_test.astype('float32') / 255.0"
      ],
      "metadata": {
        "id": "1XdfXhdQelXR"
      },
      "execution_count": null,
      "outputs": []
    },
    {
      "cell_type": "code",
      "source": [
        "import tensorflow as tf\n",
        "h=model.fit(x_train,y_train,batch_size=32, epochs=10,callbacks=[tf.keras.callbacks.EarlyStopping(patience=3)], validation_split=0.1)"
      ],
      "metadata": {
        "colab": {
          "base_uri": "https://localhost:8080/"
        },
        "id": "ni9g86R9cIcL",
        "outputId": "2e7d6012-dae1-42fb-caad-7d6fc5144114"
      },
      "execution_count": null,
      "outputs": [
        {
          "output_type": "stream",
          "name": "stdout",
          "text": [
            "Epoch 1/10\n",
            "\u001b[1m1688/1688\u001b[0m \u001b[32m━━━━━━━━━━━━━━━━━━━━\u001b[0m\u001b[37m\u001b[0m \u001b[1m4s\u001b[0m 2ms/step - accuracy: 0.5286 - loss: 1.3620 - val_accuracy: 0.8932 - val_loss: 0.4320\n",
            "Epoch 2/10\n",
            "\u001b[1m1688/1688\u001b[0m \u001b[32m━━━━━━━━━━━━━━━━━━━━\u001b[0m\u001b[37m\u001b[0m \u001b[1m5s\u001b[0m 2ms/step - accuracy: 0.7680 - loss: 0.7104 - val_accuracy: 0.9152 - val_loss: 0.3292\n",
            "Epoch 3/10\n",
            "\u001b[1m1688/1688\u001b[0m \u001b[32m━━━━━━━━━━━━━━━━━━━━\u001b[0m\u001b[37m\u001b[0m \u001b[1m4s\u001b[0m 3ms/step - accuracy: 0.8044 - loss: 0.6019 - val_accuracy: 0.9228 - val_loss: 0.2824\n",
            "Epoch 4/10\n",
            "\u001b[1m1688/1688\u001b[0m \u001b[32m━━━━━━━━━━━━━━━━━━━━\u001b[0m\u001b[37m\u001b[0m \u001b[1m3s\u001b[0m 2ms/step - accuracy: 0.8347 - loss: 0.5250 - val_accuracy: 0.9248 - val_loss: 0.2642\n",
            "Epoch 5/10\n",
            "\u001b[1m1688/1688\u001b[0m \u001b[32m━━━━━━━━━━━━━━━━━━━━\u001b[0m\u001b[37m\u001b[0m \u001b[1m5s\u001b[0m 2ms/step - accuracy: 0.8487 - loss: 0.4840 - val_accuracy: 0.9308 - val_loss: 0.2576\n",
            "Epoch 6/10\n",
            "\u001b[1m1688/1688\u001b[0m \u001b[32m━━━━━━━━━━━━━━━━━━━━\u001b[0m\u001b[37m\u001b[0m \u001b[1m6s\u001b[0m 2ms/step - accuracy: 0.8555 - loss: 0.4581 - val_accuracy: 0.9353 - val_loss: 0.2390\n",
            "Epoch 7/10\n",
            "\u001b[1m1688/1688\u001b[0m \u001b[32m━━━━━━━━━━━━━━━━━━━━\u001b[0m\u001b[37m\u001b[0m \u001b[1m3s\u001b[0m 2ms/step - accuracy: 0.8594 - loss: 0.4373 - val_accuracy: 0.9403 - val_loss: 0.2279\n",
            "Epoch 8/10\n",
            "\u001b[1m1688/1688\u001b[0m \u001b[32m━━━━━━━━━━━━━━━━━━━━\u001b[0m\u001b[37m\u001b[0m \u001b[1m3s\u001b[0m 2ms/step - accuracy: 0.8704 - loss: 0.4132 - val_accuracy: 0.9432 - val_loss: 0.2141\n",
            "Epoch 9/10\n",
            "\u001b[1m1688/1688\u001b[0m \u001b[32m━━━━━━━━━━━━━━━━━━━━\u001b[0m\u001b[37m\u001b[0m \u001b[1m6s\u001b[0m 2ms/step - accuracy: 0.8699 - loss: 0.4062 - val_accuracy: 0.9452 - val_loss: 0.2146\n",
            "Epoch 10/10\n",
            "\u001b[1m1688/1688\u001b[0m \u001b[32m━━━━━━━━━━━━━━━━━━━━\u001b[0m\u001b[37m\u001b[0m \u001b[1m3s\u001b[0m 2ms/step - accuracy: 0.8798 - loss: 0.3865 - val_accuracy: 0.9453 - val_loss: 0.2098\n"
          ]
        }
      ]
    },
    {
      "cell_type": "code",
      "source": [
        "plt.figure(figsize=(10,8))\n",
        "plt.plot(h.history['accuracy'], label=\"Training accuracy\", color=\"red\")\n",
        "plt.plot(h.history['val_accuracy'], label=\"Test accuracy\", color=\"Orange\")\n",
        "plt.plot(h.history['loss'], label=\"Loss\", color=\"blue\")\n",
        "plt.plot(h.history['val_loss'], label=\"Validation Loss\", color=\"green\")\n",
        "plt.xlabel(\"Epochs\")\n",
        "plt.ylabel('Trend')\n",
        "plt.legend()"
      ],
      "metadata": {
        "colab": {
          "base_uri": "https://localhost:8080/",
          "height": 714
        },
        "id": "Us0QIBCdcOnf",
        "outputId": "d306933f-2f7d-4ca9-90cd-58a0166dbb99"
      },
      "execution_count": null,
      "outputs": [
        {
          "output_type": "execute_result",
          "data": {
            "text/plain": [
              "<matplotlib.legend.Legend at 0x7f1ec8e6cb50>"
            ]
          },
          "metadata": {},
          "execution_count": 9
        },
        {
          "output_type": "display_data",
          "data": {
            "text/plain": [
              "<Figure size 1000x800 with 1 Axes>"
            ],
            "image/png": "[encoded data removed]"
          },
          "metadata": {}
        }
      ]
    },
    {
      "cell_type": "code",
      "source": [
        "model.save('MyFirstANN_with_Hyperparams.keras')"
      ],
      "metadata": {
        "id": "RYxj92d2iXt1"
      },
      "execution_count": null,
      "outputs": []
    },
    {
      "cell_type": "code",
      "source": [
        "from tensorflow.keras.models import load_model\n",
        "lm=load_model('MyFirstANN_with_Hyperparams.keras')"
      ],
      "metadata": {
        "id": "H3iBDPgmj0C3"
      },
      "execution_count": null,
      "outputs": []
    },
    {
      "cell_type": "code",
      "source": [
        "type(x_test)"
      ],
      "metadata": {
        "colab": {
          "base_uri": "https://localhost:8080/"
        },
        "id": "txXSpsjwmimJ",
        "outputId": "15aa41ef-5b8e-41e8-b2b0-ea6070628c9e"
      },
      "execution_count": null,
      "outputs": [
        {
          "output_type": "execute_result",
          "data": {
            "text/plain": [
              "numpy.ndarray"
            ]
          },
          "metadata": {},
          "execution_count": 71
        }
      ]
    },
    {
      "cell_type": "code",
      "source": [
        "import numpy as np\n",
        "x=x_test[0]\n",
        "y_pred=lm.predict(x)\n",
        "y_pred\n",
        "#for i in range(0,10):\n",
        "#  print(np.argmax(y_pred[i]))"
      ],
      "metadata": {
        "colab": {
          "base_uri": "https://localhost:8080/",
          "height": 495
        },
        "id": "L5m7Y-8IkKAe",
        "outputId": "bb5512cd-020b-4d1d-d220-d3055c816cd9"
      },
      "execution_count": null,
      "outputs": [
        {
          "output_type": "error",
          "ename": "ValueError",
          "evalue": "Exception encountered when calling Sequential.call().\n\n\u001b[1mInvalid input shape for input Tensor(\"data:0\", shape=(28, 28), dtype=float32). Expected shape (None, 28, 28), but input has incompatible shape (28, 28)\u001b[0m\n\nArguments received by Sequential.call():\n  • inputs=tf.Tensor(shape=(28, 28), dtype=float32)\n  • training=False\n  • mask=None",
          "traceback": [
            "\u001b[0;31m---------------------------------------------------------------------------\u001b[0m",
            "\u001b[0;31mValueError\u001b[0m                                Traceback (most recent call last)",
            "\u001b[0;32m<ipython-input-12-3f5c530ac240>\u001b[0m in \u001b[0;36m<cell line: 3>\u001b[0;34m()\u001b[0m\n\u001b[1;32m      1\u001b[0m \u001b[0;32mimport\u001b[0m \u001b[0mnumpy\u001b[0m \u001b[0;32mas\u001b[0m \u001b[0mnp\u001b[0m\u001b[0;34m\u001b[0m\u001b[0;34m\u001b[0m\u001b[0m\n\u001b[1;32m      2\u001b[0m \u001b[0mx\u001b[0m\u001b[0;34m=\u001b[0m\u001b[0mx_test\u001b[0m\u001b[0;34m[\u001b[0m\u001b[0;36m0\u001b[0m\u001b[0;34m]\u001b[0m\u001b[0;34m\u001b[0m\u001b[0;34m\u001b[0m\u001b[0m\n\u001b[0;32m----> 3\u001b[0;31m \u001b[0my_pred\u001b[0m\u001b[0;34m=\u001b[0m\u001b[0mlm\u001b[0m\u001b[0;34m.\u001b[0m\u001b[0mpredict\u001b[0m\u001b[0;34m(\u001b[0m\u001b[0mx\u001b[0m\u001b[0;34m)\u001b[0m\u001b[0;34m\u001b[0m\u001b[0;34m\u001b[0m\u001b[0m\n\u001b[0m\u001b[1;32m      4\u001b[0m \u001b[0my_pred\u001b[0m\u001b[0;34m\u001b[0m\u001b[0;34m\u001b[0m\u001b[0m\n\u001b[1;32m      5\u001b[0m \u001b[0;31m#for i in range(0,10):\u001b[0m\u001b[0;34m\u001b[0m\u001b[0;34m\u001b[0m\u001b[0m\n",
            "\u001b[0;32m/usr/local/lib/python3.10/dist-packages/keras/src/utils/traceback_utils.py\u001b[0m in \u001b[0;36merror_handler\u001b[0;34m(*args, **kwargs)\u001b[0m\n\u001b[1;32m    120\u001b[0m             \u001b[0;31m# To get the full stack trace, call:\u001b[0m\u001b[0;34m\u001b[0m\u001b[0;34m\u001b[0m\u001b[0m\n\u001b[1;32m    121\u001b[0m             \u001b[0;31m# `keras.config.disable_traceback_filtering()`\u001b[0m\u001b[0;34m\u001b[0m\u001b[0;34m\u001b[0m\u001b[0m\n\u001b[0;32m--> 122\u001b[0;31m             \u001b[0;32mraise\u001b[0m \u001b[0me\u001b[0m\u001b[0;34m.\u001b[0m\u001b[0mwith_traceback\u001b[0m\u001b[0;34m(\u001b[0m\u001b[0mfiltered_tb\u001b[0m\u001b[0;34m)\u001b[0m \u001b[0;32mfrom\u001b[0m \u001b[0;32mNone\u001b[0m\u001b[0;34m\u001b[0m\u001b[0;34m\u001b[0m\u001b[0m\n\u001b[0m\u001b[1;32m    123\u001b[0m         \u001b[0;32mfinally\u001b[0m\u001b[0;34m:\u001b[0m\u001b[0;34m\u001b[0m\u001b[0;34m\u001b[0m\u001b[0m\n\u001b[1;32m    124\u001b[0m             \u001b[0;32mdel\u001b[0m \u001b[0mfiltered_tb\u001b[0m\u001b[0;34m\u001b[0m\u001b[0;34m\u001b[0m\u001b[0m\n",
            "\u001b[0;32m/usr/local/lib/python3.10/dist-packages/keras/src/models/functional.py\u001b[0m in \u001b[0;36m_adjust_input_rank\u001b[0;34m(self, flat_inputs)\u001b[0m\n\u001b[1;32m    242\u001b[0m                     \u001b[0madjusted\u001b[0m\u001b[0;34m.\u001b[0m\u001b[0mappend\u001b[0m\u001b[0;34m(\u001b[0m\u001b[0mops\u001b[0m\u001b[0;34m.\u001b[0m\u001b[0mexpand_dims\u001b[0m\u001b[0;34m(\u001b[0m\u001b[0mx\u001b[0m\u001b[0;34m,\u001b[0m \u001b[0maxis\u001b[0m\u001b[0;34m=\u001b[0m\u001b[0;34m-\u001b[0m\u001b[0;36m1\u001b[0m\u001b[0;34m)\u001b[0m\u001b[0;34m)\u001b[0m\u001b[0;34m\u001b[0m\u001b[0;34m\u001b[0m\u001b[0m\n\u001b[1;32m    243\u001b[0m                     \u001b[0;32mcontinue\u001b[0m\u001b[0;34m\u001b[0m\u001b[0;34m\u001b[0m\u001b[0m\n\u001b[0;32m--> 244\u001b[0;31m             raise ValueError(\n\u001b[0m\u001b[1;32m    245\u001b[0m                 \u001b[0;34mf\"Invalid input shape for input {x}. Expected shape \"\u001b[0m\u001b[0;34m\u001b[0m\u001b[0;34m\u001b[0m\u001b[0m\n\u001b[1;32m    246\u001b[0m                 \u001b[0;34mf\"{ref_shape}, but input has incompatible shape {x.shape}\"\u001b[0m\u001b[0;34m\u001b[0m\u001b[0;34m\u001b[0m\u001b[0m\n",
            "\u001b[0;31mValueError\u001b[0m: Exception encountered when calling Sequential.call().\n\n\u001b[1mInvalid input shape for input Tensor(\"data:0\", shape=(28, 28), dtype=float32). Expected shape (None, 28, 28), but input has incompatible shape (28, 28)\u001b[0m\n\nArguments received by Sequential.call():\n  • inputs=tf.Tensor(shape=(28, 28), dtype=float32)\n  • training=False\n  • mask=None"
          ]
        }
      ]
    },
    {
      "cell_type": "code",
      "source": [
        "for i in range(0,10):\n",
        "  print(y_test[i])"
      ],
      "metadata": {
        "colab": {
          "base_uri": "https://localhost:8080/"
        },
        "id": "8c5A0JtHkghN",
        "outputId": "c54f4333-806e-4fd0-b5f7-4e681f8fd617"
      },
      "execution_count": null,
      "outputs": [
        {
          "output_type": "stream",
          "name": "stdout",
          "text": [
            "7\n",
            "2\n",
            "1\n",
            "0\n",
            "4\n",
            "1\n",
            "4\n",
            "9\n",
            "5\n",
            "9\n"
          ]
        }
      ]
    },
    {
      "cell_type": "code",
      "source": [],
      "metadata": {
        "id": "Ah1lLdcDmaGE"
      },
      "execution_count": null,
      "outputs": []
    }
  ]
}