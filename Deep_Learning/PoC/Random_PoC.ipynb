{
  "nbformat": 4,
  "nbformat_minor": 0,
  "metadata": {
    "colab": {
      "provenance": [],
      "authorship_tag": "ABX9TyPdGEiuLx2pvmkPGtLxxFpv",
      "include_colab_link": true
    },
    "kernelspec": {
      "name": "python3",
      "display_name": "Python 3"
    },
    "language_info": {
      "name": "python"
    }
  },
  "cells": [
    {
      "cell_type": "markdown",
      "metadata": {
        "id": "view-in-github",
        "colab_type": "text"
      },
      "source": [
        "<a href=\"https://colab.research.google.com/github/pramit46/LLMTry/blob/main/Deep_Learning/PoC/Random_PoC.ipynb\" target=\"_parent\"><img src=\"https://colab.research.google.com/assets/colab-badge.svg\" alt=\"Open In Colab\"/></a>"
      ]
    },
    {
      "cell_type": "code",
      "execution_count": null,
      "metadata": {
        "id": "OaPrj474VsWY"
      },
      "outputs": [],
      "source": [
        "import tensorflow as tf\n",
        "\n",
        "tensor = tf.constant([[1., 2., 3.], [4., 5., 6.], [7., 8., 9.]])\n",
        "\n",
        "# Calculate sum of all elements\n",
        "total_sum = tf.reduce_sum(tensor)\n",
        "print(\"Total Sum:\", total_sum)  # It will show the tensor object details. to show only the value, convert to numpy()\n",
        "\n",
        "# Calculate mean of all elements\n",
        "mean_val = tf.reduce_mean(tensor)\n",
        "print(\"Mean Value:\", mean_val.numpy())\n",
        "\n",
        "# Determine the maximum value\n",
        "max_val = tf.reduce_max(tensor)\n",
        "print(\"Maximum Value:\", max_val.numpy())\n",
        "\n",
        "# Find the minimum value\n",
        "min_val = tf.reduce_min(tensor)\n",
        "print(\"Minimum Value:\", min_val.numpy())"
      ]
    }
  ]
}