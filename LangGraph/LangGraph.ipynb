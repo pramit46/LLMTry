{
  "nbformat": 4,
  "nbformat_minor": 0,
  "metadata": {
    "colab": {
      "provenance": [],
      "authorship_tag": "ABX9TyM3ZFg5N1xMu8zQN4bk1uSf",
      "include_colab_link": true
    },
    "kernelspec": {
      "name": "python3",
      "display_name": "Python 3"
    },
    "language_info": {
      "name": "python"
    }
  },
  "cells": [
    {
      "cell_type": "markdown",
      "metadata": {
        "id": "view-in-github",
        "colab_type": "text"
      },
      "source": [
        "<a href=\"https://colab.research.google.com/github/pramit46/LLMTry/blob/main/LangGraph.ipynb\" target=\"_parent\"><img src=\"https://colab.research.google.com/assets/colab-badge.svg\" alt=\"Open In Colab\"/></a>"
      ]
    },
    {
      "cell_type": "markdown",
      "source": [
        "# Langgraph"
      ],
      "metadata": {
        "id": "eh2F9Do6a40k"
      }
    },
    {
      "cell_type": "code",
      "source": [
        "!pip install -q langgraph langchain_groq"
      ],
      "metadata": {
        "id": "hKUV0pf6a7f-"
      },
      "execution_count": null,
      "outputs": []
    },
    {
      "cell_type": "code",
      "source": [
        "from typing import TypedDict, Annotated\n",
        "import langgraph\n",
        "from langgraph.graph import StateGraph, START, END\n",
        "from langgraph.graph.message import add_messages\n",
        "from google.colab import userdata\n",
        "from langchain_groq import ChatGroq\n",
        "from langchain.chains import ConversationChain\n",
        "from langchain.memory import ConversationBufferMemory"
      ],
      "metadata": {
        "id": "I4HpdKSzbJcC"
      },
      "execution_count": null,
      "outputs": []
    },
    {
      "cell_type": "code",
      "source": [
        "class TypedStructure(TypedDict):\n",
        "  #input:str\n",
        "  #output:str\n",
        "  #context_len:int\n",
        "  #context:str\n",
        "  messages:Annotated[list, add_messages]"
      ],
      "metadata": {
        "id": "nXQqxEcpbRTf"
      },
      "execution_count": null,
      "outputs": []
    },
    {
      "cell_type": "code",
      "source": [
        "llm=ChatGroq(groq_api_key=userdata.get('groq_api_key'),model_name=\"Gemma2-9b-It\")\n",
        "print(llm)"
      ],
      "metadata": {
        "id": "GVvX9VWV8aCv"
      },
      "execution_count": null,
      "outputs": []
    },
    {
      "cell_type": "code",
      "source": [
        "memory = ConversationBufferMemory(memory_key=\"chat_history\", return_messages=True)\n",
        "conversation = ConversationChain(llm=llm, memory=memory, verbose=True)"
      ],
      "metadata": {
        "id": "tHZLw2u6RM3w"
      },
      "execution_count": null,
      "outputs": []
    },
    {
      "cell_type": "code",
      "source": [
        "def chatbot(ts=TypedStructure):\n",
        "  return{\"messages\":llm.invoke(ts[\"messages\"])}"
      ],
      "metadata": {
        "id": "pW9YBKevs3Jw"
      },
      "execution_count": null,
      "outputs": []
    },
    {
      "cell_type": "code",
      "source": [
        "graph_builder=StateGraph(TypedStructure)\n",
        "\n",
        "graph_builder.add_node(\"chatbot\", chatbot)\n",
        "graph_builder.add_edge(START,\"chatbot\")\n",
        "graph_builder.add_edge(\"chatbot\", END)\n",
        "graph=graph_builder.compile()"
      ],
      "metadata": {
        "id": "9brNEWmw75op"
      },
      "execution_count": null,
      "outputs": []
    },
    {
      "cell_type": "code",
      "source": [
        "from IPython.display import display, Image\n",
        "try:\n",
        "  display(Image(graph.get_graph().draw_mermaid_png()))\n",
        "except Exception as e:\n",
        "  print(e)"
      ],
      "metadata": {
        "colab": {
          "base_uri": "https://localhost:8080/",
          "height": 251
        },
        "id": "P83k650Y8HW4",
        "outputId": "f3ccf0b8-abb5-4d8f-8644-bf88f6e7b9a7"
      },
      "execution_count": null,
      "outputs": [
        {
          "output_type": "display_data",
          "data": {
            "image/png": "[encoded data removed]",
            "text/plain": [
              "<IPython.core.display.Image object>"
            ]
          },
          "metadata": {}
        }
      ]
    },
    {
      "cell_type": "code",
      "source": [
        "while True:\n",
        "    user_input=input(\"User: \")\n",
        "    if user_input.lower() in [\"exit\",\"q\",\"quit\"]:\n",
        "      break\n",
        "    for event in graph.stream({'messages':('user', user_input)}):\n",
        "      #print(event.values())\n",
        "      for value in event.values():\n",
        "        print(f\"\\nAssistant: {value['messages'].content}\")\n"
      ],
      "metadata": {
        "colab": {
          "base_uri": "https://localhost:8080/"
        },
        "id": "orNqtL5l8T0-",
        "outputId": "a74a4bd4-969f-4e30-fc2f-874e98365df4"
      },
      "execution_count": null,
      "outputs": [
        {
          "name": "stdout",
          "output_type": "stream",
          "text": [
            "User: who am i\n",
            "\n",
            "Assistant: As an AI, I don't have access to any personal information about you, including your identity.\n",
            "\n",
            "To figure out who you are, I suggest reflecting on:\n",
            "\n",
            "* **Your values and beliefs:** What is important to you? What do you stand for?\n",
            "* **Your interests and passions:** What do you enjoy doing? What are you curious about?\n",
            "* **Your relationships:** Who are the important people in your life? What do you value in your relationships?\n",
            "* **Your experiences:** What has shaped who you are? What have you learned from your life experiences?\n",
            "\n",
            "Exploring these areas can help you gain a better understanding of yourself.\n",
            "\n",
            "User: who are you?\n",
            "\n",
            "Assistant: I am Gemma, an open-weights AI assistant. I am a large language model trained by Google DeepMind.My purpose is to help people by understanding and responding to their requests in a helpful, informative, and comprehensive way.\n",
            "\n",
            "Here are some key things to know about me:\n",
            "\n",
            "* **Open-weights:** My weights are publicly available, meaning anyone can access and study them. This promotes transparency and collaboration in the AI community.\n",
            "* **Text-only:** I can only communicate through text. I cannot generate images, sound, or videos.\n",
            "* **Limited knowledge:** My knowledge is based on the data I was trained on, which has a cutoff point. I do not have access to real-time information or the ability to search the internet.\n",
            "\n",
            "I am still under development, but I am learning new things every day. I am excited to see how people use me to explore new ideas and accomplish their goals.\n",
            "\n",
            "User: which AI assistant is most famous or most widely used?\n",
            "\n",
            "Assistant: That title generally goes to **ChatGPT**, developed by OpenAI. \n",
            "\n",
            "Here's why:\n",
            "\n",
            "* **Public Availability:** ChatGPT was one of the first AI assistants to be made widely accessible to the public, allowing anyone to experiment with its capabilities.\n",
            "* **Media Attention:** Its impressive abilities in generating human-like text have garnered significant media attention and public interest.\n",
            "* **Versatile Applications:** ChatGPT's capabilities extend beyond simple conversation, making it useful for tasks like writing, summarizing, translating, and even coding.\n",
            "\n",
            "While other AI assistants like Google Assistant, Siri, and Alexa are also popular, they are primarily focused on voice interaction and controlling smart devices. ChatGPT's text-based approach and broader range of functionalities have made it a standout in the AI landscape.\n",
            "\n",
            "User: how about gemini?\n",
            "\n",
            "Assistant: Please tell me what you'd like to know about Gemini! \n",
            "\n",
            "For example, are you interested in:\n",
            "\n",
            "* **Gemini the zodiac sign?**\n",
            "* **Gemini the cryptocurrency exchange?**\n",
            "* **Something else entirely?**\n",
            "\n",
            "The more specific you are, the better I can help! 😊\n",
            "\n",
            "User: q\n"
          ]
        }
      ]
    },
    {
      "cell_type": "code",
      "source": [],
      "metadata": {
        "id": "77S79R__8qoz"
      },
      "execution_count": null,
      "outputs": []
    }
  ]
}
