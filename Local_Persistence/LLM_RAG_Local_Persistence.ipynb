{
  "cells": [
    {
      "cell_type": "markdown",
      "metadata": {
        "id": "view-in-github",
        "colab_type": "text"
      },
      "source": [
        "<a href=\"https://colab.research.google.com/github/pramit46/LLMTry/blob/main/Local_Persistence/LLM_RAG_Local_Persistence.ipynb\" target=\"_parent\"><img src=\"https://colab.research.google.com/assets/colab-badge.svg\" alt=\"Open In Colab\"/></a>"
      ]
    },
    {
      "cell_type": "markdown",
      "source": [
        "**Install Dependencies**"
      ],
      "metadata": {
        "id": "qpV5ooLIkCaD"
      }
    },
    {
      "cell_type": "code",
      "execution_count": 22,
      "metadata": {
        "colab": {
          "base_uri": "https://localhost:8080/"
        },
        "id": "1P7UwJHJaNGk",
        "outputId": "86778254-8707-4d73-ccd7-970a1c0beebf"
      },
      "outputs": [
        {
          "output_type": "stream",
          "name": "stdout",
          "text": [
            "\u001b[?25l     \u001b[90m━━━━━━━━━━━━━━━━━━━━━━━━━━━━━━━━━━━━━━━━\u001b[0m \u001b[32m0.0/67.3 kB\u001b[0m \u001b[31m?\u001b[0m eta \u001b[36m-:--:--\u001b[0m\r\u001b[2K     \u001b[90m━━━━━━━━━━━━━━━━━━━━━━━━━━━━━━━━━━━━━━━━\u001b[0m \u001b[32m67.3/67.3 kB\u001b[0m \u001b[31m3.8 MB/s\u001b[0m eta \u001b[36m0:00:00\u001b[0m\n",
            "\u001b[?25h  Installing build dependencies ... \u001b[?25l\u001b[?25hdone\n",
            "  Getting requirements to build wheel ... \u001b[?25l\u001b[?25hdone\n",
            "  Preparing metadata (pyproject.toml) ... \u001b[?25l\u001b[?25hdone\n",
            "\u001b[2K   \u001b[90m━━━━━━━━━━━━━━━━━━━━━━━━━━━━━━━━━━━━━━━━\u001b[0m \u001b[32m604.0/604.0 kB\u001b[0m \u001b[31m8.9 MB/s\u001b[0m eta \u001b[36m0:00:00\u001b[0m\n",
            "\u001b[2K   \u001b[90m━━━━━━━━━━━━━━━━━━━━━━━━━━━━━━━━━━━━━━━━\u001b[0m \u001b[32m2.4/2.4 MB\u001b[0m \u001b[31m12.7 MB/s\u001b[0m eta \u001b[36m0:00:00\u001b[0m\n",
            "\u001b[2K   \u001b[90m━━━━━━━━━━━━━━━━━━━━━━━━━━━━━━━━━━━━━━━━\u001b[0m \u001b[32m273.8/273.8 kB\u001b[0m \u001b[31m5.2 MB/s\u001b[0m eta \u001b[36m0:00:00\u001b[0m\n",
            "\u001b[2K   \u001b[90m━━━━━━━━━━━━━━━━━━━━━━━━━━━━━━━━━━━━━━━━\u001b[0m \u001b[32m94.6/94.6 kB\u001b[0m \u001b[31m4.0 MB/s\u001b[0m eta \u001b[36m0:00:00\u001b[0m\n",
            "\u001b[2K   \u001b[90m━━━━━━━━━━━━━━━━━━━━━━━━━━━━━━━━━━━━━━━━\u001b[0m \u001b[32m1.9/1.9 MB\u001b[0m \u001b[31m31.3 MB/s\u001b[0m eta \u001b[36m0:00:00\u001b[0m\n",
            "\u001b[2K   \u001b[90m━━━━━━━━━━━━━━━━━━━━━━━━━━━━━━━━━━━━━━━━\u001b[0m \u001b[32m93.2/93.2 kB\u001b[0m \u001b[31m4.7 MB/s\u001b[0m eta \u001b[36m0:00:00\u001b[0m\n",
            "\u001b[2K   \u001b[90m━━━━━━━━━━━━━━━━━━━━━━━━━━━━━━━━━━━━━━━━\u001b[0m \u001b[32m13.2/13.2 MB\u001b[0m \u001b[31m54.9 MB/s\u001b[0m eta \u001b[36m0:00:00\u001b[0m\n",
            "\u001b[2K   \u001b[90m━━━━━━━━━━━━━━━━━━━━━━━━━━━━━━━━━━━━━━━━\u001b[0m \u001b[32m52.5/52.5 kB\u001b[0m \u001b[31m2.8 MB/s\u001b[0m eta \u001b[36m0:00:00\u001b[0m\n",
            "\u001b[2K   \u001b[90m━━━━━━━━━━━━━━━━━━━━━━━━━━━━━━━━━━━━━━━━\u001b[0m \u001b[32m54.4/54.4 kB\u001b[0m \u001b[31m3.6 MB/s\u001b[0m eta \u001b[36m0:00:00\u001b[0m\n",
            "\u001b[2K   \u001b[90m━━━━━━━━━━━━━━━━━━━━━━━━━━━━━━━━━━━━━━━━\u001b[0m \u001b[32m63.7/63.7 kB\u001b[0m \u001b[31m4.4 MB/s\u001b[0m eta \u001b[36m0:00:00\u001b[0m\n",
            "\u001b[2K   \u001b[90m━━━━━━━━━━━━━━━━━━━━━━━━━━━━━━━━━━━━━━━━\u001b[0m \u001b[32m341.4/341.4 kB\u001b[0m \u001b[31m8.2 MB/s\u001b[0m eta \u001b[36m0:00:00\u001b[0m\n",
            "\u001b[2K   \u001b[90m━━━━━━━━━━━━━━━━━━━━━━━━━━━━━━━━━━━━━━━━\u001b[0m \u001b[32m71.5/71.5 kB\u001b[0m \u001b[31m4.9 MB/s\u001b[0m eta \u001b[36m0:00:00\u001b[0m\n",
            "\u001b[2K   \u001b[90m━━━━━━━━━━━━━━━━━━━━━━━━━━━━━━━━━━━━━━━━\u001b[0m \u001b[32m3.4/3.4 MB\u001b[0m \u001b[31m49.8 MB/s\u001b[0m eta \u001b[36m0:00:00\u001b[0m\n",
            "\u001b[2K   \u001b[90m━━━━━━━━━━━━━━━━━━━━━━━━━━━━━━━━━━━━━━━━\u001b[0m \u001b[32m425.7/425.7 kB\u001b[0m \u001b[31m25.2 MB/s\u001b[0m eta \u001b[36m0:00:00\u001b[0m\n",
            "\u001b[2K   \u001b[90m━━━━━━━━━━━━━━━━━━━━━━━━━━━━━━━━━━━━━━━━\u001b[0m \u001b[32m164.1/164.1 kB\u001b[0m \u001b[31m10.3 MB/s\u001b[0m eta \u001b[36m0:00:00\u001b[0m\n",
            "\u001b[2K   \u001b[90m━━━━━━━━━━━━━━━━━━━━━━━━━━━━━━━━━━━━━━━━\u001b[0m \u001b[32m46.0/46.0 kB\u001b[0m \u001b[31m3.0 MB/s\u001b[0m eta \u001b[36m0:00:00\u001b[0m\n",
            "\u001b[2K   \u001b[90m━━━━━━━━━━━━━━━━━━━━━━━━━━━━━━━━━━━━━━━━\u001b[0m \u001b[32m86.8/86.8 kB\u001b[0m \u001b[31m6.4 MB/s\u001b[0m eta \u001b[36m0:00:00\u001b[0m\n",
            "\u001b[?25h  Building wheel for pypika (pyproject.toml) ... \u001b[?25l\u001b[?25hdone\n"
          ]
        }
      ],
      "source": [
        "!pip -qU install pypdf\n",
        "## Embedding\n",
        "!pip install -qU sentence_transformers\n",
        "!pip install -qU transformers einops accelerate langchain bitsandbytes\n",
        "\n",
        "!pip install -qU llama_index\n",
        "!pip install -qU llama-index-llms-huggingface\n",
        "!pip install -qU llama-index-embeddings-langchain\n",
        "!pip install -qU langchain-community\n",
        "!pip install -qU chromadb"
      ]
    },
    {
      "cell_type": "markdown",
      "source": [
        "**All Imports. Needs cleanup**"
      ],
      "metadata": {
        "id": "mLTme0wJkIay"
      }
    },
    {
      "cell_type": "code",
      "execution_count": 9,
      "metadata": {
        "id": "xplAWGHkalvZ"
      },
      "outputs": [],
      "source": [
        "import llama_index\n",
        "from llama_index.embeddings.langchain import LangchainEmbedding\n",
        "from llama_index.core.node_parser import SentenceSplitter\n",
        "from llama_index.core import VectorStoreIndex, SimpleDirectoryReader\n",
        "from llama_index.core import Settings\n",
        "from llama_index.core.prompts.prompts import SimpleInputPrompt\n",
        "from llama_index.llms.huggingface import HuggingFaceLLM\n",
        "from langchain.embeddings.huggingface import HuggingFaceEmbeddings\n",
        "from langchain.vectorstores import Chroma\n",
        "from langchain_community.document_loaders import PyPDFLoader"
      ]
    },
    {
      "cell_type": "markdown",
      "source": [
        "**Load the Inputs File**"
      ],
      "metadata": {
        "id": "la8DSV98kNbB"
      }
    },
    {
      "cell_type": "code",
      "execution_count": 13,
      "metadata": {
        "id": "uiPiULtxbZ2P"
      },
      "outputs": [],
      "source": [
        "#documents=SimpleDirectoryReader(\"/content/\").load_data()\n",
        "\n",
        "file_path=\"/content/446012636724.pdf\"\n",
        "loader = PyPDFLoader(file_path)\n",
        "documents = []\n",
        "async for page in loader.alazy_load():\n",
        "    documents.append(page)"
      ]
    },
    {
      "cell_type": "markdown",
      "source": [
        "**Verification of Input File Content**"
      ],
      "metadata": {
        "id": "BDS_62AmkWUK"
      }
    },
    {
      "cell_type": "code",
      "source": [
        "documents.__class__.__name__\n",
        "print(documents[0].page_content)"
      ],
      "metadata": {
        "colab": {
          "base_uri": "https://localhost:8080/"
        },
        "id": "sgpM4vVuNagy",
        "outputId": "e212bdae-683d-4acd-ff42-908b59ac9ae1"
      },
      "execution_count": 14,
      "outputs": [
        {
          "output_type": "stream",
          "name": "stdout",
          "text": [
            "         SUBHASPALLY CUSTOMER CARE CENTER, PHONE No - 3532596057(24 HRS)\n",
            " 1 NO. DABGRAM COLONY,  CALL CENTER PHONE No - 19121(TOLL FREE), TAN: CALW05053G\n",
            " PRABIR KR. BASU. RABINDRA NAGAR.         Invoice No.          : 446012636724\n",
            " ATTACHAD WITH RABINDRA SANGHA. P.0.-     Prev. Reading Date   : 20.03.2023\n",
            " R/ SARANI. DT- SILIGURI.                 Present Reading Date : 03.07.2023\n",
            " Pin -                                    Billing Date         : 03.07.2023\n",
            " Consumer Id        :   412205640         Next Reading Date:18.09.2023-22.09.2023\n",
            " Tariff Class       :   A(DM-U)           Connected Load       : 2.24 KVA\n",
            " Installation No    :   572997            Solar PV Capacity    :\n",
            " Latitude           :   26.7111425        Meter Reading unit   : GET10QMR\n",
            " Longitude          :   88.439323         PAN of consumer(s)   :\n",
            " ________________________________________________________________________________\n",
            " Meter No  Time  Previous   Present          MF      Unit              Max Demand\n",
            "                  Reading   Reading              consumed                   (KVA)\n",
            " IPB250249 N     10752.00  11436.00        1.00    684.00\n",
            " ________________________________________________________________________________\n",
            " Bill Month                                JUL,2023       AUG,2023       SEP,2023\n",
            " Amount due after due date(Rs.)             1445.00        1445.00        1445.00\n",
            " Due dates to avail Monthly Rebates      13.07.2023     14.08.2023     11.09.2023\n",
            " Monthly Rebates(Rs.)                        -16.43         -16.43         -16.44\n",
            " Amount due within due dates(Rs.)           1428.00        1429.00        1429.00\n",
            " Special Rebate(Rs.)                         -68.40\n",
            " Total Amount Payable at a time within 1st Due date* (Rs.)              4,217.00\n",
            " Amount payable at a time through e-Payment within 1st Due date         4,168.00\n",
            " ________________________________________________________________________________\n",
            " Breakup of Charges\n",
            " Category                                                                   Total\n",
            " Energy Charge(Rs.)                                                       4829.70\n",
            " Fixed/Demand Charge(Rs.)                                                  100.80\n",
            " Government Subsidy(Rs.)&                                                 -625.86\n",
            " Meter Rent(Rs.)                                                            30.00\n",
            " Gross Amount(Rs.)                                                        4334.64\n",
            " Adjustments**                                                              -0.83\n",
            " ________________________________________________________________________________\n",
            " Payment may be made using RTGS/NEFT in your exclusive a/c no: WBB412205640572997\n",
            " with IFSC code ICIC0000104\n",
            " As per order of WBERC dated 28.07.2022 & Subsidy from West Bengal Govt\n",
            " # Outstandings: Rs.0.00\n",
            " Last Payment Details:Amount(Rs.):2887.00 Payment date :24.03.2023\n",
            " Interest Rs. 179.95   , TDS Rs. 0   & Net Int. Rs. 179.95  on Security Deposit\n",
            " as on 31.03.2023\n",
            " Security Deposit: Rs. 3178.81\n"
          ]
        }
      ]
    },
    {
      "cell_type": "markdown",
      "source": [
        "**Create Embedding Function**"
      ],
      "metadata": {
        "id": "lNYxSXrSki84"
      }
    },
    {
      "cell_type": "code",
      "source": [
        "from langchain.embeddings import SentenceTransformerEmbeddings\n",
        "embedding=SentenceTransformerEmbeddings(model_name=\"all-MiniLM-L6-v2\")"
      ],
      "metadata": {
        "colab": {
          "base_uri": "https://localhost:8080/"
        },
        "id": "ebSsC38GReHF",
        "outputId": "7d46c17b-0e9c-4175-ee13-7dc0bac02e6a"
      },
      "execution_count": 38,
      "outputs": [
        {
          "output_type": "stream",
          "name": "stderr",
          "text": [
            "/usr/local/lib/python3.10/dist-packages/transformers/tokenization_utils_base.py:1601: FutureWarning: `clean_up_tokenization_spaces` was not set. It will be set to `True` by default. This behavior will be depracted in transformers v4.45, and will be then set to `False` by default. For more details check this issue: https://github.com/huggingface/transformers/issues/31884\n",
            "  warnings.warn(\n"
          ]
        }
      ]
    },
    {
      "cell_type": "markdown",
      "source": [
        "**Create Persist Directory and Persist. The persist directory is created within the colab directory only. May need to download manually**"
      ],
      "metadata": {
        "id": "Tjenmv3xknVT"
      }
    },
    {
      "cell_type": "code",
      "execution_count": 63,
      "metadata": {
        "id": "eD7Kdn2vCLnD"
      },
      "outputs": [],
      "source": [
        "persist_dir=\"C:\\\\Users\\\\PramitBasu\\\\OneDrive - kyndryl\\\\DownloadX\\\\Personal\\\\ML_Try\\\\PersistDir\"\n",
        "docs_with_embedding=Chroma.from_documents(documents=documents,embedding=embedding, persist_directory=persist_dir)\n",
        "docs_with_embedding.persist()"
      ]
    },
    {
      "cell_type": "markdown",
      "source": [
        "**Use similarity_search to find out how many documents are relevant to the query. It's irrelevant here since there is only one document**"
      ],
      "metadata": {
        "id": "YxQmVY0kk2w2"
      }
    },
    {
      "cell_type": "code",
      "execution_count": 60,
      "metadata": {
        "id": "p3kiV6UM2qrx",
        "colab": {
          "base_uri": "https://localhost:8080/",
          "height": 213
        },
        "outputId": "37aeea62-a264-4d1f-b937-ba1d4d3258f3"
      },
      "outputs": [
        {
          "output_type": "stream",
          "name": "stderr",
          "text": [
            "WARNING:chromadb.segment.impl.vector.local_persistent_hnsw:Number of requested results 4 is greater than number of elements in index 2, updating n_results = 2\n"
          ]
        },
        {
          "output_type": "error",
          "ename": "AttributeError",
          "evalue": "'list' object has no attribute 'persist'",
          "traceback": [
            "\u001b[0;31m---------------------------------------------------------------------------\u001b[0m",
            "\u001b[0;31mAttributeError\u001b[0m                            Traceback (most recent call last)",
            "\u001b[0;32m<ipython-input-60-40c74653f2cc>\u001b[0m in \u001b[0;36m<cell line: 3>\u001b[0;34m()\u001b[0m\n\u001b[1;32m      1\u001b[0m \u001b[0mquery\u001b[0m\u001b[0;34m=\u001b[0m\u001b[0;34m\"what is consumer Id?\"\u001b[0m\u001b[0;34m\u001b[0m\u001b[0;34m\u001b[0m\u001b[0m\n\u001b[1;32m      2\u001b[0m \u001b[0mdoc\u001b[0m\u001b[0;34m=\u001b[0m\u001b[0mdocs_with_embedding\u001b[0m\u001b[0;34m.\u001b[0m\u001b[0msimilarity_search\u001b[0m\u001b[0;34m(\u001b[0m\u001b[0mquery\u001b[0m\u001b[0;34m)\u001b[0m\u001b[0;34m\u001b[0m\u001b[0;34m\u001b[0m\u001b[0m\n\u001b[0;32m----> 3\u001b[0;31m \u001b[0mdoc\u001b[0m\u001b[0;34m.\u001b[0m\u001b[0mpersist\u001b[0m\u001b[0;34m(\u001b[0m\u001b[0;34m)\u001b[0m\u001b[0;34m\u001b[0m\u001b[0;34m\u001b[0m\u001b[0m\n\u001b[0m",
            "\u001b[0;31mAttributeError\u001b[0m: 'list' object has no attribute 'persist'"
          ]
        }
      ],
      "source": [
        "query=\"what is consumer Id?\"\n",
        "doc=docs_with_embedding.similarity_search(query)"
      ]
    },
    {
      "cell_type": "markdown",
      "source": [
        "**Verify the Class of the instance doc and docs_with_embedding**"
      ],
      "metadata": {
        "id": "e_yoLFxElEja"
      }
    },
    {
      "cell_type": "code",
      "source": [
        "print(doc.__class__.__name__)\n",
        "print(docs_with_embedding.__class__.__name__)"
      ],
      "metadata": {
        "colab": {
          "base_uri": "https://localhost:8080/"
        },
        "id": "U8qHU-Toiebu",
        "outputId": "987ece5e-f89b-45f8-fe1f-906f2ecaf772"
      },
      "execution_count": 73,
      "outputs": [
        {
          "output_type": "stream",
          "name": "stdout",
          "text": [
            "list\n",
            "Chroma\n"
          ]
        }
      ]
    },
    {
      "cell_type": "markdown",
      "source": [
        "**As part of the persistence testing, nullify the embed object**"
      ],
      "metadata": {
        "id": "20r2ULRulWY9"
      }
    },
    {
      "cell_type": "code",
      "source": [
        "docs_with_embedding=None"
      ],
      "metadata": {
        "id": "99G7-EXHjAlk"
      },
      "execution_count": 66,
      "outputs": []
    },
    {
      "cell_type": "markdown",
      "source": [
        "**After Nullifying, the get() should not return anything other than exception**"
      ],
      "metadata": {
        "id": "GGcDEQ2rlgT0"
      }
    },
    {
      "cell_type": "code",
      "source": [
        "docs_with_embedding.get()"
      ],
      "metadata": {
        "colab": {
          "base_uri": "https://localhost:8080/",
          "height": 141
        },
        "id": "T0Y2XxOfjIvg",
        "outputId": "87ff8e68-8728-495f-cdf6-43352ef6d87f"
      },
      "execution_count": 67,
      "outputs": [
        {
          "output_type": "error",
          "ename": "AttributeError",
          "evalue": "'NoneType' object has no attribute 'get'",
          "traceback": [
            "\u001b[0;31m---------------------------------------------------------------------------\u001b[0m",
            "\u001b[0;31mAttributeError\u001b[0m                            Traceback (most recent call last)",
            "\u001b[0;32m<ipython-input-67-228f39119a16>\u001b[0m in \u001b[0;36m<cell line: 1>\u001b[0;34m()\u001b[0m\n\u001b[0;32m----> 1\u001b[0;31m \u001b[0mdocs_with_embedding\u001b[0m\u001b[0;34m.\u001b[0m\u001b[0mget\u001b[0m\u001b[0;34m(\u001b[0m\u001b[0;34m)\u001b[0m\u001b[0;34m\u001b[0m\u001b[0;34m\u001b[0m\u001b[0m\n\u001b[0m",
            "\u001b[0;31mAttributeError\u001b[0m: 'NoneType' object has no attribute 'get'"
          ]
        }
      ]
    },
    {
      "cell_type": "markdown",
      "source": [
        "**Pull back the data from the persistent directory and reembed**"
      ],
      "metadata": {
        "id": "-0JyRTmolpWz"
      }
    },
    {
      "cell_type": "code",
      "source": [
        "docs_with_embedding=Chroma(persist_directory=persist_dir, embedding_function=embedding)"
      ],
      "metadata": {
        "id": "58nXQkOijMuc"
      },
      "execution_count": 69,
      "outputs": []
    },
    {
      "cell_type": "markdown",
      "source": [
        "Runt he get() again, and this time it should show the data"
      ],
      "metadata": {
        "id": "nAbckuSylyXY"
      }
    },
    {
      "cell_type": "code",
      "source": [
        "docs_with_embedding.get()"
      ],
      "metadata": {
        "colab": {
          "base_uri": "https://localhost:8080/"
        },
        "id": "X2PUP7Iyjmo5",
        "outputId": "60beba8a-e08e-44be-a75c-3aa1c38cf105"
      },
      "execution_count": 71,
      "outputs": [
        {
          "output_type": "execute_result",
          "data": {
            "text/plain": [
              "{'ids': ['19c6a2f0-c9db-4c0a-b616-78fd1e267905',\n",
              "  '026f4798-73c3-4cda-8ea8-95038f93d381',\n",
              "  '459e2ffb-aa2e-4f76-b5a0-88c814c02646'],\n",
              " 'embeddings': None,\n",
              " 'metadatas': [{'page': 0, 'source': '/content/446012636724.pdf'},\n",
              "  {'page': 0, 'source': '/content/446012636724.pdf'},\n",
              "  {'page': 0, 'source': '/content/446012636724.pdf'}],\n",
              " 'documents': ['         SUBHASPALLY CUSTOMER CARE CENTER, PHONE No - 3532596057(24 HRS)\\n 1 NO. DABGRAM COLONY,  CALL CENTER PHONE No - 19121(TOLL FREE), TAN: CALW05053G\\n PRABIR KR. BASU. RABINDRA NAGAR.         Invoice No.          : 446012636724\\n ATTACHAD WITH RABINDRA SANGHA. P.0.-     Prev. Reading Date   : 20.03.2023\\n R/ SARANI. DT- SILIGURI.                 Present Reading Date : 03.07.2023\\n Pin -                                    Billing Date         : 03.07.2023\\n Consumer Id        :   412205640         Next Reading Date:18.09.2023-22.09.2023\\n Tariff Class       :   A(DM-U)           Connected Load       : 2.24 KVA\\n Installation No    :   572997            Solar PV Capacity    :\\n Latitude           :   26.7111425        Meter Reading unit   : GET10QMR\\n Longitude          :   88.439323         PAN of consumer(s)   :\\n ________________________________________________________________________________\\n Meter No  Time  Previous   Present          MF      Unit              Max Demand\\n                  Reading   Reading              consumed                   (KVA)\\n IPB250249 N     10752.00  11436.00        1.00    684.00\\n ________________________________________________________________________________\\n Bill Month                                JUL,2023       AUG,2023       SEP,2023\\n Amount due after due date(Rs.)             1445.00        1445.00        1445.00\\n Due dates to avail Monthly Rebates      13.07.2023     14.08.2023     11.09.2023\\n Monthly Rebates(Rs.)                        -16.43         -16.43         -16.44\\n Amount due within due dates(Rs.)           1428.00        1429.00        1429.00\\n Special Rebate(Rs.)                         -68.40\\n Total Amount Payable at a time within 1st Due date* (Rs.)              4,217.00\\n Amount payable at a time through e-Payment within 1st Due date         4,168.00\\n ________________________________________________________________________________\\n Breakup of Charges\\n Category                                                                   Total\\n Energy Charge(Rs.)                                                       4829.70\\n Fixed/Demand Charge(Rs.)                                                  100.80\\n Government Subsidy(Rs.)&                                                 -625.86\\n Meter Rent(Rs.)                                                            30.00\\n Gross Amount(Rs.)                                                        4334.64\\n Adjustments**                                                              -0.83\\n ________________________________________________________________________________\\n Payment may be made using RTGS/NEFT in your exclusive a/c no: WBB412205640572997\\n with IFSC code ICIC0000104\\n As per order of WBERC dated 28.07.2022 & Subsidy from West Bengal Govt\\n # Outstandings: Rs.0.00\\n Last Payment Details:Amount(Rs.):2887.00 Payment date :24.03.2023\\n Interest Rs. 179.95   , TDS Rs. 0   & Net Int. Rs. 179.95  on Security Deposit\\n as on 31.03.2023\\n Security Deposit: Rs. 3178.81',\n",
              "  '         SUBHASPALLY CUSTOMER CARE CENTER, PHONE No - 3532596057(24 HRS)\\n 1 NO. DABGRAM COLONY,  CALL CENTER PHONE No - 19121(TOLL FREE), TAN: CALW05053G\\n PRABIR KR. BASU. RABINDRA NAGAR.         Invoice No.          : 446012636724\\n ATTACHAD WITH RABINDRA SANGHA. P.0.-     Prev. Reading Date   : 20.03.2023\\n R/ SARANI. DT- SILIGURI.                 Present Reading Date : 03.07.2023\\n Pin -                                    Billing Date         : 03.07.2023\\n Consumer Id        :   412205640         Next Reading Date:18.09.2023-22.09.2023\\n Tariff Class       :   A(DM-U)           Connected Load       : 2.24 KVA\\n Installation No    :   572997            Solar PV Capacity    :\\n Latitude           :   26.7111425        Meter Reading unit   : GET10QMR\\n Longitude          :   88.439323         PAN of consumer(s)   :\\n ________________________________________________________________________________\\n Meter No  Time  Previous   Present          MF      Unit              Max Demand\\n                  Reading   Reading              consumed                   (KVA)\\n IPB250249 N     10752.00  11436.00        1.00    684.00\\n ________________________________________________________________________________\\n Bill Month                                JUL,2023       AUG,2023       SEP,2023\\n Amount due after due date(Rs.)             1445.00        1445.00        1445.00\\n Due dates to avail Monthly Rebates      13.07.2023     14.08.2023     11.09.2023\\n Monthly Rebates(Rs.)                        -16.43         -16.43         -16.44\\n Amount due within due dates(Rs.)           1428.00        1429.00        1429.00\\n Special Rebate(Rs.)                         -68.40\\n Total Amount Payable at a time within 1st Due date* (Rs.)              4,217.00\\n Amount payable at a time through e-Payment within 1st Due date         4,168.00\\n ________________________________________________________________________________\\n Breakup of Charges\\n Category                                                                   Total\\n Energy Charge(Rs.)                                                       4829.70\\n Fixed/Demand Charge(Rs.)                                                  100.80\\n Government Subsidy(Rs.)&                                                 -625.86\\n Meter Rent(Rs.)                                                            30.00\\n Gross Amount(Rs.)                                                        4334.64\\n Adjustments**                                                              -0.83\\n ________________________________________________________________________________\\n Payment may be made using RTGS/NEFT in your exclusive a/c no: WBB412205640572997\\n with IFSC code ICIC0000104\\n As per order of WBERC dated 28.07.2022 & Subsidy from West Bengal Govt\\n # Outstandings: Rs.0.00\\n Last Payment Details:Amount(Rs.):2887.00 Payment date :24.03.2023\\n Interest Rs. 179.95   , TDS Rs. 0   & Net Int. Rs. 179.95  on Security Deposit\\n as on 31.03.2023\\n Security Deposit: Rs. 3178.81',\n",
              "  '         SUBHASPALLY CUSTOMER CARE CENTER, PHONE No - 3532596057(24 HRS)\\n 1 NO. DABGRAM COLONY,  CALL CENTER PHONE No - 19121(TOLL FREE), TAN: CALW05053G\\n PRABIR KR. BASU. RABINDRA NAGAR.         Invoice No.          : 446012636724\\n ATTACHAD WITH RABINDRA SANGHA. P.0.-     Prev. Reading Date   : 20.03.2023\\n R/ SARANI. DT- SILIGURI.                 Present Reading Date : 03.07.2023\\n Pin -                                    Billing Date         : 03.07.2023\\n Consumer Id        :   412205640         Next Reading Date:18.09.2023-22.09.2023\\n Tariff Class       :   A(DM-U)           Connected Load       : 2.24 KVA\\n Installation No    :   572997            Solar PV Capacity    :\\n Latitude           :   26.7111425        Meter Reading unit   : GET10QMR\\n Longitude          :   88.439323         PAN of consumer(s)   :\\n ________________________________________________________________________________\\n Meter No  Time  Previous   Present          MF      Unit              Max Demand\\n                  Reading   Reading              consumed                   (KVA)\\n IPB250249 N     10752.00  11436.00        1.00    684.00\\n ________________________________________________________________________________\\n Bill Month                                JUL,2023       AUG,2023       SEP,2023\\n Amount due after due date(Rs.)             1445.00        1445.00        1445.00\\n Due dates to avail Monthly Rebates      13.07.2023     14.08.2023     11.09.2023\\n Monthly Rebates(Rs.)                        -16.43         -16.43         -16.44\\n Amount due within due dates(Rs.)           1428.00        1429.00        1429.00\\n Special Rebate(Rs.)                         -68.40\\n Total Amount Payable at a time within 1st Due date* (Rs.)              4,217.00\\n Amount payable at a time through e-Payment within 1st Due date         4,168.00\\n ________________________________________________________________________________\\n Breakup of Charges\\n Category                                                                   Total\\n Energy Charge(Rs.)                                                       4829.70\\n Fixed/Demand Charge(Rs.)                                                  100.80\\n Government Subsidy(Rs.)&                                                 -625.86\\n Meter Rent(Rs.)                                                            30.00\\n Gross Amount(Rs.)                                                        4334.64\\n Adjustments**                                                              -0.83\\n ________________________________________________________________________________\\n Payment may be made using RTGS/NEFT in your exclusive a/c no: WBB412205640572997\\n with IFSC code ICIC0000104\\n As per order of WBERC dated 28.07.2022 & Subsidy from West Bengal Govt\\n # Outstandings: Rs.0.00\\n Last Payment Details:Amount(Rs.):2887.00 Payment date :24.03.2023\\n Interest Rs. 179.95   , TDS Rs. 0   & Net Int. Rs. 179.95  on Security Deposit\\n as on 31.03.2023\\n Security Deposit: Rs. 3178.81'],\n",
              " 'uris': None,\n",
              " 'data': None,\n",
              " 'included': ['metadatas', 'documents']}"
            ]
          },
          "metadata": {},
          "execution_count": 71
        }
      ]
    },
    {
      "cell_type": "code",
      "source": [],
      "metadata": {
        "id": "_iLOpUlaj2nw"
      },
      "execution_count": null,
      "outputs": []
    }
  ],
  "metadata": {
    "accelerator": "GPU",
    "colab": {
      "gpuType": "T4",
      "provenance": [],
      "mount_file_id": "1HgBhbCqZ01UJZTMZTBPwAsnTFwhud1kW",
      "authorship_tag": "ABX9TyMVE9SZOmvsT3CB1oQk72rV",
      "include_colab_link": true
    },
    "kernelspec": {
      "display_name": "Python 3",
      "name": "python3"
    },
    "language_info": {
      "name": "python"
    }
  },
  "nbformat": 4,
  "nbformat_minor": 0
}