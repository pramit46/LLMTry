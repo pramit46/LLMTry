{
  "nbformat": 4,
  "nbformat_minor": 0,
  "metadata": {
    "colab": {
      "provenance": [],
      "include_colab_link": true
    },
    "kernelspec": {
      "name": "python3",
      "display_name": "Python 3"
    },
    "language_info": {
      "name": "python"
    }
  },
  "cells": [
    {
      "cell_type": "markdown",
      "metadata": {
        "id": "view-in-github",
        "colab_type": "text"
      },
      "source": [
        "<a href=\"https://colab.research.google.com/github/pramit46/LLMTry/blob/main/RAG/WT_RnD.ipynb\" target=\"_parent\"><img src=\"https://colab.research.google.com/assets/colab-badge.svg\" alt=\"Open In Colab\"/></a>"
      ]
    },
    {
      "cell_type": "code",
      "execution_count": 49,
      "metadata": {
        "id": "jrPFYBVuqeOG"
      },
      "outputs": [],
      "source": [
        "import pandas as pd\n",
        "df=pd.read_csv(\"/content/final_csv_all.csv\")"
      ]
    },
    {
      "cell_type": "code",
      "source": [
        "#df=df.drop(['summerized_review', 'reviews_text','reference','plus_code', 'place_id', 'website', 'url', 'wheelchair_accessible_entrance', 'geometry'], axis=1)\n",
        "df=df.drop(df.columns[0], axis=1)\n",
        "#df.head()"
      ],
      "metadata": {
        "id": "0yK9pGLaq1Vd"
      },
      "execution_count": 50,
      "outputs": []
    },
    {
      "cell_type": "code",
      "source": [
        "df.info()"
      ],
      "metadata": {
        "id": "UCXWZhDIszjE",
        "colab": {
          "base_uri": "https://localhost:8080/"
        },
        "outputId": "4dff8bb6-c138-457b-a8de-01a72e10621f"
      },
      "execution_count": 51,
      "outputs": [
        {
          "output_type": "stream",
          "name": "stdout",
          "text": [
            "<class 'pandas.core.frame.DataFrame'>\n",
            "RangeIndex: 32 entries, 0 to 31\n",
            "Data columns (total 26 columns):\n",
            " #   Column                          Non-Null Count  Dtype  \n",
            "---  ------                          --------------  -----  \n",
            " 0   name                            32 non-null     object \n",
            " 1   business_status                 32 non-null     object \n",
            " 2   formatted_address               32 non-null     object \n",
            " 3   formatted_phone_number          23 non-null     object \n",
            " 4   international_phone_number      23 non-null     object \n",
            " 5   place_id                        32 non-null     object \n",
            " 6   plus_code                       31 non-null     object \n",
            " 7   rating                          32 non-null     float64\n",
            " 8   reference                       32 non-null     object \n",
            " 9   service_type                    32 non-null     object \n",
            " 10  url                             32 non-null     object \n",
            " 11  user_ratings_total              32 non-null     int64  \n",
            " 12  wheelchair_accessible_entrance  5 non-null      object \n",
            " 13  website                         25 non-null     object \n",
            " 14  geometry                        32 non-null     object \n",
            " 15  current_opening_hours           30 non-null     object \n",
            " 16  reviews_text                    32 non-null     object \n",
            " 17  reviews_rating                  32 non-null     float64\n",
            " 18  very_negative                   32 non-null     float64\n",
            " 19  negative                        32 non-null     float64\n",
            " 20  neutral                         32 non-null     float64\n",
            " 21  positive                        32 non-null     float64\n",
            " 22  very_positive                   32 non-null     float64\n",
            " 23  summerized_review               32 non-null     object \n",
            " 24  Important_keys                  32 non-null     object \n",
            " 25  working_hours                   30 non-null     float64\n",
            "dtypes: float64(8), int64(1), object(17)\n",
            "memory usage: 6.6+ KB\n"
          ]
        }
      ]
    },
    {
      "cell_type": "code",
      "source": [
        "df.isnull().sum()"
      ],
      "metadata": {
        "colab": {
          "base_uri": "https://localhost:8080/",
          "height": 899
        },
        "id": "W4eZaR1PJiYP",
        "outputId": "274d977e-26f4-449b-c055-0056f50bcccc"
      },
      "execution_count": 52,
      "outputs": [
        {
          "output_type": "execute_result",
          "data": {
            "text/plain": [
              "name                               0\n",
              "business_status                    0\n",
              "formatted_address                  0\n",
              "formatted_phone_number             9\n",
              "international_phone_number         9\n",
              "place_id                           0\n",
              "plus_code                          1\n",
              "rating                             0\n",
              "reference                          0\n",
              "service_type                       0\n",
              "url                                0\n",
              "user_ratings_total                 0\n",
              "wheelchair_accessible_entrance    27\n",
              "website                            7\n",
              "geometry                           0\n",
              "current_opening_hours              2\n",
              "reviews_text                       0\n",
              "reviews_rating                     0\n",
              "very_negative                      0\n",
              "negative                           0\n",
              "neutral                            0\n",
              "positive                           0\n",
              "very_positive                      0\n",
              "summerized_review                  0\n",
              "Important_keys                     0\n",
              "working_hours                      2\n",
              "dtype: int64"
            ],
            "text/html": [
              "<div>\n",
              "<style scoped>\n",
              "    .dataframe tbody tr th:only-of-type {\n",
              "        vertical-align: middle;\n",
              "    }\n",
              "\n",
              "    .dataframe tbody tr th {\n",
              "        vertical-align: top;\n",
              "    }\n",
              "\n",
              "    .dataframe thead th {\n",
              "        text-align: right;\n",
              "    }\n",
              "</style>\n",
              "<table border=\"1\" class=\"dataframe\">\n",
              "  <thead>\n",
              "    <tr style=\"text-align: right;\">\n",
              "      <th></th>\n",
              "      <th>0</th>\n",
              "    </tr>\n",
              "  </thead>\n",
              "  <tbody>\n",
              "    <tr>\n",
              "      <th>name</th>\n",
              "      <td>0</td>\n",
              "    </tr>\n",
              "    <tr>\n",
              "      <th>business_status</th>\n",
              "      <td>0</td>\n",
              "    </tr>\n",
              "    <tr>\n",
              "      <th>formatted_address</th>\n",
              "      <td>0</td>\n",
              "    </tr>\n",
              "    <tr>\n",
              "      <th>formatted_phone_number</th>\n",
              "      <td>9</td>\n",
              "    </tr>\n",
              "    <tr>\n",
              "      <th>international_phone_number</th>\n",
              "      <td>9</td>\n",
              "    </tr>\n",
              "    <tr>\n",
              "      <th>place_id</th>\n",
              "      <td>0</td>\n",
              "    </tr>\n",
              "    <tr>\n",
              "      <th>plus_code</th>\n",
              "      <td>1</td>\n",
              "    </tr>\n",
              "    <tr>\n",
              "      <th>rating</th>\n",
              "      <td>0</td>\n",
              "    </tr>\n",
              "    <tr>\n",
              "      <th>reference</th>\n",
              "      <td>0</td>\n",
              "    </tr>\n",
              "    <tr>\n",
              "      <th>service_type</th>\n",
              "      <td>0</td>\n",
              "    </tr>\n",
              "    <tr>\n",
              "      <th>url</th>\n",
              "      <td>0</td>\n",
              "    </tr>\n",
              "    <tr>\n",
              "      <th>user_ratings_total</th>\n",
              "      <td>0</td>\n",
              "    </tr>\n",
              "    <tr>\n",
              "      <th>wheelchair_accessible_entrance</th>\n",
              "      <td>27</td>\n",
              "    </tr>\n",
              "    <tr>\n",
              "      <th>website</th>\n",
              "      <td>7</td>\n",
              "    </tr>\n",
              "    <tr>\n",
              "      <th>geometry</th>\n",
              "      <td>0</td>\n",
              "    </tr>\n",
              "    <tr>\n",
              "      <th>current_opening_hours</th>\n",
              "      <td>2</td>\n",
              "    </tr>\n",
              "    <tr>\n",
              "      <th>reviews_text</th>\n",
              "      <td>0</td>\n",
              "    </tr>\n",
              "    <tr>\n",
              "      <th>reviews_rating</th>\n",
              "      <td>0</td>\n",
              "    </tr>\n",
              "    <tr>\n",
              "      <th>very_negative</th>\n",
              "      <td>0</td>\n",
              "    </tr>\n",
              "    <tr>\n",
              "      <th>negative</th>\n",
              "      <td>0</td>\n",
              "    </tr>\n",
              "    <tr>\n",
              "      <th>neutral</th>\n",
              "      <td>0</td>\n",
              "    </tr>\n",
              "    <tr>\n",
              "      <th>positive</th>\n",
              "      <td>0</td>\n",
              "    </tr>\n",
              "    <tr>\n",
              "      <th>very_positive</th>\n",
              "      <td>0</td>\n",
              "    </tr>\n",
              "    <tr>\n",
              "      <th>summerized_review</th>\n",
              "      <td>0</td>\n",
              "    </tr>\n",
              "    <tr>\n",
              "      <th>Important_keys</th>\n",
              "      <td>0</td>\n",
              "    </tr>\n",
              "    <tr>\n",
              "      <th>working_hours</th>\n",
              "      <td>2</td>\n",
              "    </tr>\n",
              "  </tbody>\n",
              "</table>\n",
              "</div><br><label><b>dtype:</b> int64</label>"
            ]
          },
          "metadata": {},
          "execution_count": 52
        }
      ]
    },
    {
      "cell_type": "code",
      "source": [
        "df.rename(columns={'reviews_text':'x'}, inplace=True)\n",
        "df.info()"
      ],
      "metadata": {
        "colab": {
          "base_uri": "https://localhost:8080/"
        },
        "id": "67nBgrtUHUN8",
        "outputId": "cdc6c1a2-43ae-4fa5-a2d5-627f56d026a8"
      },
      "execution_count": 46,
      "outputs": [
        {
          "output_type": "stream",
          "name": "stdout",
          "text": [
            "<class 'pandas.core.frame.DataFrame'>\n",
            "RangeIndex: 32 entries, 0 to 31\n",
            "Data columns (total 26 columns):\n",
            " #   Column                          Non-Null Count  Dtype  \n",
            "---  ------                          --------------  -----  \n",
            " 0   name                            32 non-null     object \n",
            " 1   business_status                 32 non-null     object \n",
            " 2   formatted_address               32 non-null     object \n",
            " 3   formatted_phone_number          23 non-null     object \n",
            " 4   international_phone_number      23 non-null     object \n",
            " 5   place_id                        32 non-null     object \n",
            " 6   plus_code                       31 non-null     object \n",
            " 7   rating                          32 non-null     float64\n",
            " 8   reference                       32 non-null     object \n",
            " 9   service_type                    32 non-null     object \n",
            " 10  url                             32 non-null     object \n",
            " 11  user_ratings_total              32 non-null     int64  \n",
            " 12  wheelchair_accessible_entrance  5 non-null      object \n",
            " 13  website                         25 non-null     object \n",
            " 14  geometry                        32 non-null     object \n",
            " 15  current_opening_hours           30 non-null     object \n",
            " 16  x                               32 non-null     object \n",
            " 17  reviews_rating                  32 non-null     float64\n",
            " 18  very_negative                   32 non-null     float64\n",
            " 19  negative                        32 non-null     float64\n",
            " 20  neutral                         32 non-null     float64\n",
            " 21  positive                        32 non-null     float64\n",
            " 22  very_positive                   32 non-null     float64\n",
            " 23  summerized_review               32 non-null     object \n",
            " 24  Important_keys                  32 non-null     object \n",
            " 25  working_hours                   30 non-null     float64\n",
            "dtypes: float64(8), int64(1), object(17)\n",
            "memory usage: 6.6+ KB\n"
          ]
        }
      ]
    },
    {
      "cell_type": "code",
      "source": [
        "final_df=df[['name','formatted_address','rating','user_ratings_total','very_negative','negative','neutral', 'positive', 'very_positive', 'Important_keys']].copy()\n",
        "final_df['weighted_rating'] = final_df['rating'] * final_df['user_ratings_total']\n",
        "final_df['max_sentiment_score'] = final_df[['very_negative','negative','neutral','positive','very_positive']].max(axis='columns')\n",
        "final_df['max_sentiment_type'] = final_df[['very_negative','negative','neutral','positive','very_positive']].idxmax(axis='columns')\n"
      ],
      "metadata": {
        "id": "3IJZRD7Dvh2O"
      },
      "execution_count": 24,
      "outputs": []
    },
    {
      "cell_type": "code",
      "source": [
        "final_df.info()"
      ],
      "metadata": {
        "colab": {
          "base_uri": "https://localhost:8080/"
        },
        "id": "ZN4QoQ3k9fPD",
        "outputId": "ba30d02c-aaea-4ce5-9aff-e1067478a5f5"
      },
      "execution_count": 25,
      "outputs": [
        {
          "output_type": "stream",
          "name": "stdout",
          "text": [
            "<class 'pandas.core.frame.DataFrame'>\n",
            "RangeIndex: 32 entries, 0 to 31\n",
            "Data columns (total 13 columns):\n",
            " #   Column               Non-Null Count  Dtype  \n",
            "---  ------               --------------  -----  \n",
            " 0   name                 32 non-null     object \n",
            " 1   formatted_address    32 non-null     object \n",
            " 2   rating               32 non-null     float64\n",
            " 3   user_ratings_total   32 non-null     int64  \n",
            " 4   very_negative        32 non-null     float64\n",
            " 5   negative             32 non-null     float64\n",
            " 6   neutral              32 non-null     float64\n",
            " 7   positive             32 non-null     float64\n",
            " 8   very_positive        32 non-null     float64\n",
            " 9   Important_keys       32 non-null     object \n",
            " 10  weighted_rating      32 non-null     float64\n",
            " 11  max_sentiment_score  32 non-null     float64\n",
            " 12  max_sentiment_type   32 non-null     object \n",
            "dtypes: float64(8), int64(1), object(4)\n",
            "memory usage: 3.4+ KB\n"
          ]
        }
      ]
    },
    {
      "cell_type": "code",
      "source": [
        "# Print categorical columns\n",
        "categ_cols = [col for col in final_df.columns if final_df[col].dtype == 'object']\n",
        "categ_cols"
      ],
      "metadata": {
        "colab": {
          "base_uri": "https://localhost:8080/"
        },
        "id": "FTllRFDyFLVl",
        "outputId": "c331d24e-9931-4295-dcf1-86807cf10885"
      },
      "execution_count": 28,
      "outputs": [
        {
          "output_type": "execute_result",
          "data": {
            "text/plain": [
              "['name', 'formatted_address', 'Important_keys', 'max_sentiment_type']"
            ]
          },
          "metadata": {},
          "execution_count": 28
        }
      ]
    },
    {
      "cell_type": "code",
      "source": [],
      "metadata": {
        "id": "n2_rvZf2PQDP"
      },
      "execution_count": null,
      "outputs": []
    },
    {
      "cell_type": "code",
      "source": [
        "# Print numerical columns\n",
        "numb_cols = [col for col in final_df.columns if final_df[col].dtype == 'int64']\n",
        "float_cols = [col for col in final_df.columns if final_df[col].dtype == 'float64']\n",
        "print(f\"{numb_cols} are integer values \\nand \\n{float_cols} are float values\")"
      ],
      "metadata": {
        "colab": {
          "base_uri": "https://localhost:8080/"
        },
        "id": "TmNWu6fmFjMB",
        "outputId": "07ddefc7-9c8e-45e5-fe31-80f4a9f4bc4a"
      },
      "execution_count": 33,
      "outputs": [
        {
          "output_type": "stream",
          "name": "stdout",
          "text": [
            "['user_ratings_total'] are integer values \n",
            "and \n",
            "['rating', 'very_negative', 'negative', 'neutral', 'positive', 'very_positive', 'weighted_rating', 'max_sentiment_score'] are float values\n"
          ]
        }
      ]
    },
    {
      "cell_type": "code",
      "source": [
        "from IPython.core.display import display, HTML\n",
        "def display_output(title, data):\n",
        "    \"\"\"Display the output in a styled box.\"\"\"\n",
        "    data_str = data.to_string()\n",
        "    styled_output = f\"\"\"\n",
        "    <div style=\"background-color: #f0f8fe; border: 2px solid #4682B4; padding: 10px; border-radius: 5px; color: #2f4f4e;\">\n",
        "        <h3>{title}</h3>\n",
        "        <pre>{data_str}</pre>\n",
        "    </div>\n",
        "    \"\"\"\n",
        "    display(HTML(styled_output))"
      ],
      "metadata": {
        "id": "66_ASRP3MQQb"
      },
      "execution_count": 61,
      "outputs": []
    },
    {
      "cell_type": "code",
      "source": [
        "display_output(\"Analysis of Important Keys\", df['Important_keys'].describe())"
      ],
      "metadata": {
        "colab": {
          "base_uri": "https://localhost:8080/",
          "height": 151
        },
        "id": "ugJqT2lzMTLt",
        "outputId": "91b3dc5c-6ed8-47a3-c4b7-2086b1a6be3a"
      },
      "execution_count": 62,
      "outputs": [
        {
          "output_type": "display_data",
          "data": {
            "text/plain": [
              "<IPython.core.display.HTML object>"
            ],
            "text/html": [
              "\n",
              "    <div style=\"background-color: #f0f8fe; border: 2px solid #4682B4; padding: 10px; border-radius: 5px; color: #2f4f4e;\">\n",
              "        <h3>Analysis of Important Keys</h3>\n",
              "        <pre>count                                                    32\n",
              "unique                                                   32\n",
              "top       'dog care', 'environment dog care', 'homely en...\n",
              "freq                                                      1</pre>\n",
              "    </div>\n",
              "    "
            ]
          },
          "metadata": {}
        }
      ]
    },
    {
      "cell_type": "code",
      "source": [
        "import matplotlib.pyplot as plt\n",
        "import seaborn as sns\n",
        "\n",
        "\n",
        "# Pallete\n",
        "palette = ['Black', '#b379ef']\n",
        "color_palette = sns.color_palette(palette)\n",
        "\n",
        "plt.figure(figsize=(10, 6))\n",
        "sns.histplot(df['rating'].dropna(), bins=15, kde=True, color=palette[0])\n",
        "plt.title('Rating Distribution of Stores', fontsize=14)\n",
        "plt.xlabel('Rating', fontsize=12)\n",
        "plt.ylabel('Frequency', fontsize=12)\n",
        "plt.grid(True)\n",
        "plt.show()"
      ],
      "metadata": {
        "colab": {
          "base_uri": "https://localhost:8080/",
          "height": 569
        },
        "id": "M7FqaNQ2PBkz",
        "outputId": "f90742dc-184f-4d3d-88e8-9ed8b37588ef"
      },
      "execution_count": 74,
      "outputs": [
        {
          "output_type": "display_data",
          "data": {
            "text/plain": [
              "<Figure size 1000x600 with 1 Axes>"
            ],
            "image/png": "[encoded data removed]"
          },
          "metadata": {}
        }
      ]
    },
    {
      "cell_type": "code",
      "source": [
        "!pip install -q pinecone\n",
        "!pip install -q llama_index\n",
        "!pip install -q llama-index-vector-stores-pinecone"
      ],
      "metadata": {
        "id": "CmOcuGBU4L6X"
      },
      "execution_count": null,
      "outputs": []
    },
    {
      "cell_type": "code",
      "source": [
        "from statistics import mean\n",
        "final_df['mean_sentiment_score'] = final_df[['very_negative','negative','neutral', 'positive', 'very_positive']].mean(axis=1).round(5)"
      ],
      "metadata": {
        "id": "D7TR6z5w8wX9"
      },
      "execution_count": null,
      "outputs": []
    },
    {
      "cell_type": "code",
      "source": [
        "from llama_index.core import VectorStoreIndex, SimpleDirectoryReader\n",
        "from llama_index.vector_stores.pinecone import PineconeVectorStore\n",
        "import pinecone"
      ],
      "metadata": {
        "id": "eFSgtpYw4HOl"
      },
      "execution_count": null,
      "outputs": []
    },
    {
      "cell_type": "code",
      "source": [
        "from pinecone import Pinecone, ServerlessSpec\n",
        "from google.colab import userdata\n",
        "\n",
        "pc = Pinecone(api_key=userdata.get('pinecone'))\n",
        "index_name='wtindex01'\n",
        "\n",
        "if index_name not in pc.list_indexes().names():\n",
        "        pc.create_index(\n",
        "            name=index_name,\n",
        "            dimension=1536,\n",
        "            metric='cosine',\n",
        "            spec=ServerlessSpec(\n",
        "                cloud='aws',\n",
        "                region='us-east-1'\n",
        "            )\n",
        "        )\n",
        "else:\n",
        "  print(f\"Index: {index_name} already exists in the given region\")\n"
      ],
      "metadata": {
        "id": "4_VpjBDR_qQZ",
        "colab": {
          "base_uri": "https://localhost:8080/"
        },
        "outputId": "c466751f-8c0c-467b-81e7-9a7dde2065b8"
      },
      "execution_count": null,
      "outputs": [
        {
          "output_type": "stream",
          "name": "stdout",
          "text": [
            "Index: wtindex01 already exists in the given region\n"
          ]
        }
      ]
    },
    {
      "cell_type": "code",
      "source": [
        "final_df.head()"
      ],
      "metadata": {
        "colab": {
          "base_uri": "https://localhost:8080/",
          "height": 538
        },
        "id": "Kx89UfhpZ22M",
        "outputId": "a48bc8b1-dfc9-4b65-e348-3bfdda456037"
      },
      "execution_count": null,
      "outputs": [
        {
          "output_type": "execute_result",
          "data": {
            "text/plain": [
              "                                    name  \\\n",
              "0         LuLu home dog boarding service   \n",
              "1                    Vicky Dog Home Stay   \n",
              "2  Mac's Pet Vacation Home and Play Area   \n",
              "3                            Blackys BnB   \n",
              "4                      Signature Puppies   \n",
              "\n",
              "                                   formatted_address  rating  \\\n",
              "0  5th Main Rd, Chowdeshwari Layout, Marathahalli...     5.0   \n",
              "1  Flat No. 1, First Floor, Malempati Homes, Manj...     4.9   \n",
              "2  56, Munnekolala, post, Lakshmi Layout, Gandhi ...     4.3   \n",
              "3  Gopala Krishna Nagar layout 3rd Cross, Temple ...     4.8   \n",
              "4     Kathrigupe, Bengaluru, Karnataka 560087, India     4.7   \n",
              "\n",
              "   user_ratings_total  very_negative  negative   neutral  positive  \\\n",
              "0                  23       0.008266  0.020104  0.098750  0.354874   \n",
              "1                 258       0.016539  0.020855  0.053281  0.354257   \n",
              "2                  89       0.364979  0.038805  0.023697  0.168864   \n",
              "3                 127       0.070894  0.049778  0.052651  0.227416   \n",
              "4                   9       0.141729  0.087373  0.116201  0.324857   \n",
              "\n",
              "   very_positive                                     Important_keys  \\\n",
              "0       0.518006  'dog care', 'environment dog care', 'homely en...   \n",
              "1       0.555068  'vicky dog home', 'dog crèches vicky', 'crèche...   \n",
              "2       0.403654  'pet day care', 'daycare main advantage', 'day...   \n",
              "3       0.599261  'german shepherd', 'dachshund was diagnosed', ...   \n",
              "4       0.329841  'place to pets', 'pet care very', 'dog boardin...   \n",
              "\n",
              "   weighted_rating  \n",
              "0            115.0  \n",
              "1           1264.2  \n",
              "2            382.7  \n",
              "3            609.6  \n",
              "4             42.3  "
            ],
            "text/html": [
              "\n",
              "  <div id=\"df-59d31eaf-c22d-400b-bab7-4b2e9a933141\" class=\"colab-df-container\">\n",
              "    <div>\n",
              "<style scoped>\n",
              "    .dataframe tbody tr th:only-of-type {\n",
              "        vertical-align: middle;\n",
              "    }\n",
              "\n",
              "    .dataframe tbody tr th {\n",
              "        vertical-align: top;\n",
              "    }\n",
              "\n",
              "    .dataframe thead th {\n",
              "        text-align: right;\n",
              "    }\n",
              "</style>\n",
              "<table border=\"1\" class=\"dataframe\">\n",
              "  <thead>\n",
              "    <tr style=\"text-align: right;\">\n",
              "      <th></th>\n",
              "      <th>name</th>\n",
              "      <th>formatted_address</th>\n",
              "      <th>rating</th>\n",
              "      <th>user_ratings_total</th>\n",
              "      <th>very_negative</th>\n",
              "      <th>negative</th>\n",
              "      <th>neutral</th>\n",
              "      <th>positive</th>\n",
              "      <th>very_positive</th>\n",
              "      <th>Important_keys</th>\n",
              "      <th>weighted_rating</th>\n",
              "    </tr>\n",
              "  </thead>\n",
              "  <tbody>\n",
              "    <tr>\n",
              "      <th>0</th>\n",
              "      <td>LuLu home dog boarding service</td>\n",
              "      <td>5th Main Rd, Chowdeshwari Layout, Marathahalli...</td>\n",
              "      <td>5.0</td>\n",
              "      <td>23</td>\n",
              "      <td>0.008266</td>\n",
              "      <td>0.020104</td>\n",
              "      <td>0.098750</td>\n",
              "      <td>0.354874</td>\n",
              "      <td>0.518006</td>\n",
              "      <td>'dog care', 'environment dog care', 'homely en...</td>\n",
              "      <td>115.0</td>\n",
              "    </tr>\n",
              "    <tr>\n",
              "      <th>1</th>\n",
              "      <td>Vicky Dog Home Stay</td>\n",
              "      <td>Flat No. 1, First Floor, Malempati Homes, Manj...</td>\n",
              "      <td>4.9</td>\n",
              "      <td>258</td>\n",
              "      <td>0.016539</td>\n",
              "      <td>0.020855</td>\n",
              "      <td>0.053281</td>\n",
              "      <td>0.354257</td>\n",
              "      <td>0.555068</td>\n",
              "      <td>'vicky dog home', 'dog crèches vicky', 'crèche...</td>\n",
              "      <td>1264.2</td>\n",
              "    </tr>\n",
              "    <tr>\n",
              "      <th>2</th>\n",
              "      <td>Mac's Pet Vacation Home and Play Area</td>\n",
              "      <td>56, Munnekolala, post, Lakshmi Layout, Gandhi ...</td>\n",
              "      <td>4.3</td>\n",
              "      <td>89</td>\n",
              "      <td>0.364979</td>\n",
              "      <td>0.038805</td>\n",
              "      <td>0.023697</td>\n",
              "      <td>0.168864</td>\n",
              "      <td>0.403654</td>\n",
              "      <td>'pet day care', 'daycare main advantage', 'day...</td>\n",
              "      <td>382.7</td>\n",
              "    </tr>\n",
              "    <tr>\n",
              "      <th>3</th>\n",
              "      <td>Blackys BnB</td>\n",
              "      <td>Gopala Krishna Nagar layout 3rd Cross, Temple ...</td>\n",
              "      <td>4.8</td>\n",
              "      <td>127</td>\n",
              "      <td>0.070894</td>\n",
              "      <td>0.049778</td>\n",
              "      <td>0.052651</td>\n",
              "      <td>0.227416</td>\n",
              "      <td>0.599261</td>\n",
              "      <td>'german shepherd', 'dachshund was diagnosed', ...</td>\n",
              "      <td>609.6</td>\n",
              "    </tr>\n",
              "    <tr>\n",
              "      <th>4</th>\n",
              "      <td>Signature Puppies</td>\n",
              "      <td>Kathrigupe, Bengaluru, Karnataka 560087, India</td>\n",
              "      <td>4.7</td>\n",
              "      <td>9</td>\n",
              "      <td>0.141729</td>\n",
              "      <td>0.087373</td>\n",
              "      <td>0.116201</td>\n",
              "      <td>0.324857</td>\n",
              "      <td>0.329841</td>\n",
              "      <td>'place to pets', 'pet care very', 'dog boardin...</td>\n",
              "      <td>42.3</td>\n",
              "    </tr>\n",
              "  </tbody>\n",
              "</table>\n",
              "</div>\n",
              "    <div class=\"colab-df-buttons\">\n",
              "\n",
              "  <div class=\"colab-df-container\">\n",
              "    <button class=\"colab-df-convert\" onclick=\"convertToInteractive('df-59d31eaf-c22d-400b-bab7-4b2e9a933141')\"\n",
              "            title=\"Convert this dataframe to an interactive table.\"\n",
              "            style=\"display:none;\">\n",
              "\n",
              "  <svg xmlns=\"http://www.w3.org/2000/svg\" height=\"24px\" viewBox=\"0 -960 960 960\">\n",
              "    <path d=\"M120-120v-720h720v720H120Zm60-500h600v-160H180v160Zm220 220h160v-160H400v160Zm0 220h160v-160H400v160ZM180-400h160v-160H180v160Zm440 0h160v-160H620v160ZM180-180h160v-160H180v160Zm440 0h160v-160H620v160Z\"/>\n",
              "  </svg>\n",
              "    </button>\n",
              "\n",
              "  <style>\n",
              "    .colab-df-container {\n",
              "      display:flex;\n",
              "      gap: 12px;\n",
              "    }\n",
              "\n",
              "    .colab-df-convert {\n",
              "      background-color: #E8F0FE;\n",
              "      border: none;\n",
              "      border-radius: 50%;\n",
              "      cursor: pointer;\n",
              "      display: none;\n",
              "      fill: #1967D2;\n",
              "      height: 32px;\n",
              "      padding: 0 0 0 0;\n",
              "      width: 32px;\n",
              "    }\n",
              "\n",
              "    .colab-df-convert:hover {\n",
              "      background-color: #E2EBFA;\n",
              "      box-shadow: 0px 1px 2px rgba(60, 64, 67, 0.3), 0px 1px 3px 1px rgba(60, 64, 67, 0.15);\n",
              "      fill: #174EA6;\n",
              "    }\n",
              "\n",
              "    .colab-df-buttons div {\n",
              "      margin-bottom: 4px;\n",
              "    }\n",
              "\n",
              "    [theme=dark] .colab-df-convert {\n",
              "      background-color: #3B4455;\n",
              "      fill: #D2E3FC;\n",
              "    }\n",
              "\n",
              "    [theme=dark] .colab-df-convert:hover {\n",
              "      background-color: #434B5C;\n",
              "      box-shadow: 0px 1px 3px 1px rgba(0, 0, 0, 0.15);\n",
              "      filter: drop-shadow(0px 1px 2px rgba(0, 0, 0, 0.3));\n",
              "      fill: #FFFFFF;\n",
              "    }\n",
              "  </style>\n",
              "\n",
              "    <script>\n",
              "      const buttonEl =\n",
              "        document.querySelector('#df-59d31eaf-c22d-400b-bab7-4b2e9a933141 button.colab-df-convert');\n",
              "      buttonEl.style.display =\n",
              "        google.colab.kernel.accessAllowed ? 'block' : 'none';\n",
              "\n",
              "      async function convertToInteractive(key) {\n",
              "        const element = document.querySelector('#df-59d31eaf-c22d-400b-bab7-4b2e9a933141');\n",
              "        const dataTable =\n",
              "          await google.colab.kernel.invokeFunction('convertToInteractive',\n",
              "                                                    [key], {});\n",
              "        if (!dataTable) return;\n",
              "\n",
              "        const docLinkHtml = 'Like what you see? Visit the ' +\n",
              "          '<a target=\"_blank\" href=https://colab.research.google.com/notebooks/data_table.ipynb>data table notebook</a>'\n",
              "          + ' to learn more about interactive tables.';\n",
              "        element.innerHTML = '';\n",
              "        dataTable['output_type'] = 'display_data';\n",
              "        await google.colab.output.renderOutput(dataTable, element);\n",
              "        const docLink = document.createElement('div');\n",
              "        docLink.innerHTML = docLinkHtml;\n",
              "        element.appendChild(docLink);\n",
              "      }\n",
              "    </script>\n",
              "  </div>\n",
              "\n",
              "\n",
              "<div id=\"df-7382db81-b449-46fc-a25a-298d851b93fe\">\n",
              "  <button class=\"colab-df-quickchart\" onclick=\"quickchart('df-7382db81-b449-46fc-a25a-298d851b93fe')\"\n",
              "            title=\"Suggest charts\"\n",
              "            style=\"display:none;\">\n",
              "\n",
              "<svg xmlns=\"http://www.w3.org/2000/svg\" height=\"24px\"viewBox=\"0 0 24 24\"\n",
              "     width=\"24px\">\n",
              "    <g>\n",
              "        <path d=\"M19 3H5c-1.1 0-2 .9-2 2v14c0 1.1.9 2 2 2h14c1.1 0 2-.9 2-2V5c0-1.1-.9-2-2-2zM9 17H7v-7h2v7zm4 0h-2V7h2v10zm4 0h-2v-4h2v4z\"/>\n",
              "    </g>\n",
              "</svg>\n",
              "  </button>\n",
              "\n",
              "<style>\n",
              "  .colab-df-quickchart {\n",
              "      --bg-color: #E8F0FE;\n",
              "      --fill-color: #1967D2;\n",
              "      --hover-bg-color: #E2EBFA;\n",
              "      --hover-fill-color: #174EA6;\n",
              "      --disabled-fill-color: #AAA;\n",
              "      --disabled-bg-color: #DDD;\n",
              "  }\n",
              "\n",
              "  [theme=dark] .colab-df-quickchart {\n",
              "      --bg-color: #3B4455;\n",
              "      --fill-color: #D2E3FC;\n",
              "      --hover-bg-color: #434B5C;\n",
              "      --hover-fill-color: #FFFFFF;\n",
              "      --disabled-bg-color: #3B4455;\n",
              "      --disabled-fill-color: #666;\n",
              "  }\n",
              "\n",
              "  .colab-df-quickchart {\n",
              "    background-color: var(--bg-color);\n",
              "    border: none;\n",
              "    border-radius: 50%;\n",
              "    cursor: pointer;\n",
              "    display: none;\n",
              "    fill: var(--fill-color);\n",
              "    height: 32px;\n",
              "    padding: 0;\n",
              "    width: 32px;\n",
              "  }\n",
              "\n",
              "  .colab-df-quickchart:hover {\n",
              "    background-color: var(--hover-bg-color);\n",
              "    box-shadow: 0 1px 2px rgba(60, 64, 67, 0.3), 0 1px 3px 1px rgba(60, 64, 67, 0.15);\n",
              "    fill: var(--button-hover-fill-color);\n",
              "  }\n",
              "\n",
              "  .colab-df-quickchart-complete:disabled,\n",
              "  .colab-df-quickchart-complete:disabled:hover {\n",
              "    background-color: var(--disabled-bg-color);\n",
              "    fill: var(--disabled-fill-color);\n",
              "    box-shadow: none;\n",
              "  }\n",
              "\n",
              "  .colab-df-spinner {\n",
              "    border: 2px solid var(--fill-color);\n",
              "    border-color: transparent;\n",
              "    border-bottom-color: var(--fill-color);\n",
              "    animation:\n",
              "      spin 1s steps(1) infinite;\n",
              "  }\n",
              "\n",
              "  @keyframes spin {\n",
              "    0% {\n",
              "      border-color: transparent;\n",
              "      border-bottom-color: var(--fill-color);\n",
              "      border-left-color: var(--fill-color);\n",
              "    }\n",
              "    20% {\n",
              "      border-color: transparent;\n",
              "      border-left-color: var(--fill-color);\n",
              "      border-top-color: var(--fill-color);\n",
              "    }\n",
              "    30% {\n",
              "      border-color: transparent;\n",
              "      border-left-color: var(--fill-color);\n",
              "      border-top-color: var(--fill-color);\n",
              "      border-right-color: var(--fill-color);\n",
              "    }\n",
              "    40% {\n",
              "      border-color: transparent;\n",
              "      border-right-color: var(--fill-color);\n",
              "      border-top-color: var(--fill-color);\n",
              "    }\n",
              "    60% {\n",
              "      border-color: transparent;\n",
              "      border-right-color: var(--fill-color);\n",
              "    }\n",
              "    80% {\n",
              "      border-color: transparent;\n",
              "      border-right-color: var(--fill-color);\n",
              "      border-bottom-color: var(--fill-color);\n",
              "    }\n",
              "    90% {\n",
              "      border-color: transparent;\n",
              "      border-bottom-color: var(--fill-color);\n",
              "    }\n",
              "  }\n",
              "</style>\n",
              "\n",
              "  <script>\n",
              "    async function quickchart(key) {\n",
              "      const quickchartButtonEl =\n",
              "        document.querySelector('#' + key + ' button');\n",
              "      quickchartButtonEl.disabled = true;  // To prevent multiple clicks.\n",
              "      quickchartButtonEl.classList.add('colab-df-spinner');\n",
              "      try {\n",
              "        const charts = await google.colab.kernel.invokeFunction(\n",
              "            'suggestCharts', [key], {});\n",
              "      } catch (error) {\n",
              "        console.error('Error during call to suggestCharts:', error);\n",
              "      }\n",
              "      quickchartButtonEl.classList.remove('colab-df-spinner');\n",
              "      quickchartButtonEl.classList.add('colab-df-quickchart-complete');\n",
              "    }\n",
              "    (() => {\n",
              "      let quickchartButtonEl =\n",
              "        document.querySelector('#df-7382db81-b449-46fc-a25a-298d851b93fe button');\n",
              "      quickchartButtonEl.style.display =\n",
              "        google.colab.kernel.accessAllowed ? 'block' : 'none';\n",
              "    })();\n",
              "  </script>\n",
              "</div>\n",
              "\n",
              "    </div>\n",
              "  </div>\n"
            ],
            "application/vnd.google.colaboratory.intrinsic+json": {
              "type": "dataframe",
              "variable_name": "final_df",
              "summary": "{\n  \"name\": \"final_df\",\n  \"rows\": 32,\n  \"fields\": [\n    {\n      \"column\": \"name\",\n      \"properties\": {\n        \"dtype\": \"string\",\n        \"num_unique_values\": 32,\n        \"samples\": [\n          \"Coco's Friend Hub\",\n          \"Paw palace | Luxury Pet Boarding\",\n          \"Spar Pet Home\"\n        ],\n        \"semantic_type\": \"\",\n        \"description\": \"\"\n      }\n    },\n    {\n      \"column\": \"formatted_address\",\n      \"properties\": {\n        \"dtype\": \"string\",\n        \"num_unique_values\": 32,\n        \"samples\": [\n          \"7th H Cross Rd, Dodda Nekkundi Extension, Chinnapanna Halli, Bengaluru, Karnataka 560037, India\",\n          \"Muthsandra-Janathagondanahalli Road,Muthsandra Village Post, hobli, Anugondanahalli, Bengaluru, Gullakaipura, Karnataka 562125, India\",\n          \"next to KC Krishna Reddy layout, near Diamond Pre University College, T.C.Palya, KR Puram, Bengaluru, Kithiganur, Karnataka 560036, India\"\n        ],\n        \"semantic_type\": \"\",\n        \"description\": \"\"\n      }\n    },\n    {\n      \"column\": \"rating\",\n      \"properties\": {\n        \"dtype\": \"number\",\n        \"std\": 0.25508932654293687,\n        \"min\": 4.2,\n        \"max\": 5.0,\n        \"num_unique_values\": 8,\n        \"samples\": [\n          4.9,\n          4.2,\n          5.0\n        ],\n        \"semantic_type\": \"\",\n        \"description\": \"\"\n      }\n    },\n    {\n      \"column\": \"user_ratings_total\",\n      \"properties\": {\n        \"dtype\": \"number\",\n        \"std\": 133,\n        \"min\": 9,\n        \"max\": 664,\n        \"num_unique_values\": 28,\n        \"samples\": [\n          76,\n          98,\n          38\n        ],\n        \"semantic_type\": \"\",\n        \"description\": \"\"\n      }\n    },\n    {\n      \"column\": \"very_negative\",\n      \"properties\": {\n        \"dtype\": \"number\",\n        \"std\": 0.07155366439126726,\n        \"min\": 0.0034557272075892,\n        \"max\": 0.3649794683133436,\n        \"num_unique_values\": 32,\n        \"samples\": [\n          0.0127100828649486,\n          0.0097104905350945,\n          0.1885254412924938\n        ],\n        \"semantic_type\": \"\",\n        \"description\": \"\"\n      }\n    },\n    {\n      \"column\": \"negative\",\n      \"properties\": {\n        \"dtype\": \"number\",\n        \"std\": 0.02966648130210978,\n        \"min\": 0.0020546862617713,\n        \"max\": 0.1597790821980063,\n        \"num_unique_values\": 32,\n        \"samples\": [\n          0.0186751220969163,\n          0.0129513884306071,\n          0.0285795195355821\n        ],\n        \"semantic_type\": \"\",\n        \"description\": \"\"\n      }\n    },\n    {\n      \"column\": \"neutral\",\n      \"properties\": {\n        \"dtype\": \"number\",\n        \"std\": 0.04132721144300985,\n        \"min\": 0.0092352991673307,\n        \"max\": 0.2260789479388146,\n        \"num_unique_values\": 32,\n        \"samples\": [\n          0.0600943803879273,\n          0.0630491803498665,\n          0.0388725458052401\n        ],\n        \"semantic_type\": \"\",\n        \"description\": \"\"\n      }\n    },\n    {\n      \"column\": \"positive\",\n      \"properties\": {\n        \"dtype\": \"number\",\n        \"std\": 0.07510517154708858,\n        \"min\": 0.1582937996771051,\n        \"max\": 0.4156450903921534,\n        \"num_unique_values\": 32,\n        \"samples\": [\n          0.3632215149951128,\n          0.3582413313236631,\n          0.2549328290926927\n        ],\n        \"semantic_type\": \"\",\n        \"description\": \"\"\n      }\n    },\n    {\n      \"column\": \"very_positive\",\n      \"properties\": {\n        \"dtype\": \"number\",\n        \"std\": 0.11564943378431694,\n        \"min\": 0.3298411520007863,\n        \"max\": 0.8269604876862034,\n        \"num_unique_values\": 32,\n        \"samples\": [\n          0.5452988996550948,\n          0.5560476093607688,\n          0.4890896642739911\n        ],\n        \"semantic_type\": \"\",\n        \"description\": \"\"\n      }\n    },\n    {\n      \"column\": \"Important_keys\",\n      \"properties\": {\n        \"dtype\": \"string\",\n        \"num_unique_values\": 32,\n        \"samples\": [\n          \"'kitten was comforted', 'boarded my kitten', 'kitten for days', 'ananya is very', 'boarding centre ananya'\",\n          \"'paw palace is', 'paw palace', 'paw palace my', 'keeping my pet', 'pet trixie for'\",\n          \"'pet boarding to', 'pet boarding', 'pet parent', 'any pet parent', 'pet parent we'\"\n        ],\n        \"semantic_type\": \"\",\n        \"description\": \"\"\n      }\n    },\n    {\n      \"column\": \"weighted_rating\",\n      \"properties\": {\n        \"dtype\": \"number\",\n        \"std\": 601.6499622342309,\n        \"min\": 42.300000000000004,\n        \"max\": 3054.3999999999996,\n        \"num_unique_values\": 30,\n        \"samples\": [\n          490.0,\n          517.5,\n          944.7\n        ],\n        \"semantic_type\": \"\",\n        \"description\": \"\"\n      }\n    }\n  ]\n}"
            }
          },
          "metadata": {},
          "execution_count": 78
        }
      ]
    },
    {
      "cell_type": "code",
      "source": [
        "for i in df.summerized_review:\n",
        "  vector_store = PineconeVectorStore(\n",
        "    pinecone_index=pc, text_key=i\n",
        ")"
      ],
      "metadata": {
        "id": "OIMqIV14_UJe"
      },
      "execution_count": null,
      "outputs": []
    },
    {
      "cell_type": "code",
      "source": [
        "final_path=\"/content/test/final.csv\"\n",
        "temp=final_path.split(\"/\")[:-1]\n",
        "\n",
        "final_path_dir=\"\"\n",
        "for i in temp:\n",
        "  if len(i)>0:\n",
        "    final_path_dir=final_path_dir+\"/\"+i"
      ],
      "metadata": {
        "id": "qKY_inYxv38w"
      },
      "execution_count": null,
      "outputs": []
    },
    {
      "cell_type": "code",
      "source": [
        "from llama_index.core import VectorStoreIndex, SimpleDirectoryReader\n",
        "import os\n",
        "\n",
        "isExist = os.path.exists(final_path_dir)\n",
        "if not isExist:\n",
        "   # Create a new directory because it does not exist\n",
        "   os.makedirs(final_path_dir)\n",
        "   print(f\"Created the path {final_path_dir} as it did not exist\")\n",
        "\n",
        "final_df.to_csv(final_path)\n",
        "documents = SimpleDirectoryReader(final_path_dir).load_data()"
      ],
      "metadata": {
        "id": "KgCOjolEg5Y7",
        "colab": {
          "base_uri": "https://localhost:8080/"
        },
        "outputId": "30afd875-3d02-4469-96ad-f649552f4f86"
      },
      "execution_count": null,
      "outputs": [
        {
          "output_type": "stream",
          "name": "stdout",
          "text": [
            "Created the path /content/test as it did not exist\n"
          ]
        }
      ]
    },
    {
      "cell_type": "code",
      "source": [
        "!pip install -q pinecone-client"
      ],
      "metadata": {
        "id": "6hPJNxL9eyiH"
      },
      "execution_count": null,
      "outputs": []
    },
    {
      "cell_type": "code",
      "source": [
        "from llama_index.core import StorageContext\n",
        "vector_store = PineconeVectorStore(pinecone_index=pc)\n",
        "storage_context = StorageContext.from_defaults(vector_store=vector_store)\n",
        "\n",
        "#pc.upsert(documents,  namespace = \"example_namespace\")\n",
        "index = VectorStoreIndex.from_documents(\n",
        "    documents\n",
        ")"
      ],
      "metadata": {
        "colab": {
          "base_uri": "https://localhost:8080/",
          "height": 686
        },
        "id": "HhwAglzlGoP6",
        "outputId": "2f275566-7336-4960-9cf9-f2371678d618"
      },
      "execution_count": null,
      "outputs": [
        {
          "output_type": "error",
          "ename": "ValueError",
          "evalue": "\n******\nCould not load OpenAI embedding model. If you intended to use OpenAI, please check your OPENAI_API_KEY.\nOriginal error:\nNo API key found for OpenAI.\nPlease set either the OPENAI_API_KEY environment variable or openai.api_key prior to initialization.\nAPI keys can be found or created at https://platform.openai.com/account/api-keys\n\nConsider using embed_model='local'.\nVisit our documentation for more embedding options: https://docs.llamaindex.ai/en/stable/module_guides/models/embeddings.html#modules\n******",
          "traceback": [
            "\u001b[0;31m---------------------------------------------------------------------------\u001b[0m",
            "\u001b[0;31mValueError\u001b[0m                                Traceback (most recent call last)",
            "\u001b[0;32m/usr/local/lib/python3.10/dist-packages/llama_index/core/embeddings/utils.py\u001b[0m in \u001b[0;36mresolve_embed_model\u001b[0;34m(embed_model, callback_manager)\u001b[0m\n\u001b[1;32m     58\u001b[0m             \u001b[0membed_model\u001b[0m \u001b[0;34m=\u001b[0m \u001b[0mOpenAIEmbedding\u001b[0m\u001b[0;34m(\u001b[0m\u001b[0;34m)\u001b[0m\u001b[0;34m\u001b[0m\u001b[0;34m\u001b[0m\u001b[0m\n\u001b[0;32m---> 59\u001b[0;31m             \u001b[0mvalidate_openai_api_key\u001b[0m\u001b[0;34m(\u001b[0m\u001b[0membed_model\u001b[0m\u001b[0;34m.\u001b[0m\u001b[0mapi_key\u001b[0m\u001b[0;34m)\u001b[0m  \u001b[0;31m# type: ignore\u001b[0m\u001b[0;34m\u001b[0m\u001b[0;34m\u001b[0m\u001b[0m\n\u001b[0m\u001b[1;32m     60\u001b[0m         \u001b[0;32mexcept\u001b[0m \u001b[0mImportError\u001b[0m\u001b[0;34m:\u001b[0m\u001b[0;34m\u001b[0m\u001b[0;34m\u001b[0m\u001b[0m\n",
            "\u001b[0;32m/usr/local/lib/python3.10/dist-packages/llama_index/embeddings/openai/utils.py\u001b[0m in \u001b[0;36mvalidate_openai_api_key\u001b[0;34m(api_key)\u001b[0m\n\u001b[1;32m    102\u001b[0m     \u001b[0;32mif\u001b[0m \u001b[0;32mnot\u001b[0m \u001b[0mopenai_api_key\u001b[0m\u001b[0;34m:\u001b[0m\u001b[0;34m\u001b[0m\u001b[0;34m\u001b[0m\u001b[0m\n\u001b[0;32m--> 103\u001b[0;31m         \u001b[0;32mraise\u001b[0m \u001b[0mValueError\u001b[0m\u001b[0;34m(\u001b[0m\u001b[0mMISSING_API_KEY_ERROR_MESSAGE\u001b[0m\u001b[0;34m)\u001b[0m\u001b[0;34m\u001b[0m\u001b[0;34m\u001b[0m\u001b[0m\n\u001b[0m",
            "\u001b[0;31mValueError\u001b[0m: No API key found for OpenAI.\nPlease set either the OPENAI_API_KEY environment variable or openai.api_key prior to initialization.\nAPI keys can be found or created at https://platform.openai.com/account/api-keys\n",
            "\nDuring handling of the above exception, another exception occurred:\n",
            "\u001b[0;31mValueError\u001b[0m                                Traceback (most recent call last)",
            "\u001b[0;32m<ipython-input-34-3f7ea3b818f3>\u001b[0m in \u001b[0;36m<cell line: 6>\u001b[0;34m()\u001b[0m\n\u001b[1;32m      4\u001b[0m \u001b[0;34m\u001b[0m\u001b[0m\n\u001b[1;32m      5\u001b[0m \u001b[0;31m#pc.upsert(documents,  namespace = \"example_namespace\")\u001b[0m\u001b[0;34m\u001b[0m\u001b[0;34m\u001b[0m\u001b[0m\n\u001b[0;32m----> 6\u001b[0;31m index = VectorStoreIndex.from_documents(\n\u001b[0m\u001b[1;32m      7\u001b[0m     \u001b[0mdocuments\u001b[0m\u001b[0;34m\u001b[0m\u001b[0;34m\u001b[0m\u001b[0m\n\u001b[1;32m      8\u001b[0m )\n",
            "\u001b[0;32m/usr/local/lib/python3.10/dist-packages/llama_index/core/indices/base.py\u001b[0m in \u001b[0;36mfrom_documents\u001b[0;34m(cls, documents, storage_context, show_progress, callback_manager, transformations, **kwargs)\u001b[0m\n\u001b[1;32m    117\u001b[0m             )\n\u001b[1;32m    118\u001b[0m \u001b[0;34m\u001b[0m\u001b[0m\n\u001b[0;32m--> 119\u001b[0;31m             return cls(\n\u001b[0m\u001b[1;32m    120\u001b[0m                 \u001b[0mnodes\u001b[0m\u001b[0;34m=\u001b[0m\u001b[0mnodes\u001b[0m\u001b[0;34m,\u001b[0m\u001b[0;34m\u001b[0m\u001b[0;34m\u001b[0m\u001b[0m\n\u001b[1;32m    121\u001b[0m                 \u001b[0mstorage_context\u001b[0m\u001b[0;34m=\u001b[0m\u001b[0mstorage_context\u001b[0m\u001b[0;34m,\u001b[0m\u001b[0;34m\u001b[0m\u001b[0;34m\u001b[0m\u001b[0m\n",
            "\u001b[0;32m/usr/local/lib/python3.10/dist-packages/llama_index/core/indices/vector_store/base.py\u001b[0m in \u001b[0;36m__init__\u001b[0;34m(self, nodes, use_async, store_nodes_override, embed_model, insert_batch_size, objects, index_struct, storage_context, callback_manager, transformations, show_progress, **kwargs)\u001b[0m\n\u001b[1;32m     70\u001b[0m             \u001b[0mresolve_embed_model\u001b[0m\u001b[0;34m(\u001b[0m\u001b[0membed_model\u001b[0m\u001b[0;34m,\u001b[0m \u001b[0mcallback_manager\u001b[0m\u001b[0;34m=\u001b[0m\u001b[0mcallback_manager\u001b[0m\u001b[0;34m)\u001b[0m\u001b[0;34m\u001b[0m\u001b[0;34m\u001b[0m\u001b[0m\n\u001b[1;32m     71\u001b[0m             \u001b[0;32mif\u001b[0m \u001b[0membed_model\u001b[0m\u001b[0;34m\u001b[0m\u001b[0;34m\u001b[0m\u001b[0m\n\u001b[0;32m---> 72\u001b[0;31m             \u001b[0;32melse\u001b[0m \u001b[0mSettings\u001b[0m\u001b[0;34m.\u001b[0m\u001b[0membed_model\u001b[0m\u001b[0;34m\u001b[0m\u001b[0;34m\u001b[0m\u001b[0m\n\u001b[0m\u001b[1;32m     73\u001b[0m         )\n\u001b[1;32m     74\u001b[0m \u001b[0;34m\u001b[0m\u001b[0m\n",
            "\u001b[0;32m/usr/local/lib/python3.10/dist-packages/llama_index/core/settings.py\u001b[0m in \u001b[0;36membed_model\u001b[0;34m(self)\u001b[0m\n\u001b[1;32m     62\u001b[0m         \u001b[0;34m\"\"\"Get the embedding model.\"\"\"\u001b[0m\u001b[0;34m\u001b[0m\u001b[0;34m\u001b[0m\u001b[0m\n\u001b[1;32m     63\u001b[0m         \u001b[0;32mif\u001b[0m \u001b[0mself\u001b[0m\u001b[0;34m.\u001b[0m\u001b[0m_embed_model\u001b[0m \u001b[0;32mis\u001b[0m \u001b[0;32mNone\u001b[0m\u001b[0;34m:\u001b[0m\u001b[0;34m\u001b[0m\u001b[0;34m\u001b[0m\u001b[0m\n\u001b[0;32m---> 64\u001b[0;31m             \u001b[0mself\u001b[0m\u001b[0;34m.\u001b[0m\u001b[0m_embed_model\u001b[0m \u001b[0;34m=\u001b[0m \u001b[0mresolve_embed_model\u001b[0m\u001b[0;34m(\u001b[0m\u001b[0;34m\"default\"\u001b[0m\u001b[0;34m)\u001b[0m\u001b[0;34m\u001b[0m\u001b[0;34m\u001b[0m\u001b[0m\n\u001b[0m\u001b[1;32m     65\u001b[0m \u001b[0;34m\u001b[0m\u001b[0m\n\u001b[1;32m     66\u001b[0m         \u001b[0;32mif\u001b[0m \u001b[0mself\u001b[0m\u001b[0;34m.\u001b[0m\u001b[0m_callback_manager\u001b[0m \u001b[0;32mis\u001b[0m \u001b[0;32mnot\u001b[0m \u001b[0;32mNone\u001b[0m\u001b[0;34m:\u001b[0m\u001b[0;34m\u001b[0m\u001b[0;34m\u001b[0m\u001b[0m\n",
            "\u001b[0;32m/usr/local/lib/python3.10/dist-packages/llama_index/core/embeddings/utils.py\u001b[0m in \u001b[0;36mresolve_embed_model\u001b[0;34m(embed_model, callback_manager)\u001b[0m\n\u001b[1;32m     64\u001b[0m             )\n\u001b[1;32m     65\u001b[0m         \u001b[0;32mexcept\u001b[0m \u001b[0mValueError\u001b[0m \u001b[0;32mas\u001b[0m \u001b[0me\u001b[0m\u001b[0;34m:\u001b[0m\u001b[0;34m\u001b[0m\u001b[0;34m\u001b[0m\u001b[0m\n\u001b[0;32m---> 66\u001b[0;31m             raise ValueError(\n\u001b[0m\u001b[1;32m     67\u001b[0m                 \u001b[0;34m\"\\n******\\n\"\u001b[0m\u001b[0;34m\u001b[0m\u001b[0;34m\u001b[0m\u001b[0m\n\u001b[1;32m     68\u001b[0m                 \u001b[0;34m\"Could not load OpenAI embedding model. \"\u001b[0m\u001b[0;34m\u001b[0m\u001b[0;34m\u001b[0m\u001b[0m\n",
            "\u001b[0;31mValueError\u001b[0m: \n******\nCould not load OpenAI embedding model. If you intended to use OpenAI, please check your OPENAI_API_KEY.\nOriginal error:\nNo API key found for OpenAI.\nPlease set either the OPENAI_API_KEY environment variable or openai.api_key prior to initialization.\nAPI keys can be found or created at https://platform.openai.com/account/api-keys\n\nConsider using embed_model='local'.\nVisit our documentation for more embedding options: https://docs.llamaindex.ai/en/stable/module_guides/models/embeddings.html#modules\n******"
          ]
        }
      ]
    },
    {
      "cell_type": "code",
      "source": [
        "#We are not going to use this for now as this will incur cost due to charges for calling Open AI API\n",
        "#!pip install llama-index-embeddings-openai\n",
        "#from llama_index.embeddings.openai import OpenAIEmbedding"
      ],
      "metadata": {
        "id": "dPAxShyLnDj5"
      },
      "execution_count": null,
      "outputs": []
    },
    {
      "cell_type": "code",
      "source": [
        "#Plan is to run the code without calling OpenAI API. Hence don't run this unless really necessary\n",
        "#os.environ['OPENAI_API_KEY']=userdata.get('openai-secret')"
      ],
      "metadata": {
        "id": "N4f4YR1__h4B"
      },
      "execution_count": null,
      "outputs": []
    },
    {
      "cell_type": "code",
      "source": [
        "#We are not going to use this for now as this will incur cost due to charges for calling Open AI API\n",
        "#embed_model = OpenAIEmbedding(\n",
        "#    input=documents,\n",
        "#    model=\"text-embedding-ada-002\"\n",
        "#)"
      ],
      "metadata": {
        "id": "phIe9_Dak6Ri"
      },
      "execution_count": null,
      "outputs": []
    },
    {
      "cell_type": "code",
      "source": [
        "#We are not going to use this for now as this will incur cost due to charges for calling Open AI API from above cells\n",
        "#from llama_index.core import Settings\n",
        "#Settings.embed_model = embed_model"
      ],
      "metadata": {
        "id": "lnhocDN7miNV"
      },
      "execution_count": null,
      "outputs": []
    },
    {
      "cell_type": "code",
      "source": [
        "#We are not going to use this for now as this will incur cost due to charges for calling Open AI API from above cells\n",
        "#embed_model.get_text_embedding(\"which store is in munnekolala\")"
      ],
      "metadata": {
        "id": "lfK3hCtinf3P"
      },
      "execution_count": null,
      "outputs": []
    },
    {
      "cell_type": "code",
      "source": [
        "!pip install -q langchain,\n",
        "!pip install -q langchain-community"
      ],
      "metadata": {
        "id": "ucLFmvs3xeJ0",
        "colab": {
          "base_uri": "https://localhost:8080/"
        },
        "outputId": "827d912b-0d55-4851-965d-60b1cae2b40a"
      },
      "execution_count": null,
      "outputs": [
        {
          "output_type": "stream",
          "name": "stdout",
          "text": [
            "\u001b[31mERROR: Invalid requirement: 'langchain,': Expected end or semicolon (after name and no valid version specifier)\n",
            "    langchain,\n",
            "             ^\u001b[0m\u001b[31m\n",
            "\u001b[2K   \u001b[90m━━━━━━━━━━━━━━━━━━━━━━━━━━━━━━━━━━━━━━━━\u001b[0m \u001b[32m2.4/2.4 MB\u001b[0m \u001b[31m36.1 MB/s\u001b[0m eta \u001b[36m0:00:00\u001b[0m\n",
            "\u001b[?25h"
          ]
        }
      ]
    },
    {
      "cell_type": "code",
      "source": [
        "from langchain.docstore.document import Document\n",
        "new_doc_list=[]\n",
        "for index, row in enumerate(documents):\n",
        "  document_content=Document(page_content=row.get_text(), metadata={\"doc_id\": index})\n",
        "  new_doc_list.append(document_content)"
      ],
      "metadata": {
        "id": "UhkOi7n9pgBa"
      },
      "execution_count": null,
      "outputs": []
    },
    {
      "cell_type": "code",
      "source": [
        "from langchain.text_splitter import RecursiveCharacterTextSplitter\n",
        "from llama_index.core import Document\n",
        "text_splitter = RecursiveCharacterTextSplitter(chunk_size=100, chunk_overlap=0)\n",
        "splitted_document = text_splitter.split_documents(new_doc_list)"
      ],
      "metadata": {
        "id": "tVbe8KIG0F_7"
      },
      "execution_count": null,
      "outputs": []
    },
    {
      "cell_type": "code",
      "source": [
        "from google.colab import userdata\n",
        "import os\n",
        "os.environ['HF_TOKEN']=userdata.get('huggingface')"
      ],
      "metadata": {
        "id": "OWaGuVqv5MZM"
      },
      "execution_count": null,
      "outputs": []
    },
    {
      "cell_type": "code",
      "source": [
        "!pip install -q chromadb\n",
        "!pip install -q sentence-transformers"
      ],
      "metadata": {
        "id": "f1r8Ak_P_FmJ"
      },
      "execution_count": null,
      "outputs": []
    },
    {
      "cell_type": "code",
      "source": [
        "from langchain.vectorstores import Chroma\n",
        "from langchain.embeddings import SentenceTransformerEmbeddings\n",
        "\n",
        "embedding = SentenceTransformerEmbeddings(model_name=\"all-MiniLM-L6-v2\")\n",
        "db = Chroma.from_documents(documents=splitted_document, embedding=embedding, persist_directory=final_path_dir)\n",
        "\n",
        "# Persist the embedding locally\n",
        "db.persist()\n"
      ],
      "metadata": {
        "id": "jgTDTv0ioXet"
      },
      "execution_count": null,
      "outputs": []
    },
    {
      "cell_type": "code",
      "source": [
        "query_string=\"which store is in munnekolala?\"\n",
        "query_string1=\"which store is in munnekollal and has the highest rating?\"\n",
        "query=\"which store is in kadubeesanhalli\""
      ],
      "metadata": {
        "id": "EVM1rPjeINc7"
      },
      "execution_count": null,
      "outputs": []
    },
    {
      "cell_type": "code",
      "source": [
        "# Check for Similarity Search\n",
        "matched_embeddings=db.similarity_search(query_string1)\n",
        "\n",
        "for i in matched_embeddings:\n",
        "  print(i)"
      ],
      "metadata": {
        "colab": {
          "base_uri": "https://localhost:8080/"
        },
        "id": "m_4D-9ALpHL7",
        "outputId": "11d9db7f-f592-495d-f3aa-caf8498bd209"
      },
      "execution_count": null,
      "outputs": [
        {
          "output_type": "stream",
          "name": "stdout",
          "text": [
            "page_content='13, MyPetz Pet Clinic Spa & Store, 87, 4th Cross, ECC Rd, Prithvi Layout, Whitefield, Bengaluru,' metadata={'doc_id': 0}\n",
            "page_content='13, MyPetz Pet Clinic Spa & Store, 87, 4th Cross, ECC Rd, Prithvi Layout, Whitefield, Bengaluru,' metadata={'doc_id': 0}\n",
            "page_content='13, MyPetz Pet Clinic Spa & Store, 87, 4th Cross, ECC Rd, Prithvi Layout, Whitefield, Bengaluru,' metadata={'doc_id': 0}\n",
            "page_content='0.0830664383521039, 0.2825632227846323, 0.5877732034539898, 'muffin pet boarding', 'best pet' metadata={'doc_id': 0}\n"
          ]
        }
      ]
    },
    {
      "cell_type": "code",
      "source": [
        "embedding.embed_query(query_string)"
      ],
      "metadata": {
        "id": "CH2hczvX7717"
      },
      "execution_count": null,
      "outputs": []
    },
    {
      "cell_type": "markdown",
      "source": [
        "***Some play around with Tokenizers***"
      ],
      "metadata": {
        "id": "FVhugBstsad4"
      }
    },
    {
      "cell_type": "code",
      "source": [
        "from transformers import AutoTokenizer\n",
        "\n",
        "Atokenizer=AutoTokenizer.from_pretrained(\"bert-large-uncased\")\n",
        "Atoken=Atokenizer.tokenize(query_string)\n",
        "Atoken"
      ],
      "metadata": {
        "id": "IeV5GMN5y0YJ",
        "colab": {
          "base_uri": "https://localhost:8080/"
        },
        "outputId": "707235f9-fc77-4af5-87c4-a5421cff1810"
      },
      "execution_count": null,
      "outputs": [
        {
          "output_type": "execute_result",
          "data": {
            "text/plain": [
              "['which', 'store', 'is', 'in', 'mu', '##nne', '##ko', '##lal', '##a', '?']"
            ]
          },
          "metadata": {},
          "execution_count": 69
        }
      ]
    },
    {
      "cell_type": "code",
      "source": [
        "# Comparison againt BertTokenizer\n",
        "\n",
        "from transformers import BertTokenizer\n",
        "Btokenizer=BertTokenizer.from_pretrained(\"bert-large-uncased\")\n",
        "Btoken=Btokenizer.tokenize(query_string)\n",
        "Btoken"
      ],
      "metadata": {
        "colab": {
          "base_uri": "https://localhost:8080/"
        },
        "id": "t_Jd8TFyjAf2",
        "outputId": "ffd732ac-7b21-4e1e-bada-344949852e1a"
      },
      "execution_count": null,
      "outputs": [
        {
          "output_type": "stream",
          "name": "stderr",
          "text": [
            "/usr/local/lib/python3.10/dist-packages/transformers/tokenization_utils_base.py:1601: FutureWarning: `clean_up_tokenization_spaces` was not set. It will be set to `True` by default. This behavior will be depracted in transformers v4.45, and will be then set to `False` by default. For more details check this issue: https://github.com/huggingface/transformers/issues/31884\n",
            "  warnings.warn(\n"
          ]
        },
        {
          "output_type": "execute_result",
          "data": {
            "text/plain": [
              "['which', 'store', 'is', 'in', 'mu', '##nne', '##ko', '##lal', '##a', '?']"
            ]
          },
          "metadata": {},
          "execution_count": 68
        }
      ]
    },
    {
      "cell_type": "code",
      "source": [
        "Aids = Atokenizer.convert_tokens_to_ids(Btoken)\n",
        "Aids"
      ],
      "metadata": {
        "colab": {
          "base_uri": "https://localhost:8080/"
        },
        "id": "43tDYjCDq6Q8",
        "outputId": "e32b59ac-4df5-4464-ac21-08b0463cddc0"
      },
      "execution_count": null,
      "outputs": [
        {
          "output_type": "execute_result",
          "data": {
            "text/plain": [
              "[2029, 3573, 2003, 1999, 14163, 10087, 3683, 13837, 2050, 1029]"
            ]
          },
          "metadata": {},
          "execution_count": 71
        }
      ]
    },
    {
      "cell_type": "code",
      "source": [
        "Bids = Btokenizer.convert_tokens_to_ids(Atoken)\n",
        "Bids"
      ],
      "metadata": {
        "colab": {
          "base_uri": "https://localhost:8080/"
        },
        "id": "dNUDxH68r3XK",
        "outputId": "21ba866e-7f6f-419f-bfa9-b42bc1e7feda"
      },
      "execution_count": null,
      "outputs": [
        {
          "output_type": "execute_result",
          "data": {
            "text/plain": [
              "[2029, 3573, 2003, 1999, 14163, 10087, 3683, 13837, 2050, 1029]"
            ]
          },
          "metadata": {},
          "execution_count": 73
        }
      ]
    },
    {
      "cell_type": "code",
      "source": [
        "Atokenizer.decode([2029, 3573, 2003, 1999, 14163, 10087, 3683, 13837, 2050, 1029])"
      ],
      "metadata": {
        "colab": {
          "base_uri": "https://localhost:8080/",
          "height": 35
        },
        "id": "kGarn06KsCu7",
        "outputId": "27e5b656-8fc6-4511-a8a0-851f4c9d63b6"
      },
      "execution_count": null,
      "outputs": [
        {
          "output_type": "execute_result",
          "data": {
            "text/plain": [
              "'which store is in munnekolala?'"
            ],
            "application/vnd.google.colaboratory.intrinsic+json": {
              "type": "string"
            }
          },
          "metadata": {},
          "execution_count": 75
        }
      ]
    },
    {
      "cell_type": "code",
      "source": [
        "Btokenizer.decode([2029, 3573, 2003, 1999, 14163, 10087, 3683, 13837, 2050, 1029])"
      ],
      "metadata": {
        "colab": {
          "base_uri": "https://localhost:8080/",
          "height": 35
        },
        "id": "tqDUA0HZsPeR",
        "outputId": "9ac35ba7-8691-4183-cb54-43179e117e48"
      },
      "execution_count": null,
      "outputs": [
        {
          "output_type": "execute_result",
          "data": {
            "text/plain": [
              "'which store is in munnekolala?'"
            ],
            "application/vnd.google.colaboratory.intrinsic+json": {
              "type": "string"
            }
          },
          "metadata": {},
          "execution_count": 76
        }
      ]
    },
    {
      "cell_type": "code",
      "source": [
        "import os\n",
        "from os.path import join\n",
        "for dirname, _, filenames in os.walk('./sample_data/',topdown=True):\n",
        "    for filename in filenames:\n",
        "        print(os.path.join(dirname, filename))"
      ],
      "metadata": {
        "id": "pRrhaKUiWVU1",
        "colab": {
          "base_uri": "https://localhost:8080/"
        },
        "outputId": "49dc7bb6-889d-46e2-ddbd-187eac14ca5c"
      },
      "execution_count": 20,
      "outputs": [
        {
          "output_type": "stream",
          "name": "stdout",
          "text": [
            "./sample_data/README.md\n",
            "./sample_data/anscombe.json\n",
            "./sample_data/mnist_train_small.csv\n",
            "./sample_data/mnist_test.csv\n",
            "./sample_data/california_housing_train.csv\n",
            "./sample_data/california_housing_test.csv\n"
          ]
        }
      ]
    },
    {
      "cell_type": "code",
      "source": [
        "kaggle kernels output erichilarysmith/erichilarysmithnflsuperbowl2025-1 -p ."
      ],
      "metadata": {
        "colab": {
          "base_uri": "https://localhost:8080/",
          "height": 106
        },
        "id": "_RMScu6r4JnV",
        "outputId": "bda3c590-141e-4814-f6e6-496d6e0e73f3"
      },
      "execution_count": 21,
      "outputs": [
        {
          "output_type": "error",
          "ename": "SyntaxError",
          "evalue": "invalid syntax (<ipython-input-21-d3da3549ee7e>, line 1)",
          "traceback": [
            "\u001b[0;36m  File \u001b[0;32m\"<ipython-input-21-d3da3549ee7e>\"\u001b[0;36m, line \u001b[0;32m1\u001b[0m\n\u001b[0;31m    kaggle kernels output erichilarysmith/erichilarysmithnflsuperbowl2025-1 -p .\u001b[0m\n\u001b[0m           ^\u001b[0m\n\u001b[0;31mSyntaxError\u001b[0m\u001b[0;31m:\u001b[0m invalid syntax\n"
          ]
        }
      ]
    },
    {
      "cell_type": "code",
      "source": [],
      "metadata": {
        "id": "9775DlUH-NEf"
      },
      "execution_count": null,
      "outputs": []
    }
  ]
}